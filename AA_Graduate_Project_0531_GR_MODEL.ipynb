{
  "cells": [
    {
      "cell_type": "markdown",
      "metadata": {
        "id": "view-in-github",
        "colab_type": "text"
      },
      "source": [
        "<a href=\"https://colab.research.google.com/github/ArifAygun/Iron-Ore-Froth-Flotation-Quality-Prediction/blob/main/AA_Graduate_Project_0531_GR_MODEL.ipynb\" target=\"_parent\"><img src=\"https://colab.research.google.com/assets/colab-badge.svg\" alt=\"Open In Colab\"/></a>"
      ]
    },
    {
      "cell_type": "markdown",
      "metadata": {
        "id": "I99UP0oywvLl"
      },
      "source": [
        "# **Quality Prediction of Iron Ore Mining Flotation Process - Part:2**"
      ]
    },
    {
      "cell_type": "markdown",
      "metadata": {
        "id": "EqreFAOj7nZR"
      },
      "source": [
        "## **5. Modelling**"
      ]
    },
    {
      "cell_type": "code",
      "execution_count": 6,
      "metadata": {
        "colab": {
          "base_uri": "https://localhost:8080/"
        },
        "id": "ZWQKrdQ173zL",
        "outputId": "3d11ffa4-e3ba-4eb1-a013-57d6299378bf"
      },
      "outputs": [
        {
          "output_type": "stream",
          "name": "stdout",
          "text": [
            "Drive already mounted at /content/drive/; to attempt to forcibly remount, call drive.mount(\"/content/drive/\", force_remount=True).\n",
            "/content/drive/My Drive/Flotation\n"
          ]
        }
      ],
      "source": [
        "import pandas as pd\n",
        "import numpy as np\n",
        "import seaborn as sns\n",
        "import matplotlib.pyplot as plt\n",
        "from sklearn.preprocessing import StandardScaler\n",
        "from sklearn.model_selection import train_test_split, RandomizedSearchCV\n",
        "from sklearn.dummy import DummyRegressor\n",
        "from sklearn.linear_model import LinearRegression, Lasso, Ridge, SGDRegressor\n",
        "from sklearn.metrics import mean_squared_error\n",
        "from sklearn.ensemble import RandomForestRegressor\n",
        "from google.colab import drive\n",
        "\n",
        "drive.mount('/content/drive/')\n",
        "%cd /content/drive/My Drive/Flotation/"
      ]
    },
    {
      "cell_type": "code",
      "execution_count": 3,
      "metadata": {
        "colab": {
          "base_uri": "https://localhost:8080/",
          "height": 802
        },
        "id": "1XV8YePk73zM",
        "outputId": "bd723bcf-c274-45ca-b185-044159553c82"
      },
      "outputs": [
        {
          "output_type": "execute_result",
          "data": {
            "text/plain": [
              "                                0                    1                    2  \\\n",
              "date          2017-03-10 01:00:00  2017-03-10 01:00:00  2017-03-10 01:00:00   \n",
              "iron_feed                    55.2                 55.2                 55.2   \n",
              "silica_feed                 16.98                16.98                16.98   \n",
              "starch_flow               301.953              302.441              304.346   \n",
              "amina_flow                557.434              563.965              568.054   \n",
              "pulp_flow                 395.713              397.383              399.668   \n",
              "pulp_pH                     10.07                10.07                10.07   \n",
              "pulp_density                 1.74                 1.74                 1.74   \n",
              "airflow_col1              249.214              249.719              249.741   \n",
              "airflow_col2              253.235              250.532              247.874   \n",
              "airflow_col3              250.576              250.862              250.313   \n",
              "airflow_col4              295.096              295.096              295.096   \n",
              "airflow_col5                306.4                306.4                306.4   \n",
              "airflow_col6              250.225              250.137              251.345   \n",
              "airflow_col7              250.884              248.994              248.071   \n",
              "level_col1                457.396              451.891               451.24   \n",
              "level_col2                432.962               429.56              468.927   \n",
              "level_col3                424.954              432.939               434.61   \n",
              "level_col4                443.558              448.086              449.688   \n",
              "level_col5                502.255              496.363              484.411   \n",
              "level_col6                 446.37              445.922              447.826   \n",
              "level_col7                523.344              498.075              458.567   \n",
              "iron_conc                   66.91                66.91                66.91   \n",
              "silica_conc                  1.31                 1.31                 1.31   \n",
              "\n",
              "                                3                    4  \n",
              "date          2017-03-10 01:00:00  2017-03-10 01:00:00  \n",
              "iron_feed                    55.2                 55.2  \n",
              "silica_feed                 16.98                16.98  \n",
              "starch_flow               304.736              303.369  \n",
              "amina_flow                568.665              558.167  \n",
              "pulp_flow                 397.939              400.254  \n",
              "pulp_pH                     10.07                10.07  \n",
              "pulp_density                 1.74                 1.74  \n",
              "airflow_col1              249.917              250.203  \n",
              "airflow_col2              254.487              252.136  \n",
              "airflow_col3              250.049              249.895  \n",
              "airflow_col4              295.096              295.096  \n",
              "airflow_col5                306.4                306.4  \n",
              "airflow_col6              250.422              249.983  \n",
              "airflow_col7              251.147              248.928  \n",
              "level_col1                452.441              452.441  \n",
              "level_col2                458.165                452.9  \n",
              "level_col3                442.865              450.523  \n",
              "level_col4                 446.21               453.67  \n",
              "level_col5                471.411              462.598  \n",
              "level_col6                 437.69              443.682  \n",
              "level_col7                427.669              425.679  \n",
              "iron_conc                   66.91                66.91  \n",
              "silica_conc                  1.31                 1.31  "
            ],
            "text/html": [
              "\n",
              "  <div id=\"df-a60e0893-efd6-4042-8b13-2d145a34e45f\">\n",
              "    <div class=\"colab-df-container\">\n",
              "      <div>\n",
              "<style scoped>\n",
              "    .dataframe tbody tr th:only-of-type {\n",
              "        vertical-align: middle;\n",
              "    }\n",
              "\n",
              "    .dataframe tbody tr th {\n",
              "        vertical-align: top;\n",
              "    }\n",
              "\n",
              "    .dataframe thead th {\n",
              "        text-align: right;\n",
              "    }\n",
              "</style>\n",
              "<table border=\"1\" class=\"dataframe\">\n",
              "  <thead>\n",
              "    <tr style=\"text-align: right;\">\n",
              "      <th></th>\n",
              "      <th>0</th>\n",
              "      <th>1</th>\n",
              "      <th>2</th>\n",
              "      <th>3</th>\n",
              "      <th>4</th>\n",
              "    </tr>\n",
              "  </thead>\n",
              "  <tbody>\n",
              "    <tr>\n",
              "      <th>date</th>\n",
              "      <td>2017-03-10 01:00:00</td>\n",
              "      <td>2017-03-10 01:00:00</td>\n",
              "      <td>2017-03-10 01:00:00</td>\n",
              "      <td>2017-03-10 01:00:00</td>\n",
              "      <td>2017-03-10 01:00:00</td>\n",
              "    </tr>\n",
              "    <tr>\n",
              "      <th>iron_feed</th>\n",
              "      <td>55.2</td>\n",
              "      <td>55.2</td>\n",
              "      <td>55.2</td>\n",
              "      <td>55.2</td>\n",
              "      <td>55.2</td>\n",
              "    </tr>\n",
              "    <tr>\n",
              "      <th>silica_feed</th>\n",
              "      <td>16.98</td>\n",
              "      <td>16.98</td>\n",
              "      <td>16.98</td>\n",
              "      <td>16.98</td>\n",
              "      <td>16.98</td>\n",
              "    </tr>\n",
              "    <tr>\n",
              "      <th>starch_flow</th>\n",
              "      <td>301.953</td>\n",
              "      <td>302.441</td>\n",
              "      <td>304.346</td>\n",
              "      <td>304.736</td>\n",
              "      <td>303.369</td>\n",
              "    </tr>\n",
              "    <tr>\n",
              "      <th>amina_flow</th>\n",
              "      <td>557.434</td>\n",
              "      <td>563.965</td>\n",
              "      <td>568.054</td>\n",
              "      <td>568.665</td>\n",
              "      <td>558.167</td>\n",
              "    </tr>\n",
              "    <tr>\n",
              "      <th>pulp_flow</th>\n",
              "      <td>395.713</td>\n",
              "      <td>397.383</td>\n",
              "      <td>399.668</td>\n",
              "      <td>397.939</td>\n",
              "      <td>400.254</td>\n",
              "    </tr>\n",
              "    <tr>\n",
              "      <th>pulp_pH</th>\n",
              "      <td>10.07</td>\n",
              "      <td>10.07</td>\n",
              "      <td>10.07</td>\n",
              "      <td>10.07</td>\n",
              "      <td>10.07</td>\n",
              "    </tr>\n",
              "    <tr>\n",
              "      <th>pulp_density</th>\n",
              "      <td>1.74</td>\n",
              "      <td>1.74</td>\n",
              "      <td>1.74</td>\n",
              "      <td>1.74</td>\n",
              "      <td>1.74</td>\n",
              "    </tr>\n",
              "    <tr>\n",
              "      <th>airflow_col1</th>\n",
              "      <td>249.214</td>\n",
              "      <td>249.719</td>\n",
              "      <td>249.741</td>\n",
              "      <td>249.917</td>\n",
              "      <td>250.203</td>\n",
              "    </tr>\n",
              "    <tr>\n",
              "      <th>airflow_col2</th>\n",
              "      <td>253.235</td>\n",
              "      <td>250.532</td>\n",
              "      <td>247.874</td>\n",
              "      <td>254.487</td>\n",
              "      <td>252.136</td>\n",
              "    </tr>\n",
              "    <tr>\n",
              "      <th>airflow_col3</th>\n",
              "      <td>250.576</td>\n",
              "      <td>250.862</td>\n",
              "      <td>250.313</td>\n",
              "      <td>250.049</td>\n",
              "      <td>249.895</td>\n",
              "    </tr>\n",
              "    <tr>\n",
              "      <th>airflow_col4</th>\n",
              "      <td>295.096</td>\n",
              "      <td>295.096</td>\n",
              "      <td>295.096</td>\n",
              "      <td>295.096</td>\n",
              "      <td>295.096</td>\n",
              "    </tr>\n",
              "    <tr>\n",
              "      <th>airflow_col5</th>\n",
              "      <td>306.4</td>\n",
              "      <td>306.4</td>\n",
              "      <td>306.4</td>\n",
              "      <td>306.4</td>\n",
              "      <td>306.4</td>\n",
              "    </tr>\n",
              "    <tr>\n",
              "      <th>airflow_col6</th>\n",
              "      <td>250.225</td>\n",
              "      <td>250.137</td>\n",
              "      <td>251.345</td>\n",
              "      <td>250.422</td>\n",
              "      <td>249.983</td>\n",
              "    </tr>\n",
              "    <tr>\n",
              "      <th>airflow_col7</th>\n",
              "      <td>250.884</td>\n",
              "      <td>248.994</td>\n",
              "      <td>248.071</td>\n",
              "      <td>251.147</td>\n",
              "      <td>248.928</td>\n",
              "    </tr>\n",
              "    <tr>\n",
              "      <th>level_col1</th>\n",
              "      <td>457.396</td>\n",
              "      <td>451.891</td>\n",
              "      <td>451.24</td>\n",
              "      <td>452.441</td>\n",
              "      <td>452.441</td>\n",
              "    </tr>\n",
              "    <tr>\n",
              "      <th>level_col2</th>\n",
              "      <td>432.962</td>\n",
              "      <td>429.56</td>\n",
              "      <td>468.927</td>\n",
              "      <td>458.165</td>\n",
              "      <td>452.9</td>\n",
              "    </tr>\n",
              "    <tr>\n",
              "      <th>level_col3</th>\n",
              "      <td>424.954</td>\n",
              "      <td>432.939</td>\n",
              "      <td>434.61</td>\n",
              "      <td>442.865</td>\n",
              "      <td>450.523</td>\n",
              "    </tr>\n",
              "    <tr>\n",
              "      <th>level_col4</th>\n",
              "      <td>443.558</td>\n",
              "      <td>448.086</td>\n",
              "      <td>449.688</td>\n",
              "      <td>446.21</td>\n",
              "      <td>453.67</td>\n",
              "    </tr>\n",
              "    <tr>\n",
              "      <th>level_col5</th>\n",
              "      <td>502.255</td>\n",
              "      <td>496.363</td>\n",
              "      <td>484.411</td>\n",
              "      <td>471.411</td>\n",
              "      <td>462.598</td>\n",
              "    </tr>\n",
              "    <tr>\n",
              "      <th>level_col6</th>\n",
              "      <td>446.37</td>\n",
              "      <td>445.922</td>\n",
              "      <td>447.826</td>\n",
              "      <td>437.69</td>\n",
              "      <td>443.682</td>\n",
              "    </tr>\n",
              "    <tr>\n",
              "      <th>level_col7</th>\n",
              "      <td>523.344</td>\n",
              "      <td>498.075</td>\n",
              "      <td>458.567</td>\n",
              "      <td>427.669</td>\n",
              "      <td>425.679</td>\n",
              "    </tr>\n",
              "    <tr>\n",
              "      <th>iron_conc</th>\n",
              "      <td>66.91</td>\n",
              "      <td>66.91</td>\n",
              "      <td>66.91</td>\n",
              "      <td>66.91</td>\n",
              "      <td>66.91</td>\n",
              "    </tr>\n",
              "    <tr>\n",
              "      <th>silica_conc</th>\n",
              "      <td>1.31</td>\n",
              "      <td>1.31</td>\n",
              "      <td>1.31</td>\n",
              "      <td>1.31</td>\n",
              "      <td>1.31</td>\n",
              "    </tr>\n",
              "  </tbody>\n",
              "</table>\n",
              "</div>\n",
              "      <button class=\"colab-df-convert\" onclick=\"convertToInteractive('df-a60e0893-efd6-4042-8b13-2d145a34e45f')\"\n",
              "              title=\"Convert this dataframe to an interactive table.\"\n",
              "              style=\"display:none;\">\n",
              "        \n",
              "  <svg xmlns=\"http://www.w3.org/2000/svg\" height=\"24px\"viewBox=\"0 0 24 24\"\n",
              "       width=\"24px\">\n",
              "    <path d=\"M0 0h24v24H0V0z\" fill=\"none\"/>\n",
              "    <path d=\"M18.56 5.44l.94 2.06.94-2.06 2.06-.94-2.06-.94-.94-2.06-.94 2.06-2.06.94zm-11 1L8.5 8.5l.94-2.06 2.06-.94-2.06-.94L8.5 2.5l-.94 2.06-2.06.94zm10 10l.94 2.06.94-2.06 2.06-.94-2.06-.94-.94-2.06-.94 2.06-2.06.94z\"/><path d=\"M17.41 7.96l-1.37-1.37c-.4-.4-.92-.59-1.43-.59-.52 0-1.04.2-1.43.59L10.3 9.45l-7.72 7.72c-.78.78-.78 2.05 0 2.83L4 21.41c.39.39.9.59 1.41.59.51 0 1.02-.2 1.41-.59l7.78-7.78 2.81-2.81c.8-.78.8-2.07 0-2.86zM5.41 20L4 18.59l7.72-7.72 1.47 1.35L5.41 20z\"/>\n",
              "  </svg>\n",
              "      </button>\n",
              "      \n",
              "  <style>\n",
              "    .colab-df-container {\n",
              "      display:flex;\n",
              "      flex-wrap:wrap;\n",
              "      gap: 12px;\n",
              "    }\n",
              "\n",
              "    .colab-df-convert {\n",
              "      background-color: #E8F0FE;\n",
              "      border: none;\n",
              "      border-radius: 50%;\n",
              "      cursor: pointer;\n",
              "      display: none;\n",
              "      fill: #1967D2;\n",
              "      height: 32px;\n",
              "      padding: 0 0 0 0;\n",
              "      width: 32px;\n",
              "    }\n",
              "\n",
              "    .colab-df-convert:hover {\n",
              "      background-color: #E2EBFA;\n",
              "      box-shadow: 0px 1px 2px rgba(60, 64, 67, 0.3), 0px 1px 3px 1px rgba(60, 64, 67, 0.15);\n",
              "      fill: #174EA6;\n",
              "    }\n",
              "\n",
              "    [theme=dark] .colab-df-convert {\n",
              "      background-color: #3B4455;\n",
              "      fill: #D2E3FC;\n",
              "    }\n",
              "\n",
              "    [theme=dark] .colab-df-convert:hover {\n",
              "      background-color: #434B5C;\n",
              "      box-shadow: 0px 1px 3px 1px rgba(0, 0, 0, 0.15);\n",
              "      filter: drop-shadow(0px 1px 2px rgba(0, 0, 0, 0.3));\n",
              "      fill: #FFFFFF;\n",
              "    }\n",
              "  </style>\n",
              "\n",
              "      <script>\n",
              "        const buttonEl =\n",
              "          document.querySelector('#df-a60e0893-efd6-4042-8b13-2d145a34e45f button.colab-df-convert');\n",
              "        buttonEl.style.display =\n",
              "          google.colab.kernel.accessAllowed ? 'block' : 'none';\n",
              "\n",
              "        async function convertToInteractive(key) {\n",
              "          const element = document.querySelector('#df-a60e0893-efd6-4042-8b13-2d145a34e45f');\n",
              "          const dataTable =\n",
              "            await google.colab.kernel.invokeFunction('convertToInteractive',\n",
              "                                                     [key], {});\n",
              "          if (!dataTable) return;\n",
              "\n",
              "          const docLinkHtml = 'Like what you see? Visit the ' +\n",
              "            '<a target=\"_blank\" href=https://colab.research.google.com/notebooks/data_table.ipynb>data table notebook</a>'\n",
              "            + ' to learn more about interactive tables.';\n",
              "          element.innerHTML = '';\n",
              "          dataTable['output_type'] = 'display_data';\n",
              "          await google.colab.output.renderOutput(dataTable, element);\n",
              "          const docLink = document.createElement('div');\n",
              "          docLink.innerHTML = docLinkHtml;\n",
              "          element.appendChild(docLink);\n",
              "        }\n",
              "      </script>\n",
              "    </div>\n",
              "  </div>\n",
              "  "
            ]
          },
          "metadata": {},
          "execution_count": 3
        }
      ],
      "source": [
        "flotation = pd.read_csv('Flotation_Plant_Clean.csv')\n",
        "flotation.head().T"
      ]
    },
    {
      "cell_type": "code",
      "source": [
        "flotation.info()"
      ],
      "metadata": {
        "colab": {
          "base_uri": "https://localhost:8080/"
        },
        "id": "fbCR9b8puWWU",
        "outputId": "2d8f092e-8909-44c9-9936-786527bdecf8"
      },
      "execution_count": 4,
      "outputs": [
        {
          "output_type": "stream",
          "name": "stdout",
          "text": [
            "<class 'pandas.core.frame.DataFrame'>\n",
            "RangeIndex: 726453 entries, 0 to 726452\n",
            "Data columns (total 24 columns):\n",
            " #   Column        Non-Null Count   Dtype  \n",
            "---  ------        --------------   -----  \n",
            " 0   date          726453 non-null  object \n",
            " 1   iron_feed     726453 non-null  float64\n",
            " 2   silica_feed   726453 non-null  float64\n",
            " 3   starch_flow   726453 non-null  float64\n",
            " 4   amina_flow    726453 non-null  float64\n",
            " 5   pulp_flow     726453 non-null  float64\n",
            " 6   pulp_pH       726453 non-null  float64\n",
            " 7   pulp_density  726453 non-null  float64\n",
            " 8   airflow_col1  726453 non-null  float64\n",
            " 9   airflow_col2  726453 non-null  float64\n",
            " 10  airflow_col3  726453 non-null  float64\n",
            " 11  airflow_col4  726453 non-null  float64\n",
            " 12  airflow_col5  726453 non-null  float64\n",
            " 13  airflow_col6  726453 non-null  float64\n",
            " 14  airflow_col7  726453 non-null  float64\n",
            " 15  level_col1    726453 non-null  float64\n",
            " 16  level_col2    726453 non-null  float64\n",
            " 17  level_col3    726453 non-null  float64\n",
            " 18  level_col4    726453 non-null  float64\n",
            " 19  level_col5    726453 non-null  float64\n",
            " 20  level_col6    726453 non-null  float64\n",
            " 21  level_col7    726453 non-null  float64\n",
            " 22  iron_conc     726453 non-null  float64\n",
            " 23  silica_conc   726453 non-null  float64\n",
            "dtypes: float64(23), object(1)\n",
            "memory usage: 133.0+ MB\n"
          ]
        }
      ]
    },
    {
      "cell_type": "code",
      "source": [
        "flotation.shape"
      ],
      "metadata": {
        "colab": {
          "base_uri": "https://localhost:8080/"
        },
        "id": "kh5bjeIrvXTS",
        "outputId": "8ecb5201-ae79-4f04-89d6-626fd9511a85"
      },
      "execution_count": 10,
      "outputs": [
        {
          "output_type": "execute_result",
          "data": {
            "text/plain": [
              "(726453, 24)"
            ]
          },
          "metadata": {},
          "execution_count": 10
        }
      ]
    },
    {
      "cell_type": "markdown",
      "source": [
        "### **5.1. Grouping Rows with Hourly Frequency**"
      ],
      "metadata": {
        "id": "SvQ5MkVxxLJV"
      }
    },
    {
      "cell_type": "markdown",
      "source": [
        "The importance of considering plant data as a holistic entity was emphasized in order to gain a comprehensive understanding. To achieve this, a loop-based analysis methodology was employed. Each row of data was treated as an individual iteration, representing a complete cycle of feeding 100 tons of ore to the plant, enriching it, and concluding the process. For the purpose of this study, each cycle was set at a duration of one hour. Consequently, a photograph of the plant was captured at hourly intervals and subjected to analysis. It is worth noting that if a more frequent and regular data collection scheme were in place, such as cycles occurring every minute, it would yield a larger dataset suitable for machine learning applications."
      ],
      "metadata": {
        "id": "JKvS6BpDxbDT"
      }
    },
    {
      "cell_type": "code",
      "source": [
        "flotation['date'] = pd.to_datetime(flotation['date'])\n",
        "#grouping the data according to the hours and get their average values. \n",
        "flotation_grouped = flotation.groupby(pd.Grouper(key='date',freq='H')).mean()\n",
        "# cycle_data.insert(0,'Date',cycle_data.index)\n",
        "flotation_grouped.reset_index(inplace = True)\n",
        "\n",
        "#some rows have 'null' values because of timing. We need to drop them \n",
        "print('Shape of Grouped Flotation Dataset = ', flotation_grouped.shape)\n",
        "cycle_data = flotation_grouped.dropna()\n",
        "print('Shape of Grouped Flotation Dataset after drop null values = ', flotation_grouped.shape)"
      ],
      "metadata": {
        "colab": {
          "base_uri": "https://localhost:8080/"
        },
        "id": "QAjB_U6iweXy",
        "outputId": "7658467e-a3fa-4ba7-cae8-55530b010fa0"
      },
      "execution_count": 11,
      "outputs": [
        {
          "output_type": "stream",
          "name": "stdout",
          "text": [
            "Shape of Grouped Flotation Dataset =  (4415, 24)\n",
            "Shape of Grouped Flotation Dataset after drop null values =  (4415, 24)\n"
          ]
        }
      ]
    },
    {
      "cell_type": "markdown",
      "source": [
        "The grouping process has a number of advantages and disadvantages.\n",
        "\n",
        "**Advantages:**\n",
        "Each analysis will be able to do each data cycle on an hourly frequency.\n",
        "Date column can be dropped. The number of columns fell to 23.\n",
        "The number of rows fell to 4097 from 737453. Every rows means calculations on computer.\n",
        "\n",
        "**Disadvantage:** The number of rows fell to 4097 from 737453. The more rows we have for machine learning, the better results we get. This large data loss will adversely affect our estimation results."
      ],
      "metadata": {
        "id": "MYcmFqMZwsQe"
      }
    },
    {
      "cell_type": "markdown",
      "source": [
        "### **5.2. Divide Data**"
      ],
      "metadata": {
        "id": "Zg8iajc2xFrX"
      }
    },
    {
      "cell_type": "markdown",
      "source": [
        "Flotation plant product (at least for this missing data) Iron and Silica concentrates namely the last two columns. We will develop separate models for silica and iron in machine learning, so we will separate the columns from the main data as two data types named \"iron_concentrate\" and \"silica_concentrate\". The remaining columns are essentially Flotation conditions required to enrich the concentrate. We also separate them as \"flotation_conditions\"."
      ],
      "metadata": {
        "id": "GH3RUzSRzL4Z"
      }
    },
    {
      "cell_type": "code",
      "source": [
        "#seperate data as flotation_conditions and concentrates\n",
        "flotation_conditions = flotation.iloc[:,1:22]\n",
        "concentrates = flotation.iloc[:,22:]\n",
        "silica_concentrate = concentrates.iloc[:,1].values\n",
        "iron_concentrate = concentrates.iloc[:,0].values\n",
        "\n",
        "print('Shape of flotation_conditions = ', flotation_conditions.shape)\n",
        "print('Shape of silica_concentrate = ', silica_concentrate.shape)\n",
        "print('Shape of iron_concentrate = ', iron_concentrate.shape)"
      ],
      "metadata": {
        "colab": {
          "base_uri": "https://localhost:8080/"
        },
        "id": "MDAitmu8zNru",
        "outputId": "8ec0220f-7d09-47b7-d591-ab2164a36347"
      },
      "execution_count": null,
      "outputs": [
        {
          "output_type": "stream",
          "name": "stdout",
          "text": [
            "Shape of flotation_conditions =  (726453, 21)\n",
            "Shape of silica_concentrate =  (726453,)\n",
            "Shape of iron_concentrate =  (726453,)\n"
          ]
        }
      ]
    },
    {
      "cell_type": "markdown",
      "source": [
        "\n",
        "## **6. Modeling**"
      ],
      "metadata": {
        "id": "83aMNuq7z6dO"
      }
    },
    {
      "cell_type": "markdown",
      "source": [
        "### **6.1. P-Value**"
      ],
      "metadata": {
        "id": "IMvpSL1B0EEY"
      }
    },
    {
      "cell_type": "code",
      "source": [
        "import statsmodels.api as sm\n",
        "\n",
        "b_zero = np.append(arr = np.ones((len(flotation.iloc[:,1].values),1)).\n",
        "                   astype(int), values = flotation_conditions, axis = 1)\n",
        "\n",
        "silica_concentrate = concentrates.iloc[:,1].values\n",
        "iron_concentrate = concentrates.iloc[:,0].values\n",
        "\n",
        "model_iron = sm.OLS(endog = iron_concentrate,exog = b_zero).fit()\n",
        "print(model_iron.summary())"
      ],
      "metadata": {
        "colab": {
          "base_uri": "https://localhost:8080/"
        },
        "id": "Otz56O2Y0_Uf",
        "outputId": "b55de689-e62c-40c5-ed76-0719104e380a"
      },
      "execution_count": null,
      "outputs": [
        {
          "output_type": "stream",
          "name": "stdout",
          "text": [
            "                            OLS Regression Results                            \n",
            "==============================================================================\n",
            "Dep. Variable:                      y   R-squared:                       0.139\n",
            "Model:                            OLS   Adj. R-squared:                  0.139\n",
            "Method:                 Least Squares   F-statistic:                     5563.\n",
            "Date:                Thu, 01 Jun 2023   Prob (F-statistic):               0.00\n",
            "Time:                        00:09:59   Log-Likelihood:            -1.0581e+06\n",
            "No. Observations:              726453   AIC:                         2.116e+06\n",
            "Df Residuals:                  726431   BIC:                         2.116e+06\n",
            "Df Model:                          21                                         \n",
            "Covariance Type:            nonrobust                                         \n",
            "==============================================================================\n",
            "                 coef    std err          t      P>|t|      [0.025      0.975]\n",
            "------------------------------------------------------------------------------\n",
            "const         53.2526      0.247    215.581      0.000      52.768      53.737\n",
            "x1             0.0371      0.001     35.792      0.000       0.035       0.039\n",
            "x2             0.0272      0.001     34.861      0.000       0.026       0.029\n",
            "x3          2.597e-05   8.53e-06      3.044      0.002    9.25e-06    4.27e-05\n",
            "x4            -0.0032   1.96e-05   -164.036      0.000      -0.003      -0.003\n",
            "x5             0.0112      0.000     80.196      0.000       0.011       0.011\n",
            "x6             0.4860      0.003    142.815      0.000       0.479       0.493\n",
            "x7             2.7256      0.025    109.854      0.000       2.677       2.774\n",
            "x8             0.0048      0.000     33.197      0.000       0.005       0.005\n",
            "x9            -0.0031   8.41e-05    -36.786      0.000      -0.003      -0.003\n",
            "x10            0.0055      0.000     35.007      0.000       0.005       0.006\n",
            "x11           -0.0426      0.001    -69.637      0.000      -0.044      -0.041\n",
            "x12            0.0266      0.000     72.176      0.000       0.026       0.027\n",
            "x13           -0.0035   8.38e-05    -41.336      0.000      -0.004      -0.003\n",
            "x14            0.0014   8.77e-05     16.158      0.000       0.001       0.002\n",
            "x15           -0.0001   1.58e-05     -8.493      0.000      -0.000      -0.000\n",
            "x16           -0.0002   1.46e-05    -11.118      0.000      -0.000      -0.000\n",
            "x17           -0.0004   1.25e-05    -30.269      0.000      -0.000      -0.000\n",
            "x18            0.0002   1.91e-05     11.925      0.000       0.000       0.000\n",
            "x19            0.0013   2.37e-05     53.429      0.000       0.001       0.001\n",
            "x20           -0.0004   1.83e-05    -19.232      0.000      -0.000      -0.000\n",
            "x21            0.0007   2.24e-05     30.594      0.000       0.001       0.001\n",
            "==============================================================================\n",
            "Omnibus:                    24234.810   Durbin-Watson:                   0.011\n",
            "Prob(Omnibus):                  0.000   Jarque-Bera (JB):            26757.956\n",
            "Skew:                          -0.470   Prob(JB):                         0.00\n",
            "Kurtosis:                       3.012   Cond. No.                     3.31e+05\n",
            "==============================================================================\n",
            "\n",
            "Notes:\n",
            "[1] Standard Errors assume that the covariance matrix of the errors is correctly specified.\n",
            "[2] The condition number is large, 3.31e+05. This might indicate that there are\n",
            "strong multicollinearity or other numerical problems.\n"
          ]
        }
      ]
    },
    {
      "cell_type": "code",
      "source": [
        "model_silica = sm.OLS(endog = silica_concentrate,exog = b_zero).fit()\n",
        "print(model_silica.summary())"
      ],
      "metadata": {
        "colab": {
          "base_uri": "https://localhost:8080/"
        },
        "id": "OElakPmGz5dS",
        "outputId": "667fe3f0-9a0e-434c-d50f-d0f199172afa"
      },
      "execution_count": null,
      "outputs": [
        {
          "output_type": "stream",
          "name": "stdout",
          "text": [
            "                            OLS Regression Results                            \n",
            "==============================================================================\n",
            "Dep. Variable:                      y   R-squared:                       0.152\n",
            "Model:                            OLS   Adj. R-squared:                  0.152\n",
            "Method:                 Least Squares   F-statistic:                     6196.\n",
            "Date:                Thu, 01 Jun 2023   Prob (F-statistic):               0.00\n",
            "Time:                        00:10:00   Log-Likelihood:            -1.0571e+06\n",
            "No. Observations:              726453   AIC:                         2.114e+06\n",
            "Df Residuals:                  726431   BIC:                         2.115e+06\n",
            "Df Model:                          21                                         \n",
            "Covariance Type:            nonrobust                                         \n",
            "==============================================================================\n",
            "                 coef    std err          t      P>|t|      [0.025      0.975]\n",
            "------------------------------------------------------------------------------\n",
            "const          4.4616      0.247     18.086      0.000       3.978       4.945\n",
            "x1            -0.0043      0.001     -4.124      0.000      -0.006      -0.002\n",
            "x2             0.0071      0.001      9.055      0.000       0.006       0.009\n",
            "x3          -7.47e-05   8.52e-06     -8.768      0.000   -9.14e-05    -5.8e-05\n",
            "x4             0.0032   1.96e-05    163.935      0.000       0.003       0.003\n",
            "x5            -0.0046      0.000    -33.050      0.000      -0.005      -0.004\n",
            "x6            -0.3440      0.003   -101.225      0.000      -0.351      -0.337\n",
            "x7            -2.0423      0.025    -82.422      0.000      -2.091      -1.994\n",
            "x8            -0.0090      0.000    -62.382      0.000      -0.009      -0.009\n",
            "x9             0.0010    8.4e-05     11.526      0.000       0.001       0.001\n",
            "x10           -0.0052      0.000    -33.162      0.000      -0.006      -0.005\n",
            "x11            0.0359      0.001     58.696      0.000       0.035       0.037\n",
            "x12           -0.0066      0.000    -17.912      0.000      -0.007      -0.006\n",
            "x13            0.0026   8.37e-05     30.517      0.000       0.002       0.003\n",
            "x14            0.0001   8.76e-05      1.479      0.139   -4.21e-05       0.000\n",
            "x15           -0.0002   1.58e-05    -10.616      0.000      -0.000      -0.000\n",
            "x16        -1.715e-05   1.45e-05     -1.179      0.238   -4.57e-05    1.14e-05\n",
            "x17            0.0002   1.25e-05     18.168      0.000       0.000       0.000\n",
            "x18           -0.0003    1.9e-05    -17.134      0.000      -0.000      -0.000\n",
            "x19           -0.0012   2.37e-05    -50.210      0.000      -0.001      -0.001\n",
            "x20         7.862e-05   1.83e-05      4.306      0.000    4.28e-05       0.000\n",
            "x21           -0.0004   2.24e-05    -16.094      0.000      -0.000      -0.000\n",
            "==============================================================================\n",
            "Omnibus:                    72524.075   Durbin-Watson:                   0.008\n",
            "Prob(Omnibus):                  0.000   Jarque-Bera (JB):            96261.055\n",
            "Skew:                           0.881   Prob(JB):                         0.00\n",
            "Kurtosis:                       3.279   Cond. No.                     3.31e+05\n",
            "==============================================================================\n",
            "\n",
            "Notes:\n",
            "[1] Standard Errors assume that the covariance matrix of the errors is correctly specified.\n",
            "[2] The condition number is large, 3.31e+05. This might indicate that there are\n",
            "strong multicollinearity or other numerical problems.\n"
          ]
        }
      ]
    },
    {
      "cell_type": "code",
      "source": [
        "#extract p-value from regression results\n",
        "pValue_fe = model_iron.pvalues\n",
        "pValue_si = model_silica.pvalues\n",
        "pValue_fe_list = []\n",
        "pValue_si_list = []\n",
        "for i in range(len(pValue_fe)):\n",
        "    if i > 0:\n",
        "        pValue_fe_list.append(pValue_fe[i])\n",
        "        pValue_si_list.append(pValue_si[i])"
      ],
      "metadata": {
        "id": "GA7n-zaPz5am"
      },
      "execution_count": null,
      "outputs": []
    },
    {
      "cell_type": "code",
      "source": [
        "import matplotlib.pyplot as plt\n",
        "\n",
        "fe = pValue_fe_list[:5]  # Take the first 5 elements of the 'fe' list\n",
        "si = pValue_si_list[:5]  # Take the first 5 elements of the 'si' list\n",
        "t = [1, 2, 3, 4, 5]  # Replace with the appropriate time or x-axis values corresponding to 'fe' and 'si'\n",
        "plt.plot(t, fe, label='Fe', color='blue', marker='o')\n",
        "plt.plot(t, si, label='Si', color='red', marker='x')\n",
        "plt.xticks(rotation=90)\n",
        "\n",
        "plt.legend(loc=\"upper left\", prop={\"size\": 10})\n",
        "plt.ylabel('P Value', fontsize=20)\n",
        "plt.title('P Value of Si and Fe Concentrates', fontsize=16)\n",
        "\n",
        "plt.show()\n"
      ],
      "metadata": {
        "colab": {
          "base_uri": "https://localhost:8080/",
          "height": 462
        },
        "id": "kWH_U8O83HaR",
        "outputId": "d2bbeea6-cf1f-4a10-8cef-dbd113bc9ab5"
      },
      "execution_count": null,
      "outputs": [
        {
          "output_type": "display_data",
          "data": {
            "text/plain": [
              "<Figure size 640x480 with 1 Axes>"
            ],
            "image/png": "[encoded data removed]"
          },
          "metadata": {}
        }
      ]
    },
    {
      "cell_type": "markdown",
      "source": [
        "When we examine the P values, we see that some values do not affect the concentrated grades. But now we know that this is due to our lack of data. What would you think if you saw that the cocoa had no effect on the chocolate produced in the chocolate factory?"
      ],
      "metadata": {
        "id": "2_zpL4fN2vzP"
      }
    },
    {
      "cell_type": "markdown",
      "source": [
        "### **6.2. Confidence Interval**"
      ],
      "metadata": {
        "id": "Q2b-HTJ43hFs"
      }
    },
    {
      "cell_type": "code",
      "source": [
        "import math\n",
        "\n",
        "m_fe = iron_concentrate.mean()\n",
        "se_fe = iron_concentrate.std() / math.sqrt(len(iron_concentrate))\n",
        "ci_fe = [m_fe - se_fe * 1.96, m_fe + se_fe * 1.96]\n",
        "\n",
        "m_si = silica_concentrate.mean()\n",
        "se_si = silica_concentrate.std() / math.sqrt(len(silica_concentrate))\n",
        "ci_si = [m_si - se_si * 1.96, m_si + se_si * 1.96]\n",
        "\n",
        "print('Confidence interval of Fe Concentrate:', ci_fe)\n",
        "print('Confidence interval of Silica Concentrate:', ci_si)\n"
      ],
      "metadata": {
        "colab": {
          "base_uri": "https://localhost:8080/"
        },
        "id": "XB8dB6Ouz5VC",
        "outputId": "9a2ef744-2d5e-4423-8f41-5d5830f6da00"
      },
      "execution_count": null,
      "outputs": [
        {
          "output_type": "stream",
          "name": "stdout",
          "text": [
            "Confidence interval of Fe Concentrate: [65.04622387898222, 65.05136889026788]\n",
            "Confidence interval of Silica Concentrate: [2.3248525326690723, 2.3300310179529253]\n"
          ]
        }
      ]
    },
    {
      "cell_type": "markdown",
      "source": [
        "Metallurgical engineers apply the pouring process to the concentrate we sell and obtain pure iron. There is a grade range they demand from us for this operation: %67 – 68 Fe Grade %1.6 – 1.7 Si Grade In the model we developed according to the confidence interval, the silica values are more than demanded. In the first stage, we need to warn the engineers in the field. (Assuming our data is reliable.)"
      ],
      "metadata": {
        "id": "H0f1pmIR39a2"
      }
    },
    {
      "cell_type": "markdown",
      "source": [
        "\n",
        "## **7. Evaluation**"
      ],
      "metadata": {
        "id": "HBHwZlxC4Q5B"
      }
    },
    {
      "cell_type": "markdown",
      "source": [
        "### **7.1. R-squared in Regression Analysis**"
      ],
      "metadata": {
        "id": "P1rW_Y2V4cxN"
      }
    },
    {
      "cell_type": "code",
      "source": [
        "flotation.columns"
      ],
      "metadata": {
        "colab": {
          "base_uri": "https://localhost:8080/"
        },
        "id": "zeyavZGf5RQm",
        "outputId": "04edb079-c1ab-4032-e6b1-876823bd0efc"
      },
      "execution_count": null,
      "outputs": [
        {
          "output_type": "execute_result",
          "data": {
            "text/plain": [
              "Index(['date', 'iron_feed', 'silica_feed', 'starch_flow', 'amina_flow',\n",
              "       'pulp_flow', 'pulp_pH', 'pulp_density', 'airflow_col1', 'airflow_col2',\n",
              "       'airflow_col3', 'airflow_col4', 'airflow_col5', 'airflow_col6',\n",
              "       'airflow_col7', 'level_col1', 'level_col2', 'level_col3', 'level_col4',\n",
              "       'level_col5', 'level_col6', 'level_col7', 'iron_conc', 'silica_conc'],\n",
              "      dtype='object')"
            ]
          },
          "metadata": {},
          "execution_count": 13
        }
      ]
    },
    {
      "cell_type": "code",
      "source": [
        "import statsmodels.api as sm\n",
        "\n",
        "# Assuming you have a DataFrame named 'df' with the required columns\n",
        "endog = flotation['silica_conc']  # Define your endogenous variable\n",
        "exog = flotation[['iron_feed', 'silica_feed', 'starch_flow', 'amina_flow',\n",
        "           'pulp_flow', 'pulp_pH', 'pulp_density', 'airflow_col1', 'airflow_col2',\n",
        "           'airflow_col3', 'airflow_col4', 'airflow_col5', 'airflow_col6',\n",
        "           'airflow_col7', 'level_col1', 'level_col2', 'level_col3', 'level_col4',\n",
        "           'level_col5', 'level_col6', 'level_col7']]  # Define your exogenous variables\n",
        "\n",
        "model = sm.OLS(endog, exog)\n",
        "results = model.fit()\n",
        "\n",
        "# Get the R-squared value\n",
        "r_squared = results.rsquared\n",
        "\n",
        "print(\"R-squared:\", r_squared)\n",
        "\n"
      ],
      "metadata": {
        "colab": {
          "base_uri": "https://localhost:8080/"
        },
        "id": "2SCrnFGWz5Su",
        "outputId": "ea217f20-6632-4ac4-d124-e3e580e425b6"
      },
      "execution_count": null,
      "outputs": [
        {
          "output_type": "stream",
          "name": "stdout",
          "text": [
            "R-squared: 0.8390858890738184\n"
          ]
        }
      ]
    },
    {
      "cell_type": "markdown",
      "source": [
        "The calculated R-squared value of 0.839 suggests that approximately 83.9% of the variability in the dependent variable (silica_concentrate) can be explained by the independent variables.\n",
        "\n",
        "A high R-squared value indicates a good fit of the model to the data, suggesting that the independent variables are strongly associated with the variation in the dependent variable. However, it's important to interpret the R-squared value in the context of your specific problem and the field of study. Other factors, such as the significance of individual coefficients and the presence of multicollinearity, should also be considered.\n",
        "\n",
        "In summary, based on the given model and data, the R-squared value of 0.839 indicates a relatively strong relationship between the independent variables and the silica_concentrate, suggesting that the model captures a significant portion of the variability in the target variable."
      ],
      "metadata": {
        "id": "cHMIBMb07PqB"
      }
    },
    {
      "cell_type": "markdown",
      "source": [
        "### **7.2. Multi Linear Regression Analysis**"
      ],
      "metadata": {
        "id": "7WuLZi_v7fHk"
      }
    },
    {
      "cell_type": "code",
      "source": [
        "import matplotlib.pyplot as plt\n",
        "\n",
        "width = 20\n",
        "height = 15\n",
        "dots = 60\n",
        "\n",
        "plt.figure(figsize=(width, height), dpi=dots)\n",
        "\n",
        "x_axis = flotation['iron_conc']\n",
        "y_axis = flotation['iron_feed']\n",
        "plt.plot(x_axis, y_axis, marker='o', label='% Iron Concentrate vs % Iron Feed')\n",
        "plt.xticks()\n",
        "plt.xlabel('% Iron Concentrate', fontsize=20)\n",
        "plt.ylabel('% Iron Feed', fontsize=20)\n",
        "plt.title('% Iron Concentrate vs % Iron Feed', fontsize=25)\n",
        "plt.grid(True)\n",
        "plt.show()\n"
      ],
      "metadata": {
        "colab": {
          "base_uri": "https://localhost:8080/",
          "height": 779
        },
        "id": "Rc4ogSG_z5LE",
        "outputId": "80b8e9e2-0112-4e2c-ccfc-c85369f8b1cd"
      },
      "execution_count": null,
      "outputs": [
        {
          "output_type": "display_data",
          "data": {
            "text/plain": [
              "<Figure size 1200x900 with 1 Axes>"
            ],
            "image/png": "[encoded data removed]"
          },
          "metadata": {}
        }
      ]
    },
    {
      "cell_type": "markdown",
      "source": [
        "As you can see in plot, there is no Linear Reletionship betweenn Iron Feed and Iron Concentration, this is just example. The other columns relation ships are same. I am waiting for a low result of R2-Score from Multi Linear Regression Analysis"
      ],
      "metadata": {
        "id": "hcp6HpSn9Pcj"
      }
    },
    {
      "cell_type": "code",
      "source": [
        "#train test split for regression training and testing \n",
        "x_train, x_test, y_train, y_test = train_test_split(flotation_conditions,\n",
        "                                                    concentrates,\n",
        "                                                    test_size = 0.15,\n",
        "                                                    random_state = 0)"
      ],
      "metadata": {
        "id": "9TH4cDNf9nS0"
      },
      "execution_count": null,
      "outputs": []
    },
    {
      "cell_type": "code",
      "source": [
        "from sklearn.metrics import r2_score\n",
        "\n",
        "\n",
        "regressor_mlr = LinearRegression()\n",
        "regressor_mlr.fit(x_train,y_train) #x trainden y traini öğren \n",
        "\n",
        "y_pred_mlr = regressor_mlr.predict(x_test)\n",
        "print('R2 Score of Multi Linear Regression',r2_score(y_test,y_pred_mlr))"
      ],
      "metadata": {
        "colab": {
          "base_uri": "https://localhost:8080/"
        },
        "id": "a5tCve_99nP7",
        "outputId": "d52582af-2f34-4462-d188-32dc02955241"
      },
      "execution_count": null,
      "outputs": [
        {
          "output_type": "stream",
          "name": "stdout",
          "text": [
            "R2 Score of Multi Linear Regression 0.14871545386829182\n"
          ]
        }
      ]
    },
    {
      "cell_type": "markdown",
      "source": [
        "It has become clear that the Multi Linear Regression model cannot be used. I will focus on Random Forest machine learning model development."
      ],
      "metadata": {
        "id": "h7oXIk-G-AnE"
      }
    },
    {
      "cell_type": "code",
      "source": [
        "X_train.shape\n"
      ],
      "metadata": {
        "colab": {
          "base_uri": "https://localhost:8080/",
          "height": 169
        },
        "id": "Ym-Eh9G0ar0E",
        "outputId": "01ff4d25-c2b4-40b1-dce0-9710d8182993"
      },
      "execution_count": null,
      "outputs": [
        {
          "output_type": "error",
          "ename": "NameError",
          "evalue": "ignored",
          "traceback": [
            "\u001b[0;31m---------------------------------------------------------------------------\u001b[0m",
            "\u001b[0;31mNameError\u001b[0m                                 Traceback (most recent call last)",
            "\u001b[0;32m<ipython-input-1-d2ba684acd0f>\u001b[0m in \u001b[0;36m<cell line: 1>\u001b[0;34m()\u001b[0m\n\u001b[0;32m----> 1\u001b[0;31m \u001b[0mX_train\u001b[0m\u001b[0;34m.\u001b[0m\u001b[0mshape\u001b[0m\u001b[0;34m\u001b[0m\u001b[0;34m\u001b[0m\u001b[0m\n\u001b[0m",
            "\u001b[0;31mNameError\u001b[0m: name 'X_train' is not defined"
          ]
        }
      ]
    },
    {
      "cell_type": "markdown",
      "source": [
        "### **7.3. Random Forest Regressor**"
      ],
      "metadata": {
        "id": "PCzX2co--EO1"
      }
    },
    {
      "cell_type": "markdown",
      "source": [
        "The first time I divided the data as train test split at 0.33 degree and applied Random Forest machine learning, but I got very low r-Square values. Finally, I used all the data for training and got the following results. Despite the lack of data, the result is satisfactory."
      ],
      "metadata": {
        "id": "u2zJY6e0-Mn6"
      }
    },
    {
      "cell_type": "markdown",
      "source": [
        "- Random Forest with Train-Test Split"
      ],
      "metadata": {
        "id": "4kJsOTEY-TUe"
      }
    },
    {
      "cell_type": "code",
      "source": [
        "regressor_randForest = RandomForestRegressor(random_state = 0, n_estimators = 100)  \n",
        "regressor_randForest.fit(x_train,y_train) \n",
        "y_pred_rf = regressor_randForest.predict(x_test)\n",
        "\n",
        "regressor_randForest2 = RandomForestRegressor(random_state = 0, n_estimators = 100)  \n",
        "regressor_randForest2.fit(flotation_conditions,concentrates)\n",
        "y_pred_rf2 = regressor_randForest.predict(flotation_conditions)\n",
        " \n",
        "print('R2 Score of Random Forest Regression with Train-Test Split',r2_score(y_test,y_pred_rf))\n",
        "print('R2 Score of Random Forest Regression with Whole Data',r2_score(concentrates,y_pred_rf2))"
      ],
      "metadata": {
        "id": "Bx7nlO_G9nKn"
      },
      "execution_count": null,
      "outputs": []
    },
    {
      "cell_type": "markdown",
      "source": [
        "As I mentioned before I divided concentrations and again applied Random Forest separately to Iron and Silica Concentration grades. R2-Score result is marvelous."
      ],
      "metadata": {
        "id": "JRcrukaY-lVG"
      }
    },
    {
      "cell_type": "markdown",
      "source": [
        "- Iron Random Forest Model"
      ],
      "metadata": {
        "id": "UleXQgBQ-rxS"
      }
    },
    {
      "cell_type": "code",
      "source": [
        "regressor_Fe = RandomForestRegressor(random_state = 0, n_estimators = 100)  \n",
        "regressor_Fe.fit(flotation_conditions,iron_concentrate) \n",
        "y_pred_Fe = regressor_Fe.predict(flotation_conditions)\n",
        "\n",
        "print('R2 Score of Random Forest Regression with Only Iron',r2_score(iron_concentrate,y_pred_Fe))"
      ],
      "metadata": {
        "id": "cz4xXWPE9nID"
      },
      "execution_count": null,
      "outputs": []
    },
    {
      "cell_type": "markdown",
      "source": [
        "- Silica Random Forest Model"
      ],
      "metadata": {
        "id": "Aw6OYBQJ-ynu"
      }
    },
    {
      "cell_type": "code",
      "source": [
        "regressor_Si = RandomForestRegressor(random_state = 0, n_estimators = 100)  \n",
        "regressor_Si.fit(flotation_conditions,silica_concentrate) \n",
        "y_pred_Si = regressor_Si.predict(flotation_conditions)\n",
        "\n",
        "print('R2 Score of Random Forest Regression with Only Silica',r2_score(silica_concentrate,y_pred_Si))"
      ],
      "metadata": {
        "id": "L_siU96g9nE5"
      },
      "execution_count": null,
      "outputs": []
    },
    {
      "cell_type": "markdown",
      "source": [
        "\n",
        "## **8.  Deployment**"
      ],
      "metadata": {
        "id": "mzseanVZ-_JG"
      }
    },
    {
      "cell_type": "markdown",
      "source": [
        "### **8.1. First Prediction**"
      ],
      "metadata": {
        "id": "9YUSYfla_ImG"
      }
    },
    {
      "cell_type": "code",
      "source": [
        "#feel free change values and see results\n",
        "predictions = {'% Iron Feed':50.5,\n",
        "          '% Silica Feed':13.3,\n",
        "          'Starch Flow':3500.0,\n",
        "          'Amina Flow':580.0,\n",
        "          'Ore Pulp Flow':400.0,\n",
        "          'Ore Pulp pH':10.11,\n",
        "          'Ore Pulp Density':1.69,\n",
        "          'Flotation Column 01 Air Flow':250.0,\n",
        "          'Flotation Column 02 Air Flow':150.0,\n",
        "          'Flotation Column 03 Air Flow':270.0,\n",
        "          'Flotation Column 04 Air Flow':190.0,\n",
        "          'Flotation Column 05 Air Flow':230.0,\n",
        "          'Flotation Column 06 Air Flow':200.0,\n",
        "          'Flotation Column 07 Air Flow':240.0,\n",
        "          'Flotation Column 01 Level':480,\n",
        "          'Flotation Column 02 Level':210.0,\n",
        "          'Flotation Column 03 Level':550.0,\n",
        "          'Flotation Column 04 Level':620.0,\n",
        "          'Flotation Column 05 Level':610.0,\n",
        "          'Flotation Column 06 Level':615.0,\n",
        "          'Flotation Column 07 Level':616.0,\n",
        "          }"
      ],
      "metadata": {
        "id": "W2NItwCo-8Gi"
      },
      "execution_count": null,
      "outputs": []
    },
    {
      "cell_type": "code",
      "source": [
        "#to see predictions, run this code\n",
        "predict_values = []\n",
        "for value in predictions.values(): \n",
        "    predict_values.append(value)\n",
        "\n",
        "predict_Fe = regressor_Fe.predict([predict_values])\n",
        "predict_Si = regressor_Si.predict([predict_values])\n",
        "\n",
        "print('Predicted Fe Concentrate =',predict_Fe,'%')\n",
        "print('Predicted Silica Concentrate =',predict_Si,'%')"
      ],
      "metadata": {
        "id": "knSFYEQp-8Et"
      },
      "execution_count": null,
      "outputs": []
    },
    {
      "cell_type": "markdown",
      "source": [
        "### **8.2. Second Prediction**"
      ],
      "metadata": {
        "id": "Vmem8PV0_cEw"
      }
    },
    {
      "cell_type": "markdown",
      "source": [
        "- I will feed to ML mean values of the main data and demand to predict concentrate values."
      ],
      "metadata": {
        "id": "r1_zNK5O_nZx"
      }
    },
    {
      "cell_type": "code",
      "source": [
        "predict_from_means = flotation_conditions.describe().mean()\n",
        "predict_Fe = regressor_Fe.predict([predict_from_means])\n",
        "predict_Si = regressor_Si.predict([predict_from_means])\n",
        "\n",
        "print('Predicted Fe Concentrate from Conditions mean  =',predict_Fe,'%')\n",
        "print('Predicted Silica Concentrate from Conditions mean =',predict_Si,'%')"
      ],
      "metadata": {
        "id": "pT0GUT0f-8DG"
      },
      "execution_count": null,
      "outputs": []
    },
    {
      "cell_type": "markdown",
      "source": [
        "We obtained the values we determined in the Confidence Intervals. The results are also very close to the average tenor values. After all, we have a working ML application."
      ],
      "metadata": {
        "id": "sjHVLGZk_4I6"
      }
    },
    {
      "cell_type": "markdown",
      "source": [
        "\n",
        "## **9. Conclusion**"
      ],
      "metadata": {
        "id": "jfWvj2Fd_8iD"
      }
    },
    {
      "cell_type": "markdown",
      "source": [
        "With the analysis made over the same data set, we can write thousands more questions and get results.\n",
        "Our touchstone data on the road to IoT (internet of things) and how we store them. As long as we take care of our data and enrich them, the future is not far away. The more data you get, the more accurate results are inevitable.\n",
        "\n",
        "Artificial intelligence, which analyzes the ore coming from the mine and gives us the facility parameters as ready and calculate equipment maintenance possibilities, is now very close."
      ],
      "metadata": {
        "id": "am4klS8qAH2u"
      }
    },
    {
      "cell_type": "code",
      "source": [
        "flotation.columns"
      ],
      "metadata": {
        "id": "aDbMuEV8WqbN"
      },
      "execution_count": null,
      "outputs": []
    },
    {
      "cell_type": "markdown",
      "metadata": {
        "id": "qI-OiI72r4of"
      },
      "source": [
        "### **5.3. Split train, val and test**"
      ]
    },
    {
      "cell_type": "markdown",
      "metadata": {
        "id": "bst83Gqd7s32"
      },
      "source": [
        "- splitting the data into training, validation and test set\n",
        "- training set will be used to train the models\n",
        "- validation set will be used to choose the mode\n",
        "- test set will be used to check the performance of the chosen model on new data"
      ]
    },
    {
      "cell_type": "code",
      "execution_count": null,
      "metadata": {
        "id": "2mBqFZxeBKKM"
      },
      "outputs": [],
      "source": [
        "X = flotation.iloc[:, 0:21]\n",
        "y = flotation.iloc[:, 21:]\n",
        "\n",
        "X_train, X_, y_train, y_ = train_test_split(X, y, train_size=0.6, random_state=42, shuffle=True)\n",
        "X_val, X_test, y_val, y_test = train_test_split(X_, y_, test_size=0.5, random_state=42)\n",
        "print(f'The shape of X_train is {X_train.shape}\\nThe shape of X_val is {X_val.shape}\\nThe shape of X_test is {X_test.shape}\\nThe shape of y_train is {y_train.shape}\\nThe shape of y_val is {y_val.shape}\\nThe shape of y_test is {y_test.shape}')"
      ]
    },
    {
      "cell_type": "markdown",
      "metadata": {
        "id": "Srerk3EnDouZ"
      },
      "source": [
        "**scale/normalize the training data (z-score normalization)**\n",
        "\n",
        "- To prevent any information about the distribution of the test set from influencing the model, the training data will be scaled using z-score normalization. \n",
        "- This approach ensures that the scaling transformation is applied solely based on the training data. \n",
        "- Consequently, the scaler will be fitted exclusively on the training set, and subsequently, the training, validation, and test sets will be standardized using the fitted scaler. \n",
        "- By adhering to this procedure, the integrity of the model evaluation on new, unseen data is maintained, without any potential leakage of information from the test set."
      ]
    },
    {
      "cell_type": "code",
      "execution_count": null,
      "metadata": {
        "id": "82I1SdysDJOQ"
      },
      "outputs": [],
      "source": [
        "sc = StandardScaler()\n",
        "X_train = sc.fit_transform(X_train)\n",
        "X_val = sc.transform(X_val)\n",
        "X_test = sc.transform(X_test)"
      ]
    },
    {
      "cell_type": "markdown",
      "metadata": {
        "id": "9edzfH35Dd1T"
      },
      "source": [
        "The goal is to create models that outperform the dummy regressor. "
      ]
    },
    {
      "cell_type": "markdown",
      "metadata": {
        "id": "lwodmd2wFfdu"
      },
      "source": [
        "### **5.4. Linear regression**"
      ]
    },
    {
      "cell_type": "code",
      "execution_count": null,
      "metadata": {
        "id": "CbIx6rhk-1Zr"
      },
      "outputs": [],
      "source": [
        "from sklearn.linear_model import LinearRegression\n",
        "from sklearn.metrics import mean_squared_error\n",
        "\n",
        "# Create an instance of the LinearRegression model\n",
        "lin_reg = LinearRegression()\n",
        "\n",
        "# Fit the model on the training data\n",
        "lin_reg.fit(X_train, y_train)\n",
        "\n",
        "# Make predictions on the validation set\n",
        "y_val_pred = lin_reg.predict(X_val)\n",
        "\n",
        "# Calculate the mean squared error on the validation set\n",
        "mse = mean_squared_error(y_val, y_val_pred)\n",
        "print(f\"Mean Squared Error on the validation set: {mse}\")\n",
        "\n",
        "# Evaluate the model on the test set\n",
        "y_test_pred = lin_reg.predict(X_test)\n",
        "mse_test = mean_squared_error(y_test, y_test_pred)\n",
        "print(f\"Mean Squared Error on the test set: {mse_test}\")\n"
      ]
    },
    {
      "cell_type": "markdown",
      "metadata": {
        "id": "DY16_1U_FzRx"
      },
      "source": [
        "- Linear Regression model performs better than dummy regressor, \n",
        "- Check the performance of another models."
      ]
    },
    {
      "cell_type": "markdown",
      "metadata": {
        "id": "YUbMLFteAj7D"
      },
      "source": [
        "### **5.5. Lasso regression**"
      ]
    },
    {
      "cell_type": "code",
      "execution_count": null,
      "metadata": {
        "id": "hrjGCgfvAiGo"
      },
      "outputs": [],
      "source": [
        "from sklearn.linear_model import Lasso\n",
        "from sklearn.metrics import mean_squared_error\n",
        "\n",
        "# Create a Lasso regression model\n",
        "lasso_reg = Lasso(alpha=0.1)\n",
        "\n",
        "# Fit the model on the training data\n",
        "lasso_reg.fit(X_train, y_train)\n",
        "\n",
        "# Make predictions on the validation set\n",
        "y_val_pred = lasso_reg.predict(X_val)\n",
        "\n",
        "# Calculate the mean squared error on the validation set\n",
        "mse = mean_squared_error(y_val, y_val_pred)\n",
        "print(f\"Mean Squared Error on the validation set: {mse}\")\n",
        "\n",
        "# Evaluate the model on the test set\n",
        "y_test_pred = lasso_reg.predict(X_test)\n",
        "mse_test = mean_squared_error(y_test, y_test_pred)\n",
        "print(f\"Mean Squared Error on the test set: {mse_test}\")\n"
      ]
    },
    {
      "cell_type": "markdown",
      "metadata": {
        "id": "s8bjJ1d4CYBQ"
      },
      "source": [
        "### **5.7. Ridge regression**"
      ]
    },
    {
      "cell_type": "code",
      "execution_count": null,
      "metadata": {
        "id": "xagbPnatCvJZ"
      },
      "outputs": [],
      "source": [
        "from sklearn.linear_model import Ridge\n",
        "from sklearn.metrics import mean_squared_error\n",
        "\n",
        "# Create a Ridge regression model\n",
        "ridge_reg = Ridge(alpha=0.1)\n",
        "\n",
        "# Fit the model on the training data\n",
        "ridge_reg.fit(X_train, y_train)\n",
        "\n",
        "# Make predictions on the validation set\n",
        "y_val_pred = ridge_reg.predict(X_val)\n",
        "\n",
        "# Calculate the mean squared error on the validation set\n",
        "mse = mean_squared_error(y_val, y_val_pred)\n",
        "print(f\"Mean Squared Error on the validation set: {mse}\")\n",
        "\n",
        "# Evaluate the model on the test set\n",
        "y_test_pred = ridge_reg.predict(X_test)\n",
        "mse_test = mean_squared_error(y_test, y_test_pred)\n",
        "print(f\"Mean Squared Error on the test set: {mse_test}\")\n"
      ]
    },
    {
      "cell_type": "markdown",
      "metadata": {
        "id": "8e2JzXcO8QNS"
      },
      "source": [
        "### **5.8. ElasticNet Regression**"
      ]
    },
    {
      "cell_type": "code",
      "execution_count": null,
      "metadata": {
        "id": "exUC_POK8IKq"
      },
      "outputs": [],
      "source": [
        "from sklearn.linear_model import ElasticNet\n",
        "from sklearn.metrics import mean_squared_error\n",
        "\n",
        "# Create an instance of the ElasticNet regression model\n",
        "elastic_net = ElasticNet(alpha=1.0, l1_ratio=0.5)  # You can adjust the alpha and l1_ratio values\n",
        "\n",
        "# Fit the model on the training data\n",
        "elastic_net.fit(X_train, y_train)\n",
        "\n",
        "# Make predictions on the validation set\n",
        "y_val_pred = elastic_net.predict(X_val)\n",
        "\n",
        "# Calculate the mean squared error on the validation set\n",
        "mse = mean_squared_error(y_val, y_val_pred)\n",
        "print(f\"Mean Squared Error on the validation set: {mse}\")\n",
        "\n",
        "# Evaluate the model on the test set\n",
        "y_test_pred = elastic_net.predict(X_test)\n",
        "mse_test = mean_squared_error(y_test, y_test_pred)\n",
        "print(f\"Mean Squared Error on the test set: {mse_test}\")\n"
      ]
    },
    {
      "cell_type": "markdown",
      "metadata": {
        "id": "5a9y8P5C88EG"
      },
      "source": [
        "### **5.9. AdaBoost Regression**"
      ]
    },
    {
      "cell_type": "code",
      "execution_count": null,
      "metadata": {
        "id": "ECWDkYF88z_k"
      },
      "outputs": [],
      "source": [
        "from sklearn.ensemble import AdaBoostRegressor\n",
        "from sklearn.metrics import mean_squared_error\n",
        "\n",
        "# Create an instance of the AdaBoost regression model\n",
        "adaboost_reg = AdaBoostRegressor(n_estimators=100, random_state=42)  # You can adjust the n_estimators parameter\n",
        "\n",
        "# Fit the model on the training data\n",
        "adaboost_reg.fit(X_train, y_train)\n",
        "\n",
        "# Make predictions on the validation set\n",
        "y_val_pred = adaboost_reg.predict(X_val)\n",
        "\n",
        "# Calculate the mean squared error on the validation set\n",
        "mse = mean_squared_error(y_val, y_val_pred)\n",
        "print(f\"Mean Squared Error on the validation set: {mse}\")\n",
        "\n",
        "# Evaluate the model on the test set\n",
        "y_test_pred = adaboost_reg.predict(X_test)\n",
        "mse_test = mean_squared_error(y_test, y_test_pred)\n",
        "print(f\"Mean Squared Error on the test set: {mse_test}\")\n"
      ]
    },
    {
      "cell_type": "markdown",
      "metadata": {
        "id": "nYp4WPM1GI7D"
      },
      "source": [
        "### **5.8. Stochastic Gradient Descent Regressor**"
      ]
    },
    {
      "cell_type": "code",
      "execution_count": null,
      "metadata": {
        "id": "DCWUG8qoGF5H"
      },
      "outputs": [],
      "source": [
        "from sklearn.linear_model import SGDRegressor\n",
        "from sklearn.metrics import mean_squared_error\n",
        "\n",
        "# Create an instance of the SGD regression model\n",
        "sgd_reg = SGDRegressor(random_state=42)\n",
        "\n",
        "# Fit the model on the training data\n",
        "sgd_reg.fit(X_train, y_train)\n",
        "\n",
        "# Make predictions on the validation set\n",
        "y_val_pred = sgd_reg.predict(X_val)\n",
        "\n",
        "# Calculate the mean squared error on the validation set\n",
        "mse = mean_squared_error(y_val, y_val_pred)\n",
        "print(f\"Mean Squared Error on the validation set: {mse}\")\n",
        "\n",
        "# Evaluate the model on the test set\n",
        "y_test_pred = sgd_reg.predict(X_test)\n",
        "mse_test = mean_squared_error(y_test, y_test_pred)\n",
        "print(f\"Mean Squared Error on the test set: {mse_test}\")\n"
      ]
    },
    {
      "cell_type": "markdown",
      "metadata": {
        "id": "sqdx_CTF95sR"
      },
      "source": [
        "### **5.9. Support Vector Regression (SVR)**"
      ]
    },
    {
      "cell_type": "code",
      "execution_count": null,
      "metadata": {
        "id": "LlgaMV-Y9zxZ"
      },
      "outputs": [],
      "source": [
        "from sklearn.svm import SVR\n",
        "from sklearn.metrics import mean_squared_error\n",
        "\n",
        "# Create an instance of the SVR model\n",
        "svr = SVR()\n",
        "\n",
        "# Fit the model on the training data\n",
        "svr.fit(X_train, y_train)\n",
        "\n",
        "# Make predictions on the validation set\n",
        "y_val_pred = svr.predict(X_val)\n",
        "\n",
        "# Calculate the mean squared error on the validation set\n",
        "mse = mean_squared_error(y_val, y_val_pred)\n",
        "print(f\"Mean Squared Error on the validation set: {mse}\")\n",
        "\n",
        "# Evaluate the model on the test set\n",
        "y_test_pred = svr.predict(X_test)\n",
        "mse_test = mean_squared_error(y_test, y_test_pred)\n",
        "print(f\"Mean Squared Error on the test set: {mse_test}\")\n"
      ]
    },
    {
      "cell_type": "markdown",
      "metadata": {
        "id": "BdmiQIuK-XFZ"
      },
      "source": [
        "### **5.10. Decision Tree Regression**"
      ]
    },
    {
      "cell_type": "code",
      "execution_count": null,
      "metadata": {
        "id": "3ApBVn0G9dho"
      },
      "outputs": [],
      "source": [
        "from sklearn.tree import DecisionTreeRegressor\n",
        "from sklearn.metrics import mean_squared_error\n",
        "\n",
        "# Create an instance of the DecisionTreeRegressor model\n",
        "dt_reg = DecisionTreeRegressor()\n",
        "\n",
        "# Fit the model on the training data\n",
        "dt_reg.fit(X_train, y_train)\n",
        "\n",
        "# Make predictions on the validation set\n",
        "y_val_pred = dt_reg.predict(X_val)\n",
        "\n",
        "# Calculate the mean squared error on the validation set\n",
        "mse = mean_squared_error(y_val, y_val_pred)\n",
        "print(f\"Mean Squared Error on the validation set: {mse}\")\n",
        "\n",
        "# Evaluate the model on the test set\n",
        "y_test_pred = dt_reg.predict(X_test)\n",
        "mse_test = mean_squared_error(y_test, y_test_pred)\n",
        "print(f\"Mean Squared Error on the test set: {mse_test}\")\n"
      ]
    },
    {
      "cell_type": "markdown",
      "metadata": {
        "id": "K-bNPPXnGwWw"
      },
      "source": [
        "### **5.9. Random Forest Regressor**"
      ]
    },
    {
      "cell_type": "code",
      "execution_count": null,
      "metadata": {
        "id": "5J2gyt7mGulN"
      },
      "outputs": [],
      "source": [
        "from sklearn.ensemble import RandomForestRegressor\n",
        "from sklearn.metrics import mean_squared_error\n",
        "\n",
        "# Create a Random Forest regression model\n",
        "rf_reg = RandomForestRegressor(n_estimators=100, random_state=42)\n",
        "\n",
        "# Fit the model on the training data\n",
        "rf_reg.fit(X_train, y_train)\n",
        "\n",
        "# Make predictions on the validation set\n",
        "y_val_pred = rf_reg.predict(X_val)\n",
        "\n",
        "# Calculate the mean squared error on the validation set\n",
        "mse = mean_squared_error(y_val, y_val_pred)\n",
        "print(f\"Mean Squared Error on the validation set: {mse}\")\n",
        "\n",
        "# Evaluate the model on the test set\n",
        "y_test_pred = rf_reg.predict(X_test)\n",
        "mse_test = mean_squared_error(y_test, y_test_pred)\n",
        "print(f\"Mean Squared Error on the test set: {mse_test}\")\n"
      ]
    },
    {
      "cell_type": "code",
      "execution_count": null,
      "metadata": {
        "id": "GKD9qO3zRkYo"
      },
      "outputs": [],
      "source": [
        "comparison = pd.DataFrame({'Model': ['Linear Regression', 'SGDRegressor', 'Random Forest'],\n",
        "                           'RMSE': [ sgd_rmse, rf_rmse]}, columns = ['Model', 'RMSE'])\n",
        "comparison"
      ]
    },
    {
      "cell_type": "markdown",
      "metadata": {
        "id": "LidEGQ8ATh1y"
      },
      "source": [
        "- Among the models evaluated, the Random Forest model demonstrates the lowest RMSE value of 0.245278, indicating that it has the smallest average prediction error compared to the other models. This suggests that the Random Forest model performs the best in terms of minimizing the discrepancy between predicted and actual values.\n",
        "\n",
        "- Both the Linear Regression and SGDRegressor models show relatively higher RMSE values of 1.037639 and 1.038636, respectively. This implies that these models have larger prediction errors compared to the Random Forest model.\n",
        "\n",
        "- Based on these results, it can be concluded that the Random Forest model is the most effective in predicting the target variable, as it yields the lowest RMSE among the evaluated models."
      ]
    },
    {
      "cell_type": "code",
      "execution_count": null,
      "metadata": {
        "id": "TrLDm4SORsN5"
      },
      "outputs": [],
      "source": [
        "importance = rf.feature_importances_\n",
        "for i,v in enumerate(importance):\n",
        " print('Feature: %0d, Score: %.5f' % (i,v))\n",
        "# plot feature importance\n",
        "plt.bar([x for x in range(len(importance))], importance)\n",
        "plt.show()"
      ]
    },
    {
      "cell_type": "markdown",
      "metadata": {
        "id": "71NNkbUDUQkx"
      },
      "source": [
        "- This graph displays the feature importance scores for each feature in the Random Forest model. The feature importance scores indicate the relative contribution of each feature in predicting the target variable.\n",
        "\n",
        "- The results show that feature 1 has the highest importance score of 0.12523, followed by feature 5 with a score of 0.11926. These two features appear to have the most significant impact on the model's predictions.\n",
        "\n",
        "- On the other hand, features 13, 8, 17, and 20 have the lowest importance scores, indicating that they contribute relatively less to the model's predictive power.\n",
        "\n",
        "- Understanding the feature importance can provide insights into the underlying relationships between the input features and the target variable. It can guide feature selection, help identify key variables driving predictions, and aid in interpreting the model's behavior."
      ]
    },
    {
      "cell_type": "markdown",
      "metadata": {
        "id": "Qf_MevJrR1Gz"
      },
      "source": [
        "### **Hyperparameter tuning**"
      ]
    },
    {
      "cell_type": "markdown",
      "metadata": {
        "id": "D-EE0GhAR6Um"
      },
      "source": [
        "**Randomized search**"
      ]
    },
    {
      "cell_type": "code",
      "execution_count": null,
      "metadata": {
        "id": "NfxKzGw0R_nC"
      },
      "outputs": [],
      "source": [
        "# Number of trees in random forest\n",
        "n_estimators = [int(x) for x in np.linspace(start = 20, stop = 80, num = 5)]\n",
        "# Number of features to consider at every split\n",
        "max_features = ['auto', 'sqrt']\n",
        "# Maximum number of levels in tree\n",
        "max_depth = [int(x) for x in np.linspace(10, 30, num = 3)]\n",
        "# Minimum number of samples required to split a node\n",
        "min_samples_split = [5, 10]\n",
        "\n",
        "# Create the random grid\n",
        "random_grid = {'n_estimators': n_estimators,\n",
        "               'max_features': max_features,\n",
        "               'max_depth': max_depth,\n",
        "               'min_samples_split': min_samples_split}\n",
        "print(random_grid)"
      ]
    },
    {
      "cell_type": "code",
      "execution_count": null,
      "metadata": {
        "id": "a-hz4yzDSGal"
      },
      "outputs": [],
      "source": [
        "rf_random = RandomizedSearchCV(estimator = rf, param_distributions = random_grid, n_iter = 100, cv = 3, \n",
        "                               verbose=2, random_state=42, n_jobs = -1, scoring='neg_root_mean_squared_error')\n",
        "# Fit the random search model\n",
        "rf_random.fit(X_train, y_train)"
      ]
    }
  ],
  "metadata": {
    "accelerator": "GPU",
    "colab": {
      "provenance": [],
      "authorship_tag": "ABX9TyOzl38CuQGDmNcEVDDE5UHP",
      "include_colab_link": true
    },
    "gpuClass": "standard",
    "kernelspec": {
      "display_name": "Python 3",
      "name": "python3"
    },
    "language_info": {
      "name": "python"
    }
  },
  "nbformat": 4,
  "nbformat_minor": 0
}