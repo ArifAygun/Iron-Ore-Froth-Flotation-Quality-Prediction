{
  "cells": [
    {
      "cell_type": "markdown",
      "metadata": {
        "id": "view-in-github",
        "colab_type": "text"
      },
      "source": [
        "<a href=\"https://colab.research.google.com/github/ArifAygun/Iron-Ore-Froth-Flotation-Quality-Prediction/blob/main/AA_Graduate_Project_3.ipynb\" target=\"_parent\"><img src=\"https://colab.research.google.com/assets/colab-badge.svg\" alt=\"Open In Colab\"/></a>"
      ]
    },
    {
      "cell_type": "markdown",
      "metadata": {
        "id": "I99UP0oywvLl"
      },
      "source": [
        "# **Quality Prediction of Iron Ore Mining Flotation Process - Part:3**"
      ]
    },
    {
      "cell_type": "markdown",
      "source": [
        "# **Machine Learning Models**"
      ],
      "metadata": {
        "id": "ff8nnt1muDMk"
      }
    },
    {
      "cell_type": "markdown",
      "metadata": {
        "id": "in9eB0oan8I8"
      },
      "source": [
        "### **Import Libraries and Modules**"
      ]
    },
    {
      "cell_type": "code",
      "execution_count": 1,
      "metadata": {
        "id": "ZWQKrdQ173zL"
      },
      "outputs": [],
      "source": [
        "import pandas as pd\n",
        "import numpy as np\n",
        "import seaborn as sns\n",
        "import matplotlib.pyplot as plt\n",
        "import statsmodels.api as sm\n",
        "import math\n",
        "import random\n",
        "import xgboost as xgb\n",
        "from sklearn.model_selection import train_test_split\n",
        "from sklearn.linear_model import LinearRegression\n",
        "from sklearn.metrics import mean_squared_error, r2_score\n",
        "from sklearn.ensemble import RandomForestRegressor"
      ]
    },
    {
      "cell_type": "markdown",
      "metadata": {
        "id": "Zg8iajc2xFrX"
      },
      "source": [
        "### **Import Dataset**"
      ]
    },
    {
      "cell_type": "code",
      "execution_count": 17,
      "metadata": {
        "colab": {
          "base_uri": "https://localhost:8080/",
          "height": 429
        },
        "id": "z6oIXclZ3LNo",
        "outputId": "2c27f24a-85c7-4b6a-c2e8-bdb15f927deb"
      },
      "outputs": [
        {
          "output_type": "stream",
          "name": "stdout",
          "text": [
            "Drive already mounted at /content/drive/; to attempt to forcibly remount, call drive.mount(\"/content/drive/\", force_remount=True).\n",
            "/content/drive/My Drive/Flotation\n"
          ]
        },
        {
          "output_type": "execute_result",
          "data": {
            "text/plain": [
              "                     0         1         2         3         4\n",
              "iron_feed     0.540799  0.540799  0.540799  0.540799  0.540799\n",
              "silica_feed   0.488314  0.488314  0.488314  0.488314  0.488314\n",
              "starch_flow   0.256417  0.244856  0.285080  0.269040  0.276932\n",
              "amina_flow    0.679801  0.595667  0.706357  0.708914  0.762635\n",
              "pulp_flow     0.531515  0.558640  0.531768  0.558523  0.552414\n",
              "pulp_pH       0.661952  0.669876  0.630313  0.567179  0.483360\n",
              "pulp_density  0.670355  0.471926  0.681237  0.674662  0.786425\n",
              "airflow       0.458967  0.454310  0.455980  0.455192  0.455045\n",
              "level         0.276882  0.272294  0.275446  0.378092  0.520677\n",
              "iron_conc     0.815436  0.840604  0.825503  0.788591  0.768456\n",
              "silica_conc   0.144016  0.103448  0.135903  0.154158  0.150101"
            ],
            "text/html": [
              "\n",
              "  <div id=\"df-1d42f180-66ac-4125-8b81-cf0e5aaf74cb\">\n",
              "    <div class=\"colab-df-container\">\n",
              "      <div>\n",
              "<style scoped>\n",
              "    .dataframe tbody tr th:only-of-type {\n",
              "        vertical-align: middle;\n",
              "    }\n",
              "\n",
              "    .dataframe tbody tr th {\n",
              "        vertical-align: top;\n",
              "    }\n",
              "\n",
              "    .dataframe thead th {\n",
              "        text-align: right;\n",
              "    }\n",
              "</style>\n",
              "<table border=\"1\" class=\"dataframe\">\n",
              "  <thead>\n",
              "    <tr style=\"text-align: right;\">\n",
              "      <th></th>\n",
              "      <th>0</th>\n",
              "      <th>1</th>\n",
              "      <th>2</th>\n",
              "      <th>3</th>\n",
              "      <th>4</th>\n",
              "    </tr>\n",
              "  </thead>\n",
              "  <tbody>\n",
              "    <tr>\n",
              "      <th>iron_feed</th>\n",
              "      <td>0.540799</td>\n",
              "      <td>0.540799</td>\n",
              "      <td>0.540799</td>\n",
              "      <td>0.540799</td>\n",
              "      <td>0.540799</td>\n",
              "    </tr>\n",
              "    <tr>\n",
              "      <th>silica_feed</th>\n",
              "      <td>0.488314</td>\n",
              "      <td>0.488314</td>\n",
              "      <td>0.488314</td>\n",
              "      <td>0.488314</td>\n",
              "      <td>0.488314</td>\n",
              "    </tr>\n",
              "    <tr>\n",
              "      <th>starch_flow</th>\n",
              "      <td>0.256417</td>\n",
              "      <td>0.244856</td>\n",
              "      <td>0.285080</td>\n",
              "      <td>0.269040</td>\n",
              "      <td>0.276932</td>\n",
              "    </tr>\n",
              "    <tr>\n",
              "      <th>amina_flow</th>\n",
              "      <td>0.679801</td>\n",
              "      <td>0.595667</td>\n",
              "      <td>0.706357</td>\n",
              "      <td>0.708914</td>\n",
              "      <td>0.762635</td>\n",
              "    </tr>\n",
              "    <tr>\n",
              "      <th>pulp_flow</th>\n",
              "      <td>0.531515</td>\n",
              "      <td>0.558640</td>\n",
              "      <td>0.531768</td>\n",
              "      <td>0.558523</td>\n",
              "      <td>0.552414</td>\n",
              "    </tr>\n",
              "    <tr>\n",
              "      <th>pulp_pH</th>\n",
              "      <td>0.661952</td>\n",
              "      <td>0.669876</td>\n",
              "      <td>0.630313</td>\n",
              "      <td>0.567179</td>\n",
              "      <td>0.483360</td>\n",
              "    </tr>\n",
              "    <tr>\n",
              "      <th>pulp_density</th>\n",
              "      <td>0.670355</td>\n",
              "      <td>0.471926</td>\n",
              "      <td>0.681237</td>\n",
              "      <td>0.674662</td>\n",
              "      <td>0.786425</td>\n",
              "    </tr>\n",
              "    <tr>\n",
              "      <th>airflow</th>\n",
              "      <td>0.458967</td>\n",
              "      <td>0.454310</td>\n",
              "      <td>0.455980</td>\n",
              "      <td>0.455192</td>\n",
              "      <td>0.455045</td>\n",
              "    </tr>\n",
              "    <tr>\n",
              "      <th>level</th>\n",
              "      <td>0.276882</td>\n",
              "      <td>0.272294</td>\n",
              "      <td>0.275446</td>\n",
              "      <td>0.378092</td>\n",
              "      <td>0.520677</td>\n",
              "    </tr>\n",
              "    <tr>\n",
              "      <th>iron_conc</th>\n",
              "      <td>0.815436</td>\n",
              "      <td>0.840604</td>\n",
              "      <td>0.825503</td>\n",
              "      <td>0.788591</td>\n",
              "      <td>0.768456</td>\n",
              "    </tr>\n",
              "    <tr>\n",
              "      <th>silica_conc</th>\n",
              "      <td>0.144016</td>\n",
              "      <td>0.103448</td>\n",
              "      <td>0.135903</td>\n",
              "      <td>0.154158</td>\n",
              "      <td>0.150101</td>\n",
              "    </tr>\n",
              "  </tbody>\n",
              "</table>\n",
              "</div>\n",
              "      <button class=\"colab-df-convert\" onclick=\"convertToInteractive('df-1d42f180-66ac-4125-8b81-cf0e5aaf74cb')\"\n",
              "              title=\"Convert this dataframe to an interactive table.\"\n",
              "              style=\"display:none;\">\n",
              "        \n",
              "  <svg xmlns=\"http://www.w3.org/2000/svg\" height=\"24px\"viewBox=\"0 0 24 24\"\n",
              "       width=\"24px\">\n",
              "    <path d=\"M0 0h24v24H0V0z\" fill=\"none\"/>\n",
              "    <path d=\"M18.56 5.44l.94 2.06.94-2.06 2.06-.94-2.06-.94-.94-2.06-.94 2.06-2.06.94zm-11 1L8.5 8.5l.94-2.06 2.06-.94-2.06-.94L8.5 2.5l-.94 2.06-2.06.94zm10 10l.94 2.06.94-2.06 2.06-.94-2.06-.94-.94-2.06-.94 2.06-2.06.94z\"/><path d=\"M17.41 7.96l-1.37-1.37c-.4-.4-.92-.59-1.43-.59-.52 0-1.04.2-1.43.59L10.3 9.45l-7.72 7.72c-.78.78-.78 2.05 0 2.83L4 21.41c.39.39.9.59 1.41.59.51 0 1.02-.2 1.41-.59l7.78-7.78 2.81-2.81c.8-.78.8-2.07 0-2.86zM5.41 20L4 18.59l7.72-7.72 1.47 1.35L5.41 20z\"/>\n",
              "  </svg>\n",
              "      </button>\n",
              "      \n",
              "  <style>\n",
              "    .colab-df-container {\n",
              "      display:flex;\n",
              "      flex-wrap:wrap;\n",
              "      gap: 12px;\n",
              "    }\n",
              "\n",
              "    .colab-df-convert {\n",
              "      background-color: #E8F0FE;\n",
              "      border: none;\n",
              "      border-radius: 50%;\n",
              "      cursor: pointer;\n",
              "      display: none;\n",
              "      fill: #1967D2;\n",
              "      height: 32px;\n",
              "      padding: 0 0 0 0;\n",
              "      width: 32px;\n",
              "    }\n",
              "\n",
              "    .colab-df-convert:hover {\n",
              "      background-color: #E2EBFA;\n",
              "      box-shadow: 0px 1px 2px rgba(60, 64, 67, 0.3), 0px 1px 3px 1px rgba(60, 64, 67, 0.15);\n",
              "      fill: #174EA6;\n",
              "    }\n",
              "\n",
              "    [theme=dark] .colab-df-convert {\n",
              "      background-color: #3B4455;\n",
              "      fill: #D2E3FC;\n",
              "    }\n",
              "\n",
              "    [theme=dark] .colab-df-convert:hover {\n",
              "      background-color: #434B5C;\n",
              "      box-shadow: 0px 1px 3px 1px rgba(0, 0, 0, 0.15);\n",
              "      filter: drop-shadow(0px 1px 2px rgba(0, 0, 0, 0.3));\n",
              "      fill: #FFFFFF;\n",
              "    }\n",
              "  </style>\n",
              "\n",
              "      <script>\n",
              "        const buttonEl =\n",
              "          document.querySelector('#df-1d42f180-66ac-4125-8b81-cf0e5aaf74cb button.colab-df-convert');\n",
              "        buttonEl.style.display =\n",
              "          google.colab.kernel.accessAllowed ? 'block' : 'none';\n",
              "\n",
              "        async function convertToInteractive(key) {\n",
              "          const element = document.querySelector('#df-1d42f180-66ac-4125-8b81-cf0e5aaf74cb');\n",
              "          const dataTable =\n",
              "            await google.colab.kernel.invokeFunction('convertToInteractive',\n",
              "                                                     [key], {});\n",
              "          if (!dataTable) return;\n",
              "\n",
              "          const docLinkHtml = 'Like what you see? Visit the ' +\n",
              "            '<a target=\"_blank\" href=https://colab.research.google.com/notebooks/data_table.ipynb>data table notebook</a>'\n",
              "            + ' to learn more about interactive tables.';\n",
              "          element.innerHTML = '';\n",
              "          dataTable['output_type'] = 'display_data';\n",
              "          await google.colab.output.renderOutput(dataTable, element);\n",
              "          const docLink = document.createElement('div');\n",
              "          docLink.innerHTML = docLinkHtml;\n",
              "          element.appendChild(docLink);\n",
              "        }\n",
              "      </script>\n",
              "    </div>\n",
              "  </div>\n",
              "  "
            ]
          },
          "metadata": {},
          "execution_count": 17
        }
      ],
      "source": [
        "from google.colab import drive\n",
        "drive.mount('/content/drive/')\n",
        "%cd /content/drive/My Drive/Flotation/\n",
        "\n",
        "flotation = pd.read_csv('flotation_scaled.csv')\n",
        "flotation.head().T"
      ]
    },
    {
      "cell_type": "markdown",
      "source": [
        "###**Split Dataset as X and y**"
      ],
      "metadata": {
        "id": "i_e8S9p1bWnu"
      }
    },
    {
      "cell_type": "code",
      "source": [
        "X = flotation.drop('silica_conc', axis=1)\n",
        "y_Si = flotation['silica_conc']\n",
        "\n",
        "print(\"Shape of X:\", X.shape)\n",
        "print(\"Shape of y_Si:\", y_Si.shape)"
      ],
      "metadata": {
        "colab": {
          "base_uri": "https://localhost:8080/"
        },
        "id": "3vs_5o3badpC",
        "outputId": "d0c644eb-bcdc-4658-ce41-d44d3b42216e"
      },
      "execution_count": 19,
      "outputs": [
        {
          "output_type": "stream",
          "name": "stdout",
          "text": [
            "Shape of X: (4097, 10)\n",
            "Shape of y_Si: (4097,)\n"
          ]
        }
      ]
    },
    {
      "cell_type": "markdown",
      "source": [
        "### **Split into train, validation, and test set**"
      ],
      "metadata": {
        "id": "PIAZ3P8Akbfl"
      }
    },
    {
      "cell_type": "code",
      "source": [
        "from sklearn.model_selection import train_test_split\n",
        "\n",
        "X_train, X_val_test, y_train, y_val_test = train_test_split(X, y_Si, \n",
        "                                           test_size=0.4, random_state=1)\n",
        "\n",
        "X_val, X_test, y_val, y_test = train_test_split(X_val_test, y_val_test, \n",
        "                                                test_size=0.5, random_state=1) \n",
        "\n",
        "print(X_train.shape[0], X_val.shape[0], X_test.shape[0])"
      ],
      "metadata": {
        "colab": {
          "base_uri": "https://localhost:8080/"
        },
        "id": "5qXjqF0SbvnM",
        "outputId": "ff4352fe-f633-463c-b2a1-9b5e86c02802"
      },
      "execution_count": 20,
      "outputs": [
        {
          "output_type": "stream",
          "name": "stdout",
          "text": [
            "2458 819 820\n"
          ]
        }
      ]
    },
    {
      "cell_type": "markdown",
      "source": [
        "### **Estimate and test a linear regression with all inputs**"
      ],
      "metadata": {
        "id": "Ie1KgMikeQQJ"
      }
    },
    {
      "cell_type": "code",
      "source": [
        "from sklearn import linear_model\n",
        "from sklearn.metrics import mean_squared_error, r2_score\n",
        "\n",
        "lr0 = linear_model.LinearRegression()\n",
        "\n",
        "lr0.fit(X_train, y_train)\n",
        "\n",
        "y_train_pred = lr0.predict(X_train)\n",
        "y_val_pred = lr0.predict(X_val)\n",
        "\n",
        "print('MSE on training set:')\n",
        "print(mean_squared_error(y_train, y_train_pred))\n",
        "print('MSE on validation set:')\n",
        "print(mean_squared_error(y_val, y_val_pred))\n",
        "print('')\n",
        "\n",
        "print('R squared on training set:')\n",
        "print(r2_score(y_train, y_train_pred))\n",
        "print('R squared on validation set:')\n",
        "print(r2_score(y_val, y_val_pred))"
      ],
      "metadata": {
        "colab": {
          "base_uri": "https://localhost:8080/"
        },
        "id": "VGKYFUD1cd9b",
        "outputId": "8676e824-9e22-456f-8c88-d7d0dfedaff5"
      },
      "execution_count": 21,
      "outputs": [
        {
          "output_type": "stream",
          "name": "stdout",
          "text": [
            "MSE on training set:\n",
            "0.015910449639251378\n",
            "MSE on validation set:\n",
            "0.016538188279176805\n",
            "\n",
            "R squared on training set:\n",
            "0.6837973814566114\n",
            "R squared on validation set:\n",
            "0.6719744191606916\n"
          ]
        }
      ]
    },
    {
      "cell_type": "markdown",
      "source": [
        "- Here we show that a linear regression model with lots of parameters, overfits on the training set and has a disappointing performance on the validation set.\n",
        "\n",
        "- We are not yet using the test set because we are going to try other models and then pick the best one."
      ],
      "metadata": {
        "id": "gnsedpnyeb2E"
      }
    },
    {
      "cell_type": "markdown",
      "source": [
        "### **Estimate and validate a linear regression with ten randomly chosen inputs**"
      ],
      "metadata": {
        "id": "zFSYphfveGmV"
      }
    },
    {
      "cell_type": "code",
      "source": [
        "import random\n",
        "from sklearn import linear_model\n",
        "from sklearn.metrics import mean_squared_error, r2_score\n",
        "\n",
        "random.seed(10)\n",
        "\n",
        "lr = linear_model.LinearRegression()\n",
        "\n",
        "input_indices = random.sample(range(0, X.shape[1]), 10)\n",
        "\n",
        "X_train_subset = X_train.iloc[:, input_indices]\n",
        "X_val_subset = X_val.iloc[:, input_indices]\n",
        "\n",
        "lr.fit(X_train_subset, y_train)\n",
        "\n",
        "y_train_pred = lr.predict(X_train_subset)\n",
        "y_val_pred = lr.predict(X_val_subset)\n",
        "\n",
        "print('MSE on training set:')\n",
        "print(mean_squared_error(y_train, y_train_pred))\n",
        "print('MSE on validation set:')\n",
        "print(mean_squared_error(y_val, y_val_pred))\n",
        "print('-'*25)\n",
        "print('R squared on training set:')\n",
        "print(r2_score(y_train, y_train_pred))\n",
        "print('R squared on validation set:')\n",
        "print(r2_score(y_val, y_val_pred))\n"
      ],
      "metadata": {
        "colab": {
          "base_uri": "https://localhost:8080/"
        },
        "id": "co3DROaLcd18",
        "outputId": "0220d564-d812-4d65-9d2d-a2441bc1aacc"
      },
      "execution_count": 22,
      "outputs": [
        {
          "output_type": "stream",
          "name": "stdout",
          "text": [
            "MSE on training set:\n",
            "0.015910449639251378\n",
            "MSE on validation set:\n",
            "0.016538188279176805\n",
            "-------------------------\n",
            "R squared on training set:\n",
            "0.6837973814566114\n",
            "R squared on validation set:\n",
            "0.6719744191606916\n"
          ]
        }
      ]
    },
    {
      "cell_type": "markdown",
      "source": [
        "- Here we show that overfitting is much less severe"
      ],
      "metadata": {
        "id": "qllIljhAfITO"
      }
    },
    {
      "cell_type": "markdown",
      "source": [
        "### **Estimate many linear regressions with ten randomly chosen inputs and pick the best one**"
      ],
      "metadata": {
        "id": "47W3zo5XfXb_"
      }
    },
    {
      "cell_type": "markdown",
      "source": [
        "- For 1000 times, randomly choose 10 inputs, estimate regression"
      ],
      "metadata": {
        "id": "M9CuOxsffjUZ"
      }
    },
    {
      "cell_type": "code",
      "source": [
        "import random\n",
        "from sklearn import linear_model\n",
        "from sklearn.metrics import mean_squared_error, r2_score\n",
        "\n",
        "random.seed(10)\n",
        "\n",
        "lr = linear_model.LinearRegression()\n",
        "\n",
        "input_indices = random.sample(range(0, X.shape[1]), 10)\n",
        "\n",
        "MSE = mean_squared_error(y_val, y_val_pred)\n",
        "\n",
        "for j in range(0, 1000):\n",
        "    lr_j = linear_model.LinearRegression()\n",
        "    input_indices_j = random.sample(range(0, X.shape[1]), 10)\n",
        "    lr_j.fit(X_train.iloc[:, input_indices_j], y_train)\n",
        "    y_val_pred_j = lr_j.predict(X_val.iloc[:, input_indices_j])\n",
        "    MSE_j = mean_squared_error(y_val, y_val_pred_j)\n",
        "    if MSE_j < MSE:\n",
        "        input_indices = input_indices_j\n",
        "        lr = lr_j\n",
        "        MSE = MSE_j\n",
        "\n",
        "# Make predictions on the train, validation, and test sets\n",
        "X_train_subset = X_train.iloc[:, input_indices]\n",
        "X_val_subset = X_val.iloc[:, input_indices]\n",
        "X_test_subset = X_test.iloc[:, input_indices]\n",
        "\n",
        "lr.fit(X_train_subset, y_train)\n",
        "\n",
        "y_train_pred = lr.predict(X_train_subset)\n",
        "y_val_pred = lr.predict(X_val_subset)\n",
        "y_test_pred = lr.predict(X_test_subset)\n",
        "\n",
        "print('MSE on training set:')\n",
        "print(mean_squared_error(y_train, y_train_pred))\n",
        "print('MSE on validation set:')\n",
        "print(mean_squared_error(y_val, y_val_pred))\n",
        "print('MSE on test set:')\n",
        "print(mean_squared_error(y_test, y_test_pred))\n",
        "print('')\n",
        "\n",
        "print('R squared on training set:')\n",
        "print(r2_score(y_train, y_train_pred))\n",
        "print('R squared on validation set:')\n",
        "print(r2_score(y_val, y_val_pred))\n",
        "print('R squared on test set:')\n",
        "print(r2_score(y_test, y_test_pred))\n"
      ],
      "metadata": {
        "colab": {
          "base_uri": "https://localhost:8080/"
        },
        "id": "uTSI4RuScdzC",
        "outputId": "cd58b9d2-7e89-4996-f99f-c8286fac465a"
      },
      "execution_count": 23,
      "outputs": [
        {
          "output_type": "stream",
          "name": "stdout",
          "text": [
            "MSE on training set:\n",
            "0.015910449639251378\n",
            "MSE on validation set:\n",
            "0.016538188279176795\n",
            "MSE on test set:\n",
            "0.017172259535480513\n",
            "\n",
            "R squared on training set:\n",
            "0.6837973814566114\n",
            "R squared on validation set:\n",
            "0.6719744191606918\n",
            "R squared on test set:\n",
            "0.6736118126581889\n"
          ]
        }
      ]
    },
    {
      "cell_type": "markdown",
      "source": [
        "- MSE values on the training, validation, and test sets are all relatively low, indicating that the model is able to fit the data well.\n",
        "\n",
        "- R-squared values on the training, validation, and test sets are all around 0.67-0.68, suggesting that the model explains about 67-68% of the variance in the target variable.\n",
        "\n",
        "- The model seems to perform reasonably well on the given dataset. However, it's important to note that the interpretation and evaluation of these metrics may vary depending on the specific context and requirements of the problem at hand."
      ],
      "metadata": {
        "id": "EO5StdQshaik"
      }
    },
    {
      "cell_type": "markdown",
      "source": [
        "## **10. Random Forest Regressor**"
      ],
      "metadata": {
        "id": "jyf_Tfb0ODO1"
      }
    },
    {
      "cell_type": "code",
      "source": [
        "rf1 = RandomForestRegressor(random_state = 0, n_estimators = 100)  \n",
        "rf1.fit(X_train,y_train)\n",
        "y_pred_rf = rf1.predict(X_test)\n",
        "print('R2 Score of Random Forest Regression',r2_score(y_test,y_pred_rf))"
      ],
      "metadata": {
        "id": "FkVf1LgAO4Ez",
        "colab": {
          "base_uri": "https://localhost:8080/"
        },
        "outputId": "97bff5b3-da9a-487c-e3dc-edbf654ec66d"
      },
      "execution_count": 25,
      "outputs": [
        {
          "output_type": "stream",
          "name": "stdout",
          "text": [
            "R2 Score of Random Forest Regression 0.7458296086893559\n"
          ]
        }
      ]
    },
    {
      "cell_type": "markdown",
      "source": [
        "### **Estimate and test a Random Forest Regressor with all inputs**"
      ],
      "metadata": {
        "id": "2IegoLesjUZw"
      }
    },
    {
      "cell_type": "code",
      "source": [
        "from sklearn.ensemble import RandomForestRegressor\n",
        "from sklearn.metrics import mean_squared_error, r2_score\n",
        "\n",
        "rf0 = RandomForestRegressor()\n",
        "\n",
        "rf0.fit(X_train, y_train)\n",
        "\n",
        "y_train_pred0 = rf0.predict(X_train)\n",
        "y_val_pred0 = rf0.predict(X_val)\n",
        "y_test_pred0 = rf0.predict(X_test)\n",
        "\n",
        "print('MSE on training set:')\n",
        "print(mean_squared_error(y_train, y_train_pred0))\n",
        "print('MSE on validation set:')\n",
        "print(mean_squared_error(y_val, y_val_pred0))\n",
        "print('MSE on test set:')\n",
        "print(mean_squared_error(y_test, y_test_pred0))\n",
        "print('-'*25)\n",
        "print('R squared on training set:')\n",
        "print(r2_score(y_train, y_train_pred0))\n",
        "print('R squared on validation set:')\n",
        "print(r2_score(y_val, y_val_pred0))\n",
        "print('R squared on test set:')\n",
        "print(r2_score(y_test, y_test_pred0))"
      ],
      "metadata": {
        "colab": {
          "base_uri": "https://localhost:8080/"
        },
        "id": "83L8KmI3kOwn",
        "outputId": "4db96aae-67f0-4dd4-fe66-3ccb6a10c1b4"
      },
      "execution_count": 29,
      "outputs": [
        {
          "output_type": "stream",
          "name": "stdout",
          "text": [
            "MSE on training set:\n",
            "0.0017140385432286424\n",
            "MSE on validation set:\n",
            "0.011863732984685604\n",
            "MSE on test set:\n",
            "0.013272989803509374\n",
            "-------------------------\n",
            "R squared on training set:\n",
            "0.9659353765643361\n",
            "R squared on validation set:\n",
            "0.7646895876663908\n",
            "R squared on test set:\n",
            "0.7477241085471082\n"
          ]
        }
      ]
    }
  ],
  "metadata": {
    "accelerator": "GPU",
    "colab": {
      "provenance": [],
      "authorship_tag": "ABX9TyPIWXr2WkC2W5y86SGQ9Xpl",
      "include_colab_link": true
    },
    "gpuClass": "standard",
    "kernelspec": {
      "display_name": "Python 3",
      "name": "python3"
    },
    "language_info": {
      "name": "python"
    }
  },
  "nbformat": 4,
  "nbformat_minor": 0
}