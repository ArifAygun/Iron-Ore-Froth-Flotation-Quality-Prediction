{
  "cells": [
    {
      "cell_type": "markdown",
      "metadata": {
        "id": "view-in-github",
        "colab_type": "text"
      },
      "source": [
        "<a href=\"https://colab.research.google.com/github/ArifAygun/Iron-Ore-Froth-Flotation-Quality-Prediction/blob/main/AA_Graduate_Project_3.ipynb\" target=\"_parent\"><img src=\"https://colab.research.google.com/assets/colab-badge.svg\" alt=\"Open In Colab\"/></a>"
      ]
    },
    {
      "cell_type": "markdown",
      "metadata": {
        "id": "I99UP0oywvLl"
      },
      "source": [
        "# **Quality Prediction of Iron Ore Mining Flotation Process - Part:3**"
      ]
    },
    {
      "cell_type": "markdown",
      "metadata": {
        "id": "in9eB0oan8I8"
      },
      "source": [
        "### **Import Libraries and Modules**"
      ]
    },
    {
      "cell_type": "code",
      "execution_count": 2,
      "metadata": {
        "id": "ZWQKrdQ173zL"
      },
      "outputs": [],
      "source": [
        "import pandas as pd\n",
        "import numpy as np\n",
        "import seaborn as sns\n",
        "import matplotlib.pyplot as plt\n",
        "import statsmodels.api as sm\n",
        "import math\n",
        "import random\n",
        "from sklearn.preprocessing import StandardScaler\n",
        "from sklearn.model_selection import train_test_split\n",
        "from sklearn.linear_model import LinearRegression\n",
        "from sklearn.metrics import mean_squared_error, r2_score\n",
        "from sklearn.ensemble import RandomForestRegressor"
      ]
    },
    {
      "cell_type": "markdown",
      "metadata": {
        "id": "Zg8iajc2xFrX"
      },
      "source": [
        "### **Import and Divide Dataset**"
      ]
    },
    {
      "cell_type": "code",
      "execution_count": 3,
      "metadata": {
        "colab": {
          "base_uri": "https://localhost:8080/"
        },
        "id": "z6oIXclZ3LNo",
        "outputId": "d90d9396-0430-4a33-e5f6-269f8d649e87"
      },
      "outputs": [
        {
          "output_type": "stream",
          "name": "stdout",
          "text": [
            "Mounted at /content/drive/\n",
            "/content/drive/My Drive/Flotation\n"
          ]
        }
      ],
      "source": [
        "from google.colab import drive\n",
        "drive.mount('/content/drive/')\n",
        "%cd /content/drive/My Drive/Flotation/\n",
        "\n",
        "flotation_conditions = pd.read_csv('flotation_conditions.csv')\n",
        "concentrates = pd.read_csv('concentrates.csv')\n",
        "iron_concentrate = pd.read_csv('iron_concentrate.csv')\n",
        "silica_concentrate = pd.read_csv('silica_concentrate.csv')"
      ]
    },
    {
      "cell_type": "markdown",
      "source": [
        "## **9. Multi Linear Regressor**"
      ],
      "metadata": {
        "id": "OabgNx70LxB0"
      }
    },
    {
      "cell_type": "code",
      "source": [
        "#train test split for regression training and testing \n",
        "x_train, x_test, y_train, y_test = train_test_split(flotation_conditions, concentrates,\n",
        "                                                    test_size=0.20, random_state=0)"
      ],
      "metadata": {
        "id": "ySNHa76JLfc_"
      },
      "execution_count": 4,
      "outputs": []
    },
    {
      "cell_type": "code",
      "source": [
        "mlr = LinearRegression()\n",
        "mlr.fit(x_train,y_train)\n",
        "\n",
        "y_pred_mlr = mlr.predict(x_test)\n",
        "print('R2 Score of Multi Linear Regression',r2_score(y_test,y_pred_mlr))"
      ],
      "metadata": {
        "colab": {
          "base_uri": "https://localhost:8080/"
        },
        "id": "DSfYhR2bMU7p",
        "outputId": "aaa0e917-7637-4388-82e0-48510c6436d6"
      },
      "execution_count": 5,
      "outputs": [
        {
          "output_type": "stream",
          "name": "stdout",
          "text": [
            "R2 Score of Multi Linear Regression 0.18662737342875502\n"
          ]
        }
      ]
    },
    {
      "cell_type": "markdown",
      "source": [
        "The R2 score of 0.1866 for the Multi Linear Regression model suggests that the model explains only around 18.66% of the variability in the target variables. This indicates that the model has limited predictive power in this case. It is important to consider other factors and evaluation metrics to assess the model's effectiveness. A low R2 score may indicate weak correlation between the independent variables and the target variables or the presence of unaccounted factors affecting the target variable. Further analysis and model improvements may be needed."
      ],
      "metadata": {
        "id": "XqMMfKaDS374"
      }
    },
    {
      "cell_type": "markdown",
      "source": [
        "## **10. Random Forest Regressor**"
      ],
      "metadata": {
        "id": "jyf_Tfb0ODO1"
      }
    },
    {
      "cell_type": "code",
      "source": [
        "rf1 = RandomForestRegressor(random_state = 0, n_estimators = 100)  \n",
        "rf1.fit(x_train,y_train) \n",
        "y_pred_rf = rf1.predict(x_test)"
      ],
      "metadata": {
        "id": "FkVf1LgAO4Ez"
      },
      "execution_count": 6,
      "outputs": []
    },
    {
      "cell_type": "code",
      "source": [
        "rf2 = RandomForestRegressor(random_state = 0, n_estimators = 100)  \n",
        "rf2.fit(flotation_conditions,concentrates)\n",
        "y_pred_rf2 = rf1.predict(flotation_conditions)"
      ],
      "metadata": {
        "id": "8fvIQVjzPUrI"
      },
      "execution_count": 7,
      "outputs": []
    },
    {
      "cell_type": "code",
      "source": [
        "print('R2 Score of Random Forest Regression with Train-Test Split',r2_score(y_test,y_pred_rf))\n",
        "print('R2 Score of Random Forest Regression with Whole Data',r2_score(concentrates,y_pred_rf2))"
      ],
      "metadata": {
        "colab": {
          "base_uri": "https://localhost:8080/"
        },
        "id": "6dzPlxvuQGyM",
        "outputId": "2f6fb8dc-7976-45c7-cf66-0b5e20450620"
      },
      "execution_count": 8,
      "outputs": [
        {
          "output_type": "stream",
          "name": "stdout",
          "text": [
            "R2 Score of Random Forest Regression with Train-Test Split 0.326715411986887\n",
            "R2 Score of Random Forest Regression with Whole Data 0.7883449853154547\n"
          ]
        }
      ]
    },
    {
      "cell_type": "markdown",
      "source": [
        "The Random Forest Regression model achieves a higher R2 score compared to the Multi Linear Regression model, indicating better performance in capturing the underlying patterns and relationships in the data. The R2 score of 0.3267 for the train-test split suggests that the model can explain approximately 32.67% of the variability in the target variable, while the R2 score of 0.7883 for the whole dataset suggests that the model can explain approximately 78.83% of the variability."
      ],
      "metadata": {
        "id": "knpiZGgNTvwY"
      }
    },
    {
      "cell_type": "markdown",
      "source": [
        "### **10.1. Iron Random Forest Model**"
      ],
      "metadata": {
        "id": "2Qb24ICNQYQZ"
      }
    },
    {
      "cell_type": "code",
      "source": [
        "regressor_Fe = RandomForestRegressor(random_state=0, n_estimators=100)\n",
        "regressor_Fe.fit(flotation_conditions, iron_concentrate.values.ravel())\n",
        "y_pred_Fe = regressor_Fe.predict(flotation_conditions)\n",
        "\n",
        "print('R2 Score of Random Forest Regression for Iron Concentrate:', r2_score(iron_concentrate, y_pred_Fe))"
      ],
      "metadata": {
        "colab": {
          "base_uri": "https://localhost:8080/"
        },
        "id": "7ZHmMiPIQgfz",
        "outputId": "4a097e03-3ccf-4e10-db8c-290f71cb798a"
      },
      "execution_count": 9,
      "outputs": [
        {
          "output_type": "stream",
          "name": "stdout",
          "text": [
            "R2 Score of Random Forest Regression for Iron Concentrate: 0.9089028341021771\n"
          ]
        }
      ]
    },
    {
      "cell_type": "markdown",
      "source": [
        "The Random Forest Regression model for predicting the Iron Concentrate has achieved a high R2 score of 0.9089. This indicates that the model can explain approximately 90.89% of the variability in the Iron Concentrate based on the provided features. A high R2 score suggests that the model is able to effectively capture the patterns and relationships in the data, resulting in accurate predictions."
      ],
      "metadata": {
        "id": "SpkWdrr7UAdX"
      }
    },
    {
      "cell_type": "markdown",
      "source": [
        "### **10.2. Silica Random Forest Model**"
      ],
      "metadata": {
        "id": "9aG69nzsRpXD"
      }
    },
    {
      "cell_type": "code",
      "source": [
        "regressor_Si = RandomForestRegressor(random_state=0, n_estimators=100)\n",
        "regressor_Si.fit(flotation_conditions, silica_concentrate.values.ravel())\n",
        "y_pred_Si = regressor_Si.predict(flotation_conditions)\n",
        "\n",
        "print('R2 Score of Random Forest Regression for Silica Concentrate:', r2_score(silica_concentrate, y_pred_Si))"
      ],
      "metadata": {
        "colab": {
          "base_uri": "https://localhost:8080/"
        },
        "id": "JEu7KL0AR6OM",
        "outputId": "1181e028-6c6a-4c0b-b308-024bea8fde5b"
      },
      "execution_count": 10,
      "outputs": [
        {
          "output_type": "stream",
          "name": "stdout",
          "text": [
            "R2 Score of Random Forest Regression for Silica Concentrate: 0.9100704799723327\n"
          ]
        }
      ]
    },
    {
      "cell_type": "markdown",
      "source": [
        "The Random Forest Regression model for predicting the Silica Concentrate has achieved a high R2 score of 0.9101. This indicates that the model can explain approximately 91.01% of the variability in the Silica Concentrate based on the provided features. The high R2 score suggests that the model is able to accurately capture the relationships and patterns in the data, resulting in precise predictions for the Silica Concentrate. \n",
        "\n",
        "**Random Forest Regression model demonstrates strong performance in predicting the Iron and Silica Concentrates, providing valuable insights for the flotation process.**"
      ],
      "metadata": {
        "id": "lUKlhpAdUhiN"
      }
    }
  ],
  "metadata": {
    "accelerator": "GPU",
    "colab": {
      "provenance": [],
      "authorship_tag": "ABX9TyMkqLsXvGyObpZwug3TTLUa",
      "include_colab_link": true
    },
    "gpuClass": "standard",
    "kernelspec": {
      "display_name": "Python 3",
      "name": "python3"
    },
    "language_info": {
      "name": "python"
    }
  },
  "nbformat": 4,
  "nbformat_minor": 0
}