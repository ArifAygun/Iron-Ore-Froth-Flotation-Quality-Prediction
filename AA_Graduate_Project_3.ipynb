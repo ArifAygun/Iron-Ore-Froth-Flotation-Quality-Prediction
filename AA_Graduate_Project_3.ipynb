{
  "cells": [
    {
      "cell_type": "markdown",
      "metadata": {
        "id": "view-in-github",
        "colab_type": "text"
      },
      "source": [
        "<a href=\"https://colab.research.google.com/github/ArifAygun/Iron-Ore-Froth-Flotation-Quality-Prediction/blob/main/AA_Graduate_Project_3.ipynb\" target=\"_parent\"><img src=\"https://colab.research.google.com/assets/colab-badge.svg\" alt=\"Open In Colab\"/></a>"
      ]
    },
    {
      "cell_type": "markdown",
      "metadata": {
        "id": "I99UP0oywvLl"
      },
      "source": [
        "# **Quality Prediction of Iron Ore Mining Flotation Process - Part:3**"
      ]
    },
    {
      "cell_type": "markdown",
      "source": [
        "# **Machine Learning Models**"
      ],
      "metadata": {
        "id": "ff8nnt1muDMk"
      }
    },
    {
      "cell_type": "markdown",
      "metadata": {
        "id": "in9eB0oan8I8"
      },
      "source": [
        "### **Import Libraries and Modules**"
      ]
    },
    {
      "cell_type": "code",
      "execution_count": 45,
      "metadata": {
        "id": "ZWQKrdQ173zL"
      },
      "outputs": [],
      "source": [
        "import pandas as pd\n",
        "import numpy as np\n",
        "import seaborn as sns\n",
        "import matplotlib.pyplot as plt\n",
        "import statsmodels.api as sm\n",
        "import math\n",
        "import random\n",
        "from sklearn.preprocessing import StandardScaler\n",
        "from sklearn.model_selection import train_test_split\n",
        "from sklearn.linear_model import LinearRegression\n",
        "from sklearn.metrics import mean_squared_error, r2_score\n",
        "from sklearn.ensemble import RandomForestRegressor"
      ]
    },
    {
      "cell_type": "markdown",
      "metadata": {
        "id": "Zg8iajc2xFrX"
      },
      "source": [
        "### **Import and Divide Dataset**"
      ]
    },
    {
      "cell_type": "code",
      "execution_count": 46,
      "metadata": {
        "colab": {
          "base_uri": "https://localhost:8080/"
        },
        "id": "z6oIXclZ3LNo",
        "outputId": "ea3743bc-2477-4e3c-cec8-5f5e12ed8e98"
      },
      "outputs": [
        {
          "output_type": "stream",
          "name": "stdout",
          "text": [
            "Drive already mounted at /content/drive/; to attempt to forcibly remount, call drive.mount(\"/content/drive/\", force_remount=True).\n",
            "/content/drive/My Drive/Flotation\n"
          ]
        }
      ],
      "source": [
        "from google.colab import drive\n",
        "drive.mount('/content/drive/')\n",
        "%cd /content/drive/My Drive/Flotation/\n",
        "\n",
        "flotation_conditions = pd.read_csv('flotation_conditions.csv')\n",
        "concentrates = pd.read_csv('concentrates.csv')\n",
        "iron_concentrate = pd.read_csv('iron_concentrate.csv')\n",
        "silica_concentrate = pd.read_csv('silica_concentrate.csv')"
      ]
    },
    {
      "cell_type": "markdown",
      "source": [
        "## **9. Multi Linear Regressor**"
      ],
      "metadata": {
        "id": "OabgNx70LxB0"
      }
    },
    {
      "cell_type": "code",
      "source": [
        "#train test split for regression training and testing \n",
        "x_train, x_test, y_train, y_test = train_test_split(flotation_conditions, concentrates,\n",
        "                                                    test_size=0.20, random_state=0)"
      ],
      "metadata": {
        "id": "ySNHa76JLfc_"
      },
      "execution_count": 47,
      "outputs": []
    },
    {
      "cell_type": "code",
      "source": [
        "mlr = LinearRegression()\n",
        "mlr.fit(x_train,y_train)\n",
        "\n",
        "y_pred_mlr = mlr.predict(x_test)\n",
        "print('R2 Score of Multi Linear Regression',r2_score(y_test,y_pred_mlr))"
      ],
      "metadata": {
        "colab": {
          "base_uri": "https://localhost:8080/"
        },
        "id": "DSfYhR2bMU7p",
        "outputId": "8eb5e5be-5333-4258-9aad-06afc7debb4d"
      },
      "execution_count": 48,
      "outputs": [
        {
          "output_type": "stream",
          "name": "stdout",
          "text": [
            "R2 Score of Multi Linear Regression 0.18662737342875502\n"
          ]
        }
      ]
    },
    {
      "cell_type": "markdown",
      "source": [
        "The R2 score of 0.1866 for the Multi Linear Regression model suggests that the model explains only around 18.66% of the variability in the target variables. This indicates that the model has limited predictive power in this case. It is important to consider other factors and evaluation metrics to assess the model's effectiveness. A low R2 score may indicate weak correlation between the independent variables and the target variables or the presence of unaccounted factors affecting the target variable. Further analysis and model improvements may be needed."
      ],
      "metadata": {
        "id": "XqMMfKaDS374"
      }
    },
    {
      "cell_type": "markdown",
      "source": [
        "## **10. Random Forest Regressor**"
      ],
      "metadata": {
        "id": "jyf_Tfb0ODO1"
      }
    },
    {
      "cell_type": "code",
      "source": [
        "rf1 = RandomForestRegressor(random_state = 0, n_estimators = 100)  \n",
        "rf1.fit(x_train,y_train) \n",
        "y_pred_rf = rf1.predict(x_test)"
      ],
      "metadata": {
        "id": "FkVf1LgAO4Ez"
      },
      "execution_count": 49,
      "outputs": []
    },
    {
      "cell_type": "code",
      "source": [
        "rf2 = RandomForestRegressor(random_state = 0, n_estimators = 100)  \n",
        "rf2.fit(flotation_conditions,concentrates)\n",
        "y_pred_rf2 = rf1.predict(flotation_conditions)"
      ],
      "metadata": {
        "id": "8fvIQVjzPUrI"
      },
      "execution_count": 50,
      "outputs": []
    },
    {
      "cell_type": "code",
      "source": [
        "print('R2 Score of Random Forest Regression with Train-Test Split',r2_score(y_test,y_pred_rf))\n",
        "print('R2 Score of Random Forest Regression with Whole Data',r2_score(concentrates,y_pred_rf2))"
      ],
      "metadata": {
        "colab": {
          "base_uri": "https://localhost:8080/"
        },
        "id": "6dzPlxvuQGyM",
        "outputId": "72643355-1cde-44ec-fbaa-a58998fbe512"
      },
      "execution_count": 51,
      "outputs": [
        {
          "output_type": "stream",
          "name": "stdout",
          "text": [
            "R2 Score of Random Forest Regression with Train-Test Split 0.326715411986887\n",
            "R2 Score of Random Forest Regression with Whole Data 0.7883449853154547\n"
          ]
        }
      ]
    },
    {
      "cell_type": "markdown",
      "source": [
        "The Random Forest Regression model achieves a higher R2 score compared to the Multi Linear Regression model, indicating better performance in capturing the underlying patterns and relationships in the data. The R2 score of 0.3267 for the train-test split suggests that the model can explain approximately 32.67% of the variability in the target variable, while the R2 score of 0.7883 for the whole dataset suggests that the model can explain approximately 78.83% of the variability."
      ],
      "metadata": {
        "id": "knpiZGgNTvwY"
      }
    },
    {
      "cell_type": "markdown",
      "source": [
        "### **10.1. Random Forest Model for Iron Concentrate**"
      ],
      "metadata": {
        "id": "2Qb24ICNQYQZ"
      }
    },
    {
      "cell_type": "code",
      "source": [
        "regressor_Fe = RandomForestRegressor(random_state=0, n_estimators=100)\n",
        "regressor_Fe.fit(flotation_conditions, iron_concentrate.values.ravel())\n",
        "y_pred_Fe = regressor_Fe.predict(flotation_conditions)\n",
        "\n",
        "r2_score_Fe = r2_score(iron_concentrate, y_pred_Fe)\n",
        "mse_Fe = mean_squared_error(iron_concentrate, y_pred_Fe)\n",
        "\n",
        "print('R2 Score of Random Forest Regression for Iron Concentrate:', r2_score_Fe)\n",
        "print('Mean Squared Error (MSE) of Random Forest Regression for Iron Concentrate:', mse_Fe)\n"
      ],
      "metadata": {
        "colab": {
          "base_uri": "https://localhost:8080/"
        },
        "id": "xgBBUpX8rE3Y",
        "outputId": "341928df-fc8b-422c-e51e-8bde598dfcd9"
      },
      "execution_count": 52,
      "outputs": [
        {
          "output_type": "stream",
          "name": "stdout",
          "text": [
            "R2 Score of Random Forest Regression for Iron Concentrate: 0.9089028341021771\n",
            "Mean Squared Error (MSE) of Random Forest Regression for Iron Concentrate: 0.11385778613603315\n"
          ]
        }
      ]
    },
    {
      "cell_type": "markdown",
      "source": [
        "The Random Forest Regression model for predicting the Iron Concentrate has achieved a high R2 score of 0.909. This indicates that the model can explain approximately 91% of the variability in the Iron Concentrate based on the provided features. A high R2 score suggests that the model is able to effectively capture the patterns and relationships in the data, resulting in accurate predictions.\n",
        "\n",
        "The MSE of 0.1139 suggests that, on average, the squared difference between the predicted and actual iron concentrate values is relatively small. This indicates that the model's predictions are generally close to the actual values, indicating good accuracy."
      ],
      "metadata": {
        "id": "SpkWdrr7UAdX"
      }
    },
    {
      "cell_type": "markdown",
      "source": [
        "### **10.2. Random Forest Model for Silica Concentrate**"
      ],
      "metadata": {
        "id": "9aG69nzsRpXD"
      }
    },
    {
      "cell_type": "code",
      "source": [
        "regressor_Si = RandomForestRegressor(random_state=0, n_estimators=100)\n",
        "regressor_Si.fit(flotation_conditions, silica_concentrate.values.ravel())\n",
        "y_pred_Si = regressor_Si.predict(flotation_conditions)\n",
        "\n",
        "r2_score_Si = r2_score(silica_concentrate, y_pred_Si)\n",
        "mse_Si = mean_squared_error(silica_concentrate, y_pred_Si)\n",
        "\n",
        "print('R2 Score of Random Forest Regression for Silica Concentrate:', r2_score_Si)\n",
        "print('Mean Squared Error (MSE) of Random Forest Regression for Silica Concentrate:', mse_Si)\n"
      ],
      "metadata": {
        "colab": {
          "base_uri": "https://localhost:8080/"
        },
        "id": "yxnhG3WFsCrs",
        "outputId": "4f1aca62-c626-4e93-80e3-e84beb946889"
      },
      "execution_count": 53,
      "outputs": [
        {
          "output_type": "stream",
          "name": "stdout",
          "text": [
            "R2 Score of Random Forest Regression for Silica Concentrate: 0.9100704799723327\n",
            "Mean Squared Error (MSE) of Random Forest Regression for Silica Concentrate: 0.11374115782077435\n"
          ]
        }
      ]
    },
    {
      "cell_type": "markdown",
      "source": [
        "The R2 score of 0.91 for the Random Forest Regression model predicting the Silica Concentrate suggests that approximately 91% of the variance in the Silica Concentrate can be explained by the given flotation conditions. This indicates a strong correlation between the predictor variables and the Silica Concentrate.\n",
        "\n",
        "Similarly, the Mean Squared Error (MSE) of 0.1137 indicates that, on average, the squared difference between the predicted and actual Silica Concentrate values is relatively small. This suggests that the model's predictions are generally accurate and close to the actual values.\n",
        "\n",
        "Both the R2 score and MSE indicate that the Random Forest Regression model performs well in predicting the Silica Concentrate based on the provided flotation conditions. These results suggest that the model captures the underlying patterns and relationships effectively."
      ],
      "metadata": {
        "id": "lUKlhpAdUhiN"
      }
    }
  ],
  "metadata": {
    "accelerator": "GPU",
    "colab": {
      "provenance": [],
      "authorship_tag": "ABX9TyNAVOjU2rdPa3fw8ghpNFHC",
      "include_colab_link": true
    },
    "gpuClass": "standard",
    "kernelspec": {
      "display_name": "Python 3",
      "name": "python3"
    },
    "language_info": {
      "name": "python"
    }
  },
  "nbformat": 4,
  "nbformat_minor": 0
}