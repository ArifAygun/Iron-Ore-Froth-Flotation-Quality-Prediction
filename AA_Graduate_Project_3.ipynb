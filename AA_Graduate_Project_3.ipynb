{
  "cells": [
    {
      "cell_type": "markdown",
      "metadata": {
        "id": "view-in-github",
        "colab_type": "text"
      },
      "source": [
        "<a href=\"https://colab.research.google.com/github/ArifAygun/Iron-Ore-Froth-Flotation-Quality-Prediction/blob/main/AA_Graduate_Project_3.ipynb\" target=\"_parent\"><img src=\"https://colab.research.google.com/assets/colab-badge.svg\" alt=\"Open In Colab\"/></a>"
      ]
    },
    {
      "cell_type": "markdown",
      "metadata": {
        "id": "I99UP0oywvLl"
      },
      "source": [
        "# **Quality Prediction of Iron Ore Mining Flotation Process - Part:3**"
      ]
    },
    {
      "cell_type": "markdown",
      "metadata": {
        "id": "in9eB0oan8I8"
      },
      "source": [
        "### **5.1. Import Libraries and Modules**"
      ]
    },
    {
      "cell_type": "code",
      "execution_count": null,
      "metadata": {
        "id": "ZWQKrdQ173zL"
      },
      "outputs": [],
      "source": [
        "import pandas as pd\n",
        "import numpy as np\n",
        "import seaborn as sns\n",
        "import matplotlib.pyplot as plt\n",
        "import statsmodels.api as sm\n",
        "import math\n",
        "from sklearn.preprocessing import StandardScaler\n",
        "from sklearn.model_selection import train_test_split, RandomizedSearchCV\n",
        "from sklearn.linear_model import LinearRegression, Lasso, Ridge, SGDRegressor, ElasticNet\n",
        "from sklearn.metrics import mean_squared_error, r2_score\n",
        "from sklearn.ensemble import RandomForestRegressor\n",
        "from google.colab import drive"
      ]
    },
    {
      "cell_type": "markdown",
      "metadata": {
        "id": "Zg8iajc2xFrX"
      },
      "source": [
        "### **5.2. Import and Divide Dataset**"
      ]
    },
    {
      "cell_type": "code",
      "execution_count": null,
      "metadata": {
        "colab": {
          "base_uri": "https://localhost:8080/"
        },
        "id": "z6oIXclZ3LNo",
        "outputId": "be78f1c1-5bcc-4e7f-c5ef-bfd273ba99ae"
      },
      "outputs": [
        {
          "output_type": "stream",
          "name": "stdout",
          "text": [
            "Drive already mounted at /content/drive/; to attempt to forcibly remount, call drive.mount(\"/content/drive/\", force_remount=True).\n",
            "/content/drive/My Drive/Flotation\n"
          ]
        }
      ],
      "source": [
        "drive.mount('/content/drive/')\n",
        "%cd /content/drive/My Drive/Flotation/\n",
        "flotation_conditions = pd.read_csv('flotation_conditions.csv')\n",
        "iron_concentrate = pd.read_csv('iron_concentrate.csv')\n",
        "silica_concentrate = pd.read_csv('silica_concentrate.csv')"
      ]
    }
  ],
  "metadata": {
    "accelerator": "GPU",
    "colab": {
      "provenance": [],
      "authorship_tag": "ABX9TyPZ8L1jIq1h16+9J6fyuYVw",
      "include_colab_link": true
    },
    "gpuClass": "standard",
    "kernelspec": {
      "display_name": "Python 3",
      "name": "python3"
    },
    "language_info": {
      "name": "python"
    }
  },
  "nbformat": 4,
  "nbformat_minor": 0
}