{
  "cells": [
    {
      "cell_type": "markdown",
      "metadata": {
        "id": "view-in-github",
        "colab_type": "text"
      },
      "source": [
        "<a href=\"https://colab.research.google.com/github/ArifAygun/Iron-Ore-Froth-Flotation-Quality-Prediction/blob/main/AA_Graduate_Project_2_Pipeline.ipynb\" target=\"_parent\"><img src=\"https://colab.research.google.com/assets/colab-badge.svg\" alt=\"Open In Colab\"/></a>"
      ]
    },
    {
      "cell_type": "markdown",
      "metadata": {
        "id": "I99UP0oywvLl"
      },
      "source": [
        "# **Quality Prediction of Iron Ore Mining Flotation Process - Part:2**"
      ]
    },
    {
      "cell_type": "markdown",
      "metadata": {
        "id": "in9eB0oan8I8"
      },
      "source": [
        "### **Import Libraries and Modules**"
      ]
    },
    {
      "cell_type": "code",
      "execution_count": 38,
      "metadata": {
        "id": "ZWQKrdQ173zL"
      },
      "outputs": [],
      "source": [
        "import pandas as pd\n",
        "import numpy as np\n",
        "import seaborn as sns\n",
        "import matplotlib.pyplot as plt\n",
        "import statsmodels.api as sm\n",
        "import math\n",
        "import random\n",
        "import xgboost as xgb\n",
        "from sklearn.model_selection import train_test_split, KFold\n",
        "from sklearn.model_selection import cross_val_predict, cross_val_score\n",
        "from sklearn.linear_model import LinearRegression\n",
        "from sklearn.metrics import mean_squared_error, mean_absolute_error, r2_score\n",
        "from sklearn.ensemble import RandomForestRegressor\n",
        "from sklearn.preprocessing import StandardScaler\n",
        "from sklearn.pipeline import Pipeline"
      ]
    },
    {
      "cell_type": "markdown",
      "metadata": {
        "id": "Zg8iajc2xFrX"
      },
      "source": [
        "### **Import Dataset**"
      ]
    },
    {
      "cell_type": "code",
      "execution_count": 39,
      "metadata": {
        "colab": {
          "base_uri": "https://localhost:8080/",
          "height": 429
        },
        "id": "z6oIXclZ3LNo",
        "outputId": "9cdaadcc-39b5-4710-bb4a-6868f604b554"
      },
      "outputs": [
        {
          "output_type": "stream",
          "name": "stdout",
          "text": [
            "Drive already mounted at /content/drive/; to attempt to forcibly remount, call drive.mount(\"/content/drive/\", force_remount=True).\n",
            "/content/drive/My Drive/Flotation\n"
          ]
        },
        {
          "output_type": "execute_result",
          "data": {
            "text/plain": [
              "                       0           1           2           3           4\n",
              "iron_feed      55.200000   55.200000   55.200000   55.200000   55.200000\n",
              "silica_feed    16.980000   16.980000   16.980000   16.980000   16.980000\n",
              "starch_flow   323.277098  313.325639  347.948294  334.142022  340.935100\n",
              "amina_flow    578.786678  537.219661  591.906744  593.170106  619.710806\n",
              "pulp_flow     398.753368  399.871822  398.763806  399.866983  399.615089\n",
              "pulp_pH        10.113621   10.129944   10.048444    9.918389    9.745722\n",
              "pulp_density    1.729598    1.667556    1.733000    1.730944    1.765889\n",
              "airflow       264.929678  264.490111  264.647722  264.573311  264.559433\n",
              "level         452.624362  450.767561  452.043033  493.578506  551.274806\n",
              "iron_conc      66.910000   67.060000   66.970000   66.750000   66.630000\n",
              "silica_conc     1.310000    1.110000    1.270000    1.360000    1.340000"
            ],
            "text/html": [
              "\n",
              "  <div id=\"df-2e24ee58-e2b7-4134-b50f-fbc0e0c21747\">\n",
              "    <div class=\"colab-df-container\">\n",
              "      <div>\n",
              "<style scoped>\n",
              "    .dataframe tbody tr th:only-of-type {\n",
              "        vertical-align: middle;\n",
              "    }\n",
              "\n",
              "    .dataframe tbody tr th {\n",
              "        vertical-align: top;\n",
              "    }\n",
              "\n",
              "    .dataframe thead th {\n",
              "        text-align: right;\n",
              "    }\n",
              "</style>\n",
              "<table border=\"1\" class=\"dataframe\">\n",
              "  <thead>\n",
              "    <tr style=\"text-align: right;\">\n",
              "      <th></th>\n",
              "      <th>0</th>\n",
              "      <th>1</th>\n",
              "      <th>2</th>\n",
              "      <th>3</th>\n",
              "      <th>4</th>\n",
              "    </tr>\n",
              "  </thead>\n",
              "  <tbody>\n",
              "    <tr>\n",
              "      <th>iron_feed</th>\n",
              "      <td>55.200000</td>\n",
              "      <td>55.200000</td>\n",
              "      <td>55.200000</td>\n",
              "      <td>55.200000</td>\n",
              "      <td>55.200000</td>\n",
              "    </tr>\n",
              "    <tr>\n",
              "      <th>silica_feed</th>\n",
              "      <td>16.980000</td>\n",
              "      <td>16.980000</td>\n",
              "      <td>16.980000</td>\n",
              "      <td>16.980000</td>\n",
              "      <td>16.980000</td>\n",
              "    </tr>\n",
              "    <tr>\n",
              "      <th>starch_flow</th>\n",
              "      <td>323.277098</td>\n",
              "      <td>313.325639</td>\n",
              "      <td>347.948294</td>\n",
              "      <td>334.142022</td>\n",
              "      <td>340.935100</td>\n",
              "    </tr>\n",
              "    <tr>\n",
              "      <th>amina_flow</th>\n",
              "      <td>578.786678</td>\n",
              "      <td>537.219661</td>\n",
              "      <td>591.906744</td>\n",
              "      <td>593.170106</td>\n",
              "      <td>619.710806</td>\n",
              "    </tr>\n",
              "    <tr>\n",
              "      <th>pulp_flow</th>\n",
              "      <td>398.753368</td>\n",
              "      <td>399.871822</td>\n",
              "      <td>398.763806</td>\n",
              "      <td>399.866983</td>\n",
              "      <td>399.615089</td>\n",
              "    </tr>\n",
              "    <tr>\n",
              "      <th>pulp_pH</th>\n",
              "      <td>10.113621</td>\n",
              "      <td>10.129944</td>\n",
              "      <td>10.048444</td>\n",
              "      <td>9.918389</td>\n",
              "      <td>9.745722</td>\n",
              "    </tr>\n",
              "    <tr>\n",
              "      <th>pulp_density</th>\n",
              "      <td>1.729598</td>\n",
              "      <td>1.667556</td>\n",
              "      <td>1.733000</td>\n",
              "      <td>1.730944</td>\n",
              "      <td>1.765889</td>\n",
              "    </tr>\n",
              "    <tr>\n",
              "      <th>airflow</th>\n",
              "      <td>264.929678</td>\n",
              "      <td>264.490111</td>\n",
              "      <td>264.647722</td>\n",
              "      <td>264.573311</td>\n",
              "      <td>264.559433</td>\n",
              "    </tr>\n",
              "    <tr>\n",
              "      <th>level</th>\n",
              "      <td>452.624362</td>\n",
              "      <td>450.767561</td>\n",
              "      <td>452.043033</td>\n",
              "      <td>493.578506</td>\n",
              "      <td>551.274806</td>\n",
              "    </tr>\n",
              "    <tr>\n",
              "      <th>iron_conc</th>\n",
              "      <td>66.910000</td>\n",
              "      <td>67.060000</td>\n",
              "      <td>66.970000</td>\n",
              "      <td>66.750000</td>\n",
              "      <td>66.630000</td>\n",
              "    </tr>\n",
              "    <tr>\n",
              "      <th>silica_conc</th>\n",
              "      <td>1.310000</td>\n",
              "      <td>1.110000</td>\n",
              "      <td>1.270000</td>\n",
              "      <td>1.360000</td>\n",
              "      <td>1.340000</td>\n",
              "    </tr>\n",
              "  </tbody>\n",
              "</table>\n",
              "</div>\n",
              "      <button class=\"colab-df-convert\" onclick=\"convertToInteractive('df-2e24ee58-e2b7-4134-b50f-fbc0e0c21747')\"\n",
              "              title=\"Convert this dataframe to an interactive table.\"\n",
              "              style=\"display:none;\">\n",
              "        \n",
              "  <svg xmlns=\"http://www.w3.org/2000/svg\" height=\"24px\"viewBox=\"0 0 24 24\"\n",
              "       width=\"24px\">\n",
              "    <path d=\"M0 0h24v24H0V0z\" fill=\"none\"/>\n",
              "    <path d=\"M18.56 5.44l.94 2.06.94-2.06 2.06-.94-2.06-.94-.94-2.06-.94 2.06-2.06.94zm-11 1L8.5 8.5l.94-2.06 2.06-.94-2.06-.94L8.5 2.5l-.94 2.06-2.06.94zm10 10l.94 2.06.94-2.06 2.06-.94-2.06-.94-.94-2.06-.94 2.06-2.06.94z\"/><path d=\"M17.41 7.96l-1.37-1.37c-.4-.4-.92-.59-1.43-.59-.52 0-1.04.2-1.43.59L10.3 9.45l-7.72 7.72c-.78.78-.78 2.05 0 2.83L4 21.41c.39.39.9.59 1.41.59.51 0 1.02-.2 1.41-.59l7.78-7.78 2.81-2.81c.8-.78.8-2.07 0-2.86zM5.41 20L4 18.59l7.72-7.72 1.47 1.35L5.41 20z\"/>\n",
              "  </svg>\n",
              "      </button>\n",
              "      \n",
              "  <style>\n",
              "    .colab-df-container {\n",
              "      display:flex;\n",
              "      flex-wrap:wrap;\n",
              "      gap: 12px;\n",
              "    }\n",
              "\n",
              "    .colab-df-convert {\n",
              "      background-color: #E8F0FE;\n",
              "      border: none;\n",
              "      border-radius: 50%;\n",
              "      cursor: pointer;\n",
              "      display: none;\n",
              "      fill: #1967D2;\n",
              "      height: 32px;\n",
              "      padding: 0 0 0 0;\n",
              "      width: 32px;\n",
              "    }\n",
              "\n",
              "    .colab-df-convert:hover {\n",
              "      background-color: #E2EBFA;\n",
              "      box-shadow: 0px 1px 2px rgba(60, 64, 67, 0.3), 0px 1px 3px 1px rgba(60, 64, 67, 0.15);\n",
              "      fill: #174EA6;\n",
              "    }\n",
              "\n",
              "    [theme=dark] .colab-df-convert {\n",
              "      background-color: #3B4455;\n",
              "      fill: #D2E3FC;\n",
              "    }\n",
              "\n",
              "    [theme=dark] .colab-df-convert:hover {\n",
              "      background-color: #434B5C;\n",
              "      box-shadow: 0px 1px 3px 1px rgba(0, 0, 0, 0.15);\n",
              "      filter: drop-shadow(0px 1px 2px rgba(0, 0, 0, 0.3));\n",
              "      fill: #FFFFFF;\n",
              "    }\n",
              "  </style>\n",
              "\n",
              "      <script>\n",
              "        const buttonEl =\n",
              "          document.querySelector('#df-2e24ee58-e2b7-4134-b50f-fbc0e0c21747 button.colab-df-convert');\n",
              "        buttonEl.style.display =\n",
              "          google.colab.kernel.accessAllowed ? 'block' : 'none';\n",
              "\n",
              "        async function convertToInteractive(key) {\n",
              "          const element = document.querySelector('#df-2e24ee58-e2b7-4134-b50f-fbc0e0c21747');\n",
              "          const dataTable =\n",
              "            await google.colab.kernel.invokeFunction('convertToInteractive',\n",
              "                                                     [key], {});\n",
              "          if (!dataTable) return;\n",
              "\n",
              "          const docLinkHtml = 'Like what you see? Visit the ' +\n",
              "            '<a target=\"_blank\" href=https://colab.research.google.com/notebooks/data_table.ipynb>data table notebook</a>'\n",
              "            + ' to learn more about interactive tables.';\n",
              "          element.innerHTML = '';\n",
              "          dataTable['output_type'] = 'display_data';\n",
              "          await google.colab.output.renderOutput(dataTable, element);\n",
              "          const docLink = document.createElement('div');\n",
              "          docLink.innerHTML = docLinkHtml;\n",
              "          element.appendChild(docLink);\n",
              "        }\n",
              "      </script>\n",
              "    </div>\n",
              "  </div>\n",
              "  "
            ]
          },
          "metadata": {},
          "execution_count": 39
        }
      ],
      "source": [
        "from google.colab import drive\n",
        "drive.mount('/content/drive/')\n",
        "%cd /content/drive/My Drive/Flotation/\n",
        "\n",
        "flotation = pd.read_csv('flotation_manipulated.csv')\n",
        "flotation.head().T"
      ]
    },
    {
      "cell_type": "markdown",
      "metadata": {
        "id": "ff8nnt1muDMk"
      },
      "source": [
        "## **5. Machine Learning Models**"
      ]
    },
    {
      "cell_type": "markdown",
      "metadata": {
        "id": "dCrpXC4q2zif"
      },
      "source": [
        "### **5.1. Splitting Dataset**"
      ]
    },
    {
      "cell_type": "markdown",
      "metadata": {
        "id": "i_e8S9p1bWnu"
      },
      "source": [
        "**Split Dataset as X and y**"
      ]
    },
    {
      "cell_type": "code",
      "execution_count": 40,
      "metadata": {
        "colab": {
          "base_uri": "https://localhost:8080/"
        },
        "id": "3vs_5o3badpC",
        "outputId": "e4d96d4d-dd34-4a37-f80a-901ad7389222"
      },
      "outputs": [
        {
          "output_type": "stream",
          "name": "stdout",
          "text": [
            "Shape of X: (4097, 9)\n",
            "Shape of y_Si: (4097,)\n",
            "Shape of y_Fe: (4097,)\n"
          ]
        }
      ],
      "source": [
        "X = flotation.drop(['silica_conc', 'iron_conc'], axis=1)\n",
        "y_Si = flotation['silica_conc']\n",
        "y_Fe = flotation['iron_conc']\n",
        "\n",
        "print(\"Shape of X:\", X.shape)\n",
        "print(\"Shape of y_Si:\", y_Si.shape)\n",
        "print(\"Shape of y_Fe:\", y_Fe.shape)\n"
      ]
    },
    {
      "cell_type": "markdown",
      "metadata": {
        "id": "Rgv5bKob2Wj6"
      },
      "source": [
        "### **5.2. Models For Silica Concentrate**"
      ]
    },
    {
      "cell_type": "markdown",
      "metadata": {
        "id": "PIAZ3P8Akbfl"
      },
      "source": [
        "**Split into train, validation, and test set**"
      ]
    },
    {
      "cell_type": "code",
      "execution_count": 41,
      "metadata": {
        "colab": {
          "base_uri": "https://localhost:8080/"
        },
        "id": "5qXjqF0SbvnM",
        "outputId": "6312d7e6-134a-4f08-b7e6-a03344132c69"
      },
      "outputs": [
        {
          "output_type": "stream",
          "name": "stdout",
          "text": [
            "(3277, 9) (410, 9) (410, 9)\n"
          ]
        }
      ],
      "source": [
        "X_train, X_val, y_train, y_val = train_test_split(X, y_Si, test_size=0.2, random_state=42)\n",
        "X_val, X_test, y_val, y_test = train_test_split(X_val, y_val, test_size=0.5, random_state=42)\n",
        "\n",
        "print(X_train.shape, X_val.shape, X_test.shape)"
      ]
    },
    {
      "cell_type": "code",
      "source": [
        "# Creating pipelines for each model\n",
        "linear_pipeline = Pipeline([\n",
        "    ('scaler', StandardScaler()),\n",
        "    ('regressor', LinearRegression())\n",
        "])\n",
        "\n",
        "rf_pipeline = Pipeline([\n",
        "    ('scaler', StandardScaler()),\n",
        "    ('regressor', RandomForestRegressor())\n",
        "])\n",
        "\n",
        "xgb_pipeline = Pipeline([\n",
        "    ('scaler', StandardScaler()),\n",
        "    ('regressor', xgb.XGBRegressor())\n",
        "])\n",
        "\n",
        "# Fitting the pipelines to the training data\n",
        "linear_pipeline.fit(X_train, y_train)\n",
        "rf_pipeline.fit(X_train, y_train)\n",
        "xgb_pipeline.fit(X_train, y_train)\n",
        "\n",
        "# Predicting on the validation data for each model\n",
        "linear_val_pred = linear_pipeline.predict(X_val)\n",
        "rf_val_pred = rf_pipeline.predict(X_val)\n",
        "xgb_val_pred = xgb_pipeline.predict(X_val)\n",
        "\n",
        "# Calculating evaluation metrics for each model\n",
        "linear_mse = mean_squared_error(y_val, linear_val_pred)\n",
        "linear_mae = mean_absolute_error(y_val, linear_val_pred)\n",
        "linear_r2 = r2_score(y_val, linear_val_pred)\n",
        "\n",
        "rf_mse = mean_squared_error(y_val, rf_val_pred)\n",
        "rf_mae = mean_absolute_error(y_val, rf_val_pred)\n",
        "rf_r2 = r2_score(y_val, rf_val_pred)\n",
        "\n",
        "xgb_mse = mean_squared_error(y_val, xgb_val_pred)\n",
        "xgb_mae = mean_absolute_error(y_val, xgb_val_pred)\n",
        "xgb_r2 = r2_score(y_val, xgb_val_pred)\n",
        "\n",
        "# Collecting the evaluation metric scores\n",
        "mse_scores = [linear_mse, rf_mse, xgb_mse]\n",
        "mae_scores = [linear_mae, rf_mae, xgb_mae]\n",
        "r2_scores = [linear_r2, rf_r2, xgb_r2]\n",
        "\n",
        "# Bar width\n",
        "bar_width = 0.2\n",
        "\n",
        "# Position of bars on the x-axis\n",
        "r1 = np.arange(len(mse_scores))\n",
        "r2 = [x + bar_width for x in r1]\n",
        "r3 = [x + bar_width for x in r2]\n",
        "\n",
        "# Creating the bar plot\n",
        "plt.figure(figsize=(10, 6))\n",
        "\n",
        "plt.bar(r1, mse_scores, color='b', width=bar_width, edgecolor='black', label='MSE')\n",
        "plt.bar(r2, mae_scores, color='g', width=bar_width, edgecolor='black', label='MAE')\n",
        "plt.bar(r3, r2_scores, color='r', width=bar_width, edgecolor='black', label='R-squared')\n",
        "\n",
        "# Adding xticks\n",
        "plt.xlabel('Models')\n",
        "plt.ylabel('Scores')\n",
        "plt.xticks([r + bar_width for r in range(len(mse_scores))], ['Linear Regression', 'Random Forest', 'XGBoost'])\n",
        "\n",
        "# Adding legend\n",
        "plt.legend()\n",
        "\n",
        "# Adding labels to the bars\n",
        "for i, mse, mae, r2 in zip(range(len(mse_scores)), mse_scores, mae_scores, r2_scores):\n",
        "    plt.text(i - 0.05, mse + 0.01, f'{mse:.3f}', color='black', fontweight='bold')\n",
        "    plt.text(i + bar_width - 0.05, mae + 0.01, f'{mae:.3f}', color='black', fontweight='bold')\n",
        "    plt.text(i + 2 * bar_width - 0.05, r2 + 0.01, f'{r2:.3f}', color='black', fontweight='bold')\n",
        "\n",
        "# Displaying the graph\n",
        "plt.show()\n",
        "\n",
        "# Displaying the evaluation metric scores as text\n",
        "print(f\"Mean Squared Error (MSE):\")\n",
        "for model, mse in zip(['Linear Regression', 'Random Forest', 'XGBoost'], mse_scores):\n",
        "    print(f\"{model}: {mse:.3f}\")\n",
        "\n",
        "print(f\"\\nMean Absolute Error (MAE):\")\n",
        "for model, mae in zip(['Linear Regression', 'Random Forest', 'XGBoost'], mae_scores):\n",
        "    print(f\"{model}: {mae:.3f}\")\n",
        "\n",
        "print(f\"\\nR-squared (R^2):\")\n",
        "for model, r2 in zip(['Linear Regression', 'Random Forest', 'XGBoost'], r2_scores):\n",
        "    print(f\"{model}: {r2:.3f}\")\n"
      ],
      "metadata": {
        "colab": {
          "base_uri": "https://localhost:8080/",
          "height": 785
        },
        "id": "2cFUcSb9-Bx_",
        "outputId": "48b6eedd-256c-4281-d94f-1fd0f0eb07b1"
      },
      "execution_count": 42,
      "outputs": [
        {
          "output_type": "display_data",
          "data": {
            "text/plain": [
              "<Figure size 1000x600 with 1 Axes>"
            ],
            "image/png": "[encoded data removed]"
          },
          "metadata": {}
        },
        {
          "output_type": "stream",
          "name": "stdout",
          "text": [
            "Mean Squared Error (MSE):\n",
            "Linear Regression: 1.159\n",
            "Random Forest: 0.839\n",
            "XGBoost: 0.894\n",
            "\n",
            "Mean Absolute Error (MAE):\n",
            "Linear Regression: 0.862\n",
            "Random Forest: 0.727\n",
            "XGBoost: 0.721\n",
            "\n",
            "R-squared (R^2):\n",
            "Linear Regression: 0.076\n",
            "Random Forest: 0.332\n",
            "XGBoost: 0.288\n"
          ]
        }
      ]
    },
    {
      "cell_type": "markdown",
      "source": [
        "- Mean Squared Error (MSE): The Random Forest model achieved the lowest MSE of 0.839, followed by XGBoost with 0.894, and Linear Regression with 1.159. This indicates that the Random Forest model has the best overall performance in terms of minimizing the squared differences between the predicted and actual values.\n",
        "\n",
        "- Mean Absolute Error (MAE): Once again, the Random Forest model outperforms the other models, with the lowest MAE of 0.727. XGBoost closely follows with an MAE of 0.721, while Linear Regression has the highest MAE of 0.862. The lower the MAE, the better the model's ability to predict the target variable accurately on average.\n",
        "\n",
        "- R-squared (R^2): The R-squared values measure the proportion of the variance in the target variable that can be explained by the predictors. In this case, the Random Forest model achieved the highest R-squared value of 0.332, indicating that it explains approximately 33.2% of the variance in the target variable. XGBoost follows with an R-squared value of 0.288, while Linear Regression has the lowest R-squared value of 0.076. A higher R-squared value suggests a better fit of the model to the data.\n",
        "\n",
        "- Finally, it appears that the Random Forest model still performs the best among the three models, followed by XGBoost. Linear Regression continues to have the weakest performance in terms of predictive accuracy and explaining the variance in the target variable. However, it's important to note that further analysis, tuning, and consideration of other factors are necessary to make a final determination on the most suitable model for the given task."
      ],
      "metadata": {
        "id": "bWBQLXHm_mww"
      }
    },
    {
      "cell_type": "markdown",
      "source": [
        "### **5.2. Models For Iron Concentrate**"
      ],
      "metadata": {
        "id": "UWdj_aIYAovd"
      }
    },
    {
      "cell_type": "markdown",
      "metadata": {
        "id": "DNHOlmWdBUc9"
      },
      "source": [
        "**Split into train, validation, and test set**"
      ]
    },
    {
      "cell_type": "code",
      "execution_count": 43,
      "metadata": {
        "colab": {
          "base_uri": "https://localhost:8080/"
        },
        "outputId": "0de96b33-645a-442f-8f15-a006365881b2",
        "id": "kL6-mAdfBUc9"
      },
      "outputs": [
        {
          "output_type": "stream",
          "name": "stdout",
          "text": [
            "(3277, 9) (410, 9) (410, 9)\n"
          ]
        }
      ],
      "source": [
        "X_train, X_val, y_train, y_val = train_test_split(X, y_Fe, test_size=0.2, random_state=42)\n",
        "X_val, X_test, y_val, y_test = train_test_split(X_val, y_val, test_size=0.5, random_state=42)\n",
        "\n",
        "print(X_train.shape, X_val.shape, X_test.shape)"
      ]
    },
    {
      "cell_type": "code",
      "source": [
        "# Creating pipelines for each model\n",
        "linear_pipeline = Pipeline([\n",
        "    ('scaler', StandardScaler()),\n",
        "    ('regressor', LinearRegression())\n",
        "])\n",
        "\n",
        "rf_pipeline = Pipeline([\n",
        "    ('scaler', StandardScaler()),\n",
        "    ('regressor', RandomForestRegressor())\n",
        "])\n",
        "\n",
        "xgb_pipeline = Pipeline([\n",
        "    ('scaler', StandardScaler()),\n",
        "    ('regressor', xgb.XGBRegressor())\n",
        "])\n",
        "\n",
        "# Fitting the pipelines to the training data\n",
        "linear_pipeline.fit(X_train, y_train)\n",
        "rf_pipeline.fit(X_train, y_train)\n",
        "xgb_pipeline.fit(X_train, y_train)\n",
        "\n",
        "# Predicting on the validation data for each model\n",
        "linear_val_pred = linear_pipeline.predict(X_val)\n",
        "rf_val_pred = rf_pipeline.predict(X_val)\n",
        "xgb_val_pred = xgb_pipeline.predict(X_val)\n",
        "\n",
        "# Calculating evaluation metrics for each model\n",
        "linear_mse = mean_squared_error(y_val, linear_val_pred)\n",
        "linear_mae = mean_absolute_error(y_val, linear_val_pred)\n",
        "linear_r2 = r2_score(y_val, linear_val_pred)\n",
        "\n",
        "rf_mse = mean_squared_error(y_val, rf_val_pred)\n",
        "rf_mae = mean_absolute_error(y_val, rf_val_pred)\n",
        "rf_r2 = r2_score(y_val, rf_val_pred)\n",
        "\n",
        "xgb_mse = mean_squared_error(y_val, xgb_val_pred)\n",
        "xgb_mae = mean_absolute_error(y_val, xgb_val_pred)\n",
        "xgb_r2 = r2_score(y_val, xgb_val_pred)\n",
        "\n",
        "# Collecting the evaluation metric scores\n",
        "mse_scores = [linear_mse, rf_mse, xgb_mse]\n",
        "mae_scores = [linear_mae, rf_mae, xgb_mae]\n",
        "r2_scores = [linear_r2, rf_r2, xgb_r2]\n",
        "\n",
        "\n",
        "bar_width = 0.2\n",
        "r1 = np.arange(len(mse_scores))\n",
        "r2 = [x + bar_width for x in r1]\n",
        "r3 = [x + bar_width for x in r2]\n",
        "\n",
        "\n",
        "plt.figure(figsize=(10, 6))\n",
        "plt.bar(r1, mse_scores, color='b', width=bar_width, edgecolor='black', label='MSE')\n",
        "plt.bar(r2, mae_scores, color='g', width=bar_width, edgecolor='black', label='MAE')\n",
        "plt.bar(r3, r2_scores, color='r', width=bar_width, edgecolor='black', label='R-squared')\n",
        "\n",
        "plt.xlabel('Models')\n",
        "plt.ylabel('Scores')\n",
        "plt.xticks([r + bar_width for r in range(len(mse_scores))], ['Linear Regression', 'Random Forest', 'XGBoost'])\n",
        "plt.legend()\n",
        "\n",
        "for i, mse, mae, r2 in zip(range(len(mse_scores)), mse_scores, mae_scores, r2_scores):\n",
        "    plt.text(i - 0.05, mse + 0.01, f'{mse:.3f}', color='black', fontweight='bold')\n",
        "    plt.text(i + bar_width - 0.05, mae + 0.01, f'{mae:.3f}', color='black', fontweight='bold')\n",
        "    plt.text(i + 2 * bar_width - 0.05, r2 + 0.01, f'{r2:.3f}', color='black', fontweight='bold')\n",
        "\n",
        "plt.show()\n",
        "\n",
        "# Displaying the evaluation metric scores as text\n",
        "print(f\"Mean Squared Error (MSE):\")\n",
        "for model, mse in zip(['Linear Regression', 'Random Forest', 'XGBoost'], mse_scores):\n",
        "    print(f\"{model}: {mse:.3f}\")\n",
        "\n",
        "print(f\"\\nMean Absolute Error (MAE):\")\n",
        "for model, mae in zip(['Linear Regression', 'Random Forest', 'XGBoost'], mae_scores):\n",
        "    print(f\"{model}: {mae:.3f}\")\n",
        "\n",
        "print(f\"\\nR-squared (R^2):\")\n",
        "for model, r2 in zip(['Linear Regression', 'Random Forest', 'XGBoost'], r2_scores):\n",
        "    print(f\"{model}: {r2:.3f}\")"
      ],
      "metadata": {
        "colab": {
          "base_uri": "https://localhost:8080/",
          "height": 785
        },
        "outputId": "172f4e54-4b0f-400e-c28e-da38ff963a91",
        "id": "IQTlMORDAuv2"
      },
      "execution_count": 45,
      "outputs": [
        {
          "output_type": "display_data",
          "data": {
            "text/plain": [
              "<Figure size 1000x600 with 1 Axes>"
            ],
            "image/png": "[encoded data removed]"
          },
          "metadata": {}
        },
        {
          "output_type": "stream",
          "name": "stdout",
          "text": [
            "Mean Squared Error (MSE):\n",
            "Linear Regression: 1.063\n",
            "Random Forest: 0.800\n",
            "XGBoost: 0.793\n",
            "\n",
            "Mean Absolute Error (MAE):\n",
            "Linear Regression: 0.833\n",
            "Random Forest: 0.702\n",
            "XGBoost: 0.684\n",
            "\n",
            "R-squared (R^2):\n",
            "Linear Regression: 0.074\n",
            "Random Forest: 0.303\n",
            "XGBoost: 0.309\n"
          ]
        }
      ]
    },
    {
      "cell_type": "markdown",
      "source": [
        "- Mean Squared Error (MSE): The Random Forest model achieved the lowest MSE of 0.800, followed closely by XGBoost with 0.793, while Linear Regression had an MSE of 1.063. This indicates that both Random Forest and XGBoost have better overall performance in terms of minimizing the squared differences between the predicted and actual values compared to Linear Regression.\n",
        "\n",
        "- Mean Absolute Error (MAE): The XGBoost model actually has the lowest MAE value of 0.684, indicating better predictive accuracy compared to Random Forest with an MAE of 0.702. Linear Regression has the highest MAE of 0.833, suggesting the least accurate predictions among the three models.\n",
        "\n",
        "- R-squared (R^2): The R-squared values measure the proportion of the variance in the target variable that can be explained by the predictors. In this case, both Random Forest and XGBoost models achieved higher R-squared values compared to Linear Regression. Random Forest had an R-squared value of 0.303, XGBoost had an R-squared value of 0.309, while Linear Regression had the lowest R-squared value of 0.074. A higher R-squared value suggests a better fit of the model to the data.\n",
        "\n",
        "- Finally, it appears that both Random Forest and XGBoost models perform better than Linear Regression in terms of predictive accuracy and explaining the variance in the target variable. Random Forest has slightly better performance in terms of MSE and R-squared compared to XGBoost. However, it's important to note that further analysis, tuning, and consideration of other factors are necessary to make a final determination on the most suitable model for the given task."
      ],
      "metadata": {
        "id": "KiaURma1CxeK"
      }
    }
  ],
  "metadata": {
    "accelerator": "GPU",
    "colab": {
      "provenance": [],
      "authorship_tag": "ABX9TyNUzq1MnDKHK6Kw1MZMuG0j",
      "include_colab_link": true
    },
    "gpuClass": "standard",
    "kernelspec": {
      "display_name": "Python 3",
      "name": "python3"
    },
    "language_info": {
      "name": "python"
    }
  },
  "nbformat": 4,
  "nbformat_minor": 0
}