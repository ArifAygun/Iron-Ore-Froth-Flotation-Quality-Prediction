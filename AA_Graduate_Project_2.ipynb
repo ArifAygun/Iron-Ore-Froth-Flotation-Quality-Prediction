{
  "cells": [
    {
      "cell_type": "markdown",
      "metadata": {
        "id": "view-in-github",
        "colab_type": "text"
      },
      "source": [
        "<a href=\"https://colab.research.google.com/github/ArifAygun/Iron-Ore-Froth-Flotation-Quality-Prediction/blob/main/AA_Graduate_Project_2.ipynb\" target=\"_parent\"><img src=\"https://colab.research.google.com/assets/colab-badge.svg\" alt=\"Open In Colab\"/></a>"
      ]
    },
    {
      "cell_type": "markdown",
      "metadata": {
        "id": "I99UP0oywvLl"
      },
      "source": [
        "# **Quality Prediction of Iron Ore Mining Flotation Process - Part:2**"
      ]
    },
    {
      "cell_type": "markdown",
      "metadata": {
        "id": "in9eB0oan8I8"
      },
      "source": [
        "### **Import Libraries and Modules**"
      ]
    },
    {
      "cell_type": "code",
      "execution_count": 217,
      "metadata": {
        "id": "ZWQKrdQ173zL"
      },
      "outputs": [],
      "source": [
        "import pandas as pd\n",
        "import numpy as np\n",
        "import seaborn as sns\n",
        "import matplotlib.pyplot as plt\n",
        "import statsmodels.api as sm\n",
        "import math\n",
        "import random\n",
        "import xgboost as xgb\n",
        "from sklearn.model_selection import train_test_split, KFold\n",
        "from sklearn.model_selection import cross_val_predict, cross_val_score\n",
        "from sklearn.linear_model import LinearRegression, ElasticNet\n",
        "from sklearn.metrics import mean_squared_error, mean_absolute_error, r2_score\n",
        "from sklearn.ensemble import RandomForestRegressor, AdaBoostRegressor\n",
        "from sklearn.preprocessing import StandardScaler, MinMaxScaler\n",
        "from sklearn.svm import SVR\n",
        "from sklearn.tree import DecisionTreeRegressor\n",
        "from sklearn.pipeline import Pipeline"
      ]
    },
    {
      "cell_type": "markdown",
      "metadata": {
        "id": "Zg8iajc2xFrX"
      },
      "source": [
        "### **Import Dataset**"
      ]
    },
    {
      "cell_type": "code",
      "execution_count": 218,
      "metadata": {
        "id": "z6oIXclZ3LNo",
        "colab": {
          "base_uri": "https://localhost:8080/",
          "height": 429
        },
        "outputId": "7bc364fd-feb5-456f-a584-c256030bf596"
      },
      "outputs": [
        {
          "output_type": "stream",
          "name": "stdout",
          "text": [
            "Drive already mounted at /content/drive/; to attempt to forcibly remount, call drive.mount(\"/content/drive/\", force_remount=True).\n",
            "/content/drive/My Drive/Flotation\n"
          ]
        },
        {
          "output_type": "execute_result",
          "data": {
            "text/plain": [
              "                        0            1            2            3            4\n",
              "iron_feed       55.200000    55.200000    55.200000    55.200000    55.200000\n",
              "silica_feed      4.915479     4.915479     4.915479     4.915479     4.915479\n",
              "starch_flow    323.277098   313.325639   347.948294   334.142022   340.935100\n",
              "amina_flow     355.071890   300.092438   372.513415   374.194989   409.602763\n",
              "pulp_flow        2.509955     3.787140     2.521700     3.781540     3.490863\n",
              "pulp_pH          1.347816     1.372481     1.250439     1.061484     0.821953\n",
              "pulp_density     0.214652     0.109267     0.221247     0.217251     0.289859\n",
              "airflow       2645.068134  2585.175205  2606.561337  2596.452151  2594.569228\n",
              "level            9.535982     9.477107     9.517626    10.684514    11.970611\n",
              "iron_conc        8.623044     9.004444     8.774961     8.222164     7.925580\n",
              "silica_conc      0.270322     0.119433     0.242752     0.303219     0.290261"
            ],
            "text/html": [
              "\n",
              "  <div id=\"df-186dabcf-dfc8-454e-afae-1b35310f4cb7\">\n",
              "    <div class=\"colab-df-container\">\n",
              "      <div>\n",
              "<style scoped>\n",
              "    .dataframe tbody tr th:only-of-type {\n",
              "        vertical-align: middle;\n",
              "    }\n",
              "\n",
              "    .dataframe tbody tr th {\n",
              "        vertical-align: top;\n",
              "    }\n",
              "\n",
              "    .dataframe thead th {\n",
              "        text-align: right;\n",
              "    }\n",
              "</style>\n",
              "<table border=\"1\" class=\"dataframe\">\n",
              "  <thead>\n",
              "    <tr style=\"text-align: right;\">\n",
              "      <th></th>\n",
              "      <th>0</th>\n",
              "      <th>1</th>\n",
              "      <th>2</th>\n",
              "      <th>3</th>\n",
              "      <th>4</th>\n",
              "    </tr>\n",
              "  </thead>\n",
              "  <tbody>\n",
              "    <tr>\n",
              "      <th>iron_feed</th>\n",
              "      <td>55.200000</td>\n",
              "      <td>55.200000</td>\n",
              "      <td>55.200000</td>\n",
              "      <td>55.200000</td>\n",
              "      <td>55.200000</td>\n",
              "    </tr>\n",
              "    <tr>\n",
              "      <th>silica_feed</th>\n",
              "      <td>4.915479</td>\n",
              "      <td>4.915479</td>\n",
              "      <td>4.915479</td>\n",
              "      <td>4.915479</td>\n",
              "      <td>4.915479</td>\n",
              "    </tr>\n",
              "    <tr>\n",
              "      <th>starch_flow</th>\n",
              "      <td>323.277098</td>\n",
              "      <td>313.325639</td>\n",
              "      <td>347.948294</td>\n",
              "      <td>334.142022</td>\n",
              "      <td>340.935100</td>\n",
              "    </tr>\n",
              "    <tr>\n",
              "      <th>amina_flow</th>\n",
              "      <td>355.071890</td>\n",
              "      <td>300.092438</td>\n",
              "      <td>372.513415</td>\n",
              "      <td>374.194989</td>\n",
              "      <td>409.602763</td>\n",
              "    </tr>\n",
              "    <tr>\n",
              "      <th>pulp_flow</th>\n",
              "      <td>2.509955</td>\n",
              "      <td>3.787140</td>\n",
              "      <td>2.521700</td>\n",
              "      <td>3.781540</td>\n",
              "      <td>3.490863</td>\n",
              "    </tr>\n",
              "    <tr>\n",
              "      <th>pulp_pH</th>\n",
              "      <td>1.347816</td>\n",
              "      <td>1.372481</td>\n",
              "      <td>1.250439</td>\n",
              "      <td>1.061484</td>\n",
              "      <td>0.821953</td>\n",
              "    </tr>\n",
              "    <tr>\n",
              "      <th>pulp_density</th>\n",
              "      <td>0.214652</td>\n",
              "      <td>0.109267</td>\n",
              "      <td>0.221247</td>\n",
              "      <td>0.217251</td>\n",
              "      <td>0.289859</td>\n",
              "    </tr>\n",
              "    <tr>\n",
              "      <th>airflow</th>\n",
              "      <td>2645.068134</td>\n",
              "      <td>2585.175205</td>\n",
              "      <td>2606.561337</td>\n",
              "      <td>2596.452151</td>\n",
              "      <td>2594.569228</td>\n",
              "    </tr>\n",
              "    <tr>\n",
              "      <th>level</th>\n",
              "      <td>9.535982</td>\n",
              "      <td>9.477107</td>\n",
              "      <td>9.517626</td>\n",
              "      <td>10.684514</td>\n",
              "      <td>11.970611</td>\n",
              "    </tr>\n",
              "    <tr>\n",
              "      <th>iron_conc</th>\n",
              "      <td>8.623044</td>\n",
              "      <td>9.004444</td>\n",
              "      <td>8.774961</td>\n",
              "      <td>8.222164</td>\n",
              "      <td>7.925580</td>\n",
              "    </tr>\n",
              "    <tr>\n",
              "      <th>silica_conc</th>\n",
              "      <td>0.270322</td>\n",
              "      <td>0.119433</td>\n",
              "      <td>0.242752</td>\n",
              "      <td>0.303219</td>\n",
              "      <td>0.290261</td>\n",
              "    </tr>\n",
              "  </tbody>\n",
              "</table>\n",
              "</div>\n",
              "      <button class=\"colab-df-convert\" onclick=\"convertToInteractive('df-186dabcf-dfc8-454e-afae-1b35310f4cb7')\"\n",
              "              title=\"Convert this dataframe to an interactive table.\"\n",
              "              style=\"display:none;\">\n",
              "        \n",
              "  <svg xmlns=\"http://www.w3.org/2000/svg\" height=\"24px\"viewBox=\"0 0 24 24\"\n",
              "       width=\"24px\">\n",
              "    <path d=\"M0 0h24v24H0V0z\" fill=\"none\"/>\n",
              "    <path d=\"M18.56 5.44l.94 2.06.94-2.06 2.06-.94-2.06-.94-.94-2.06-.94 2.06-2.06.94zm-11 1L8.5 8.5l.94-2.06 2.06-.94-2.06-.94L8.5 2.5l-.94 2.06-2.06.94zm10 10l.94 2.06.94-2.06 2.06-.94-2.06-.94-.94-2.06-.94 2.06-2.06.94z\"/><path d=\"M17.41 7.96l-1.37-1.37c-.4-.4-.92-.59-1.43-.59-.52 0-1.04.2-1.43.59L10.3 9.45l-7.72 7.72c-.78.78-.78 2.05 0 2.83L4 21.41c.39.39.9.59 1.41.59.51 0 1.02-.2 1.41-.59l7.78-7.78 2.81-2.81c.8-.78.8-2.07 0-2.86zM5.41 20L4 18.59l7.72-7.72 1.47 1.35L5.41 20z\"/>\n",
              "  </svg>\n",
              "      </button>\n",
              "      \n",
              "  <style>\n",
              "    .colab-df-container {\n",
              "      display:flex;\n",
              "      flex-wrap:wrap;\n",
              "      gap: 12px;\n",
              "    }\n",
              "\n",
              "    .colab-df-convert {\n",
              "      background-color: #E8F0FE;\n",
              "      border: none;\n",
              "      border-radius: 50%;\n",
              "      cursor: pointer;\n",
              "      display: none;\n",
              "      fill: #1967D2;\n",
              "      height: 32px;\n",
              "      padding: 0 0 0 0;\n",
              "      width: 32px;\n",
              "    }\n",
              "\n",
              "    .colab-df-convert:hover {\n",
              "      background-color: #E2EBFA;\n",
              "      box-shadow: 0px 1px 2px rgba(60, 64, 67, 0.3), 0px 1px 3px 1px rgba(60, 64, 67, 0.15);\n",
              "      fill: #174EA6;\n",
              "    }\n",
              "\n",
              "    [theme=dark] .colab-df-convert {\n",
              "      background-color: #3B4455;\n",
              "      fill: #D2E3FC;\n",
              "    }\n",
              "\n",
              "    [theme=dark] .colab-df-convert:hover {\n",
              "      background-color: #434B5C;\n",
              "      box-shadow: 0px 1px 3px 1px rgba(0, 0, 0, 0.15);\n",
              "      filter: drop-shadow(0px 1px 2px rgba(0, 0, 0, 0.3));\n",
              "      fill: #FFFFFF;\n",
              "    }\n",
              "  </style>\n",
              "\n",
              "      <script>\n",
              "        const buttonEl =\n",
              "          document.querySelector('#df-186dabcf-dfc8-454e-afae-1b35310f4cb7 button.colab-df-convert');\n",
              "        buttonEl.style.display =\n",
              "          google.colab.kernel.accessAllowed ? 'block' : 'none';\n",
              "\n",
              "        async function convertToInteractive(key) {\n",
              "          const element = document.querySelector('#df-186dabcf-dfc8-454e-afae-1b35310f4cb7');\n",
              "          const dataTable =\n",
              "            await google.colab.kernel.invokeFunction('convertToInteractive',\n",
              "                                                     [key], {});\n",
              "          if (!dataTable) return;\n",
              "\n",
              "          const docLinkHtml = 'Like what you see? Visit the ' +\n",
              "            '<a target=\"_blank\" href=https://colab.research.google.com/notebooks/data_table.ipynb>data table notebook</a>'\n",
              "            + ' to learn more about interactive tables.';\n",
              "          element.innerHTML = '';\n",
              "          dataTable['output_type'] = 'display_data';\n",
              "          await google.colab.output.renderOutput(dataTable, element);\n",
              "          const docLink = document.createElement('div');\n",
              "          docLink.innerHTML = docLinkHtml;\n",
              "          element.appendChild(docLink);\n",
              "        }\n",
              "      </script>\n",
              "    </div>\n",
              "  </div>\n",
              "  "
            ]
          },
          "metadata": {},
          "execution_count": 218
        }
      ],
      "source": [
        "from google.colab import drive\n",
        "drive.mount('/content/drive/')\n",
        "%cd /content/drive/My Drive/Flotation/\n",
        "\n",
        "flotation = pd.read_csv('flotation_corrected.csv')\n",
        "flotation.head().T"
      ]
    },
    {
      "cell_type": "markdown",
      "metadata": {
        "id": "ff8nnt1muDMk"
      },
      "source": [
        "## **5. Machine Learning Models**"
      ]
    },
    {
      "cell_type": "markdown",
      "metadata": {
        "id": "dCrpXC4q2zif"
      },
      "source": [
        "### **5.1. Splitting Dataset**"
      ]
    },
    {
      "cell_type": "markdown",
      "metadata": {
        "id": "i_e8S9p1bWnu"
      },
      "source": [
        "**Split Dataset as X and y**"
      ]
    },
    {
      "cell_type": "code",
      "execution_count": 219,
      "metadata": {
        "colab": {
          "base_uri": "https://localhost:8080/"
        },
        "id": "3vs_5o3badpC",
        "outputId": "377ee119-d09c-4179-c522-6dc32cd0791e"
      },
      "outputs": [
        {
          "output_type": "stream",
          "name": "stdout",
          "text": [
            "Shape of X: (4097, 9)\n",
            "Shape of y_Si: (4097,)\n",
            "Shape of y_Fe: (4097,)\n"
          ]
        }
      ],
      "source": [
        "X = flotation.drop(['silica_conc', 'iron_conc'], axis=1)\n",
        "y_Si = flotation['silica_conc']\n",
        "y_Fe = flotation['iron_conc']\n",
        "\n",
        "print(\"Shape of X:\", X.shape)\n",
        "print(\"Shape of y_Si:\", y_Si.shape)\n",
        "print(\"Shape of y_Fe:\", y_Fe.shape)\n"
      ]
    },
    {
      "cell_type": "markdown",
      "metadata": {
        "id": "Rgv5bKob2Wj6"
      },
      "source": [
        "### **5.2. Models For Silica Concentrate**"
      ]
    },
    {
      "cell_type": "markdown",
      "metadata": {
        "id": "PIAZ3P8Akbfl"
      },
      "source": [
        "**Split into train, validation, and test set**"
      ]
    },
    {
      "cell_type": "code",
      "execution_count": 220,
      "metadata": {
        "colab": {
          "base_uri": "https://localhost:8080/"
        },
        "id": "5qXjqF0SbvnM",
        "outputId": "38fa8df9-f96f-403f-89ce-9fabd0ba4f12"
      },
      "outputs": [
        {
          "output_type": "stream",
          "name": "stdout",
          "text": [
            "(3277, 9) (410, 9) (410, 9)\n"
          ]
        }
      ],
      "source": [
        "X_train, X_val, y_train, y_val = train_test_split(X, y_Si, test_size=0.2, random_state=42)\n",
        "X_val, X_test, y_val, y_test = train_test_split(X_val, y_val, test_size=0.5, random_state=42)\n",
        "\n",
        "print(X_train.shape, X_val.shape, X_test.shape)"
      ]
    },
    {
      "cell_type": "markdown",
      "source": [
        "**Pipelines for models**"
      ],
      "metadata": {
        "id": "YW4fRLttJ7R1"
      }
    },
    {
      "cell_type": "code",
      "source": [
        "# Define the models and their corresponding names\n",
        "models = [(LinearRegression(), 'Linear Regression'),\n",
        "          (RandomForestRegressor(), 'Random Forest'),\n",
        "          (xgb.XGBRegressor(), 'XGBoost'),\n",
        "          (AdaBoostRegressor(), 'AdaBoost'),\n",
        "          (SVR(), 'SVM'), (ElasticNet(), 'ElasticNet'),\n",
        "          (DecisionTreeRegressor(), 'Decision Tree')]\n",
        "    \n",
        "# Create an empty list to store the evaluation scores\n",
        "mse_scores = []\n",
        "mae_scores = []\n",
        "r2_scores = []\n",
        "\n",
        "# Iterate over the models\n",
        "for model, model_name in models:\n",
        "    pipeline = Pipeline([\n",
        "        ('scaler', MinMaxScaler()),\n",
        "        ('regressor', model)])\n",
        "    \n",
        "    # Fit the pipeline to the training data\n",
        "    pipeline.fit(X_train, y_train)\n",
        "    \n",
        "    # Predict on the validation data\n",
        "    val_pred = pipeline.predict(X_val)\n",
        "    \n",
        "    # Calculate evaluation metrics\n",
        "    mse = mean_squared_error(y_val, val_pred)\n",
        "    mae = mean_absolute_error(y_val, val_pred)\n",
        "    r2 = r2_score(y_val, val_pred)\n",
        "    \n",
        "    # Append the scores to the lists\n",
        "    mse_scores.append(mse)\n",
        "    mae_scores.append(mae)\n",
        "    r2_scores.append(r2)\n",
        "\n",
        "# Display the evaluation metric scores\n",
        "print(\"Mean Squared Error (MSE):\")\n",
        "for model_name, mse in zip([model_name for _, model_name in models], mse_scores):\n",
        "    print(f\"{model_name}: {mse:.3f}\")\n",
        "\n",
        "print(\"\\nMean Absolute Error (MAE):\")\n",
        "for model_name, mae in zip([model_name for _, model_name in models], mae_scores):\n",
        "    print(f\"{model_name}: {mae:.3f}\")\n",
        "\n",
        "print(\"\\nR-squared (R^2):\")\n",
        "for model_name, r2 in zip([model_name for _, model_name in models], r2_scores):\n",
        "    print(f\"{model_name}: {r2:.3f}\")"
      ],
      "metadata": {
        "colab": {
          "base_uri": "https://localhost:8080/"
        },
        "id": "v40su5GAGp8V",
        "outputId": "bcddef4d-727d-4330-db62-7e76d38f1c72"
      },
      "execution_count": 221,
      "outputs": [
        {
          "output_type": "stream",
          "name": "stdout",
          "text": [
            "Mean Squared Error (MSE):\n",
            "Linear Regression: 0.102\n",
            "Random Forest: 0.074\n",
            "XGBoost: 0.075\n",
            "AdaBoost: 0.096\n",
            "SVM: 0.085\n",
            "ElasticNet: 0.110\n",
            "Decision Tree: 0.143\n",
            "\n",
            "Mean Absolute Error (MAE):\n",
            "Linear Regression: 0.268\n",
            "Random Forest: 0.224\n",
            "XGBoost: 0.217\n",
            "AdaBoost: 0.261\n",
            "SVM: 0.236\n",
            "ElasticNet: 0.275\n",
            "Decision Tree: 0.293\n",
            "\n",
            "R-squared (R^2):\n",
            "Linear Regression: 0.057\n",
            "Random Forest: 0.317\n",
            "XGBoost: 0.306\n",
            "AdaBoost: 0.111\n",
            "SVM: 0.218\n",
            "ElasticNet: -0.010\n",
            "Decision Tree: -0.314\n"
          ]
        }
      ]
    },
    {
      "cell_type": "code",
      "source": [
        "# Plot the evaluation metrics\n",
        "r1 = np.arange(len(mse_scores))\n",
        "r2 = [x + bar_width for x in r1]\n",
        "r3 = [x + bar_width for x in r2]\n",
        "\n",
        "bar_width = 0.3\n",
        "plt.figure(figsize=(15, 6))\n",
        "plt.bar(r1, mse_scores, color='b', width=bar_width, edgecolor='black', label='MSE')\n",
        "plt.bar(r2, mae_scores, color='g', width=bar_width, edgecolor='black', label='MAE')\n",
        "plt.bar(r3, r2_scores, color='r', width=bar_width, edgecolor='black', label='R-squared')\n",
        "plt.xlabel('Models', fontsize=12)\n",
        "plt.ylabel('Scores', fontsize=12)\n",
        "plt.xticks([r + bar_width for r in range(len(mse_scores))], [model_name for _, model_name in models])\n",
        "plt.legend(loc='lower left')\n",
        "\n",
        "for i, mse, mae, r2 in zip(range(len(mse_scores)), mse_scores, mae_scores, r2_scores):\n",
        "    plt.text(i - 0.05, mse + 0.01, f'{mse:.3f}', color='black')\n",
        "    plt.text(i + bar_width - 0.05, mae + 0.01, f'{mae:.3f}', color='black')\n",
        "    plt.text(i + 2 * bar_width - 0.05, r2 + 0.01, f'{r2:.3f}', color='black')\n",
        "\n",
        "plt.show()"
      ],
      "metadata": {
        "colab": {
          "base_uri": "https://localhost:8080/",
          "height": 546
        },
        "id": "kgA2vAOfGp8f",
        "outputId": "96b13bb0-b3bc-4b90-f8b7-147df80507e2"
      },
      "execution_count": 222,
      "outputs": [
        {
          "output_type": "display_data",
          "data": {
            "text/plain": [
              "<Figure size 1500x600 with 1 Axes>"
            ],
            "image/png": "[encoded data removed]"
          },
          "metadata": {}
        }
      ]
    },
    {
      "cell_type": "markdown",
      "source": [
        "**Discussion for Silica Concentrate Prediction**"
      ],
      "metadata": {
        "id": "gOc6ESdaLkOn"
      }
    },
    {
      "cell_type": "markdown",
      "source": [
        "The Random Forest model achieves the lowest Mean Squared Error (MSE) of 0.074, indicating that its predictions have the smallest squared differences from the actual values on average. It also obtains the lowest Mean Absolute Error (MAE) of 0.224, indicating the smallest average absolute differences between its predictions and the actual values. Moreover, it exhibits the highest R-squared (R^2) value of 0.317, indicating that it explains a larger portion of the variance in the data compared to the other models.\n",
        "\n",
        "XGBoost model performs exceptionally well with a low MSE of 0.075, a low MAE of 0.217, and a high R^2 of 0.306. These metrics demonstrate its accuracy, precision, and ability to capture the underlying patterns in the data.\n",
        "\n",
        "Linear Regression, AdaBoost, SVM, ElasticNet, and Decision Tree models also achieve relatively lower MSE and MAE values compared to the other models, they exhibit lower R^2 values. This suggests that they explain less of the variance in the data and may not capture the underlying relationships as effectively.\n",
        "\n",
        "Both the Random Forest and XGBoost models are strong choices for this dataset, as they consistently outperform the other models in terms of accuracy, precision, and variance explanation."
      ],
      "metadata": {
        "id": "mBsQp6MvLTy0"
      }
    },
    {
      "cell_type": "markdown",
      "source": [
        "### **5.2. Models For Iron Concentrate**"
      ],
      "metadata": {
        "id": "UWdj_aIYAovd"
      }
    },
    {
      "cell_type": "markdown",
      "metadata": {
        "id": "DNHOlmWdBUc9"
      },
      "source": [
        "**Split into train, validation, and test set**"
      ]
    },
    {
      "cell_type": "code",
      "execution_count": 223,
      "metadata": {
        "colab": {
          "base_uri": "https://localhost:8080/"
        },
        "outputId": "af538ffc-b112-492b-f328-c290fb3e8f55",
        "id": "kL6-mAdfBUc9"
      },
      "outputs": [
        {
          "output_type": "stream",
          "name": "stdout",
          "text": [
            "(3277, 9) (410, 9) (410, 9)\n"
          ]
        }
      ],
      "source": [
        "X_train, X_val, y_train, y_val = train_test_split(X, y_Fe, test_size=0.2, random_state=42)\n",
        "X_val, X_test, y_val, y_test = train_test_split(X_val, y_val, test_size=0.5, random_state=42)\n",
        "\n",
        "print(X_train.shape, X_val.shape, X_test.shape)"
      ]
    },
    {
      "cell_type": "markdown",
      "source": [
        "**Pipelines for models**"
      ],
      "metadata": {
        "id": "g0TT4YtgKa6x"
      }
    },
    {
      "cell_type": "code",
      "source": [
        "# Define the models and their corresponding names\n",
        "models = [(LinearRegression(), 'Linear Regression'),\n",
        "          (RandomForestRegressor(), 'Random Forest'),\n",
        "          (xgb.XGBRegressor(), 'XGBoost'),\n",
        "          (AdaBoostRegressor(), 'AdaBoost'),\n",
        "          (SVR(), 'SVM'), (ElasticNet(), 'ElasticNet'),\n",
        "          (DecisionTreeRegressor(), 'Decision Tree')]\n",
        "    \n",
        "# Create an empty list to store the evaluation scores\n",
        "mse_scores = []\n",
        "mae_scores = []\n",
        "r2_scores = []\n",
        "\n",
        "# Iterate over the models\n",
        "for model, model_name in models:\n",
        "    pipeline = Pipeline([\n",
        "        ('scaler', MinMaxScaler()),\n",
        "        ('regressor', model)])\n",
        "    \n",
        "    # Fit the pipeline to the training data\n",
        "    pipeline.fit(X_train, y_train)\n",
        "    \n",
        "    # Predict on the validation data\n",
        "    val_pred = pipeline.predict(X_val)\n",
        "    \n",
        "    # Calculate evaluation metrics\n",
        "    mse = mean_squared_error(y_val, val_pred)\n",
        "    mae = mean_absolute_error(y_val, val_pred)\n",
        "    r2 = r2_score(y_val, val_pred)\n",
        "    \n",
        "    # Append the scores to the lists\n",
        "    mse_scores.append(mse)\n",
        "    mae_scores.append(mae)\n",
        "    r2_scores.append(r2)\n",
        "\n",
        "# Display the evaluation metric scores\n",
        "print(\"Mean Squared Error (MSE):\")\n",
        "for model_name, mse in zip([model_name for _, model_name in models], mse_scores):\n",
        "    print(f\"{model_name}: {mse:.3f}\")\n",
        "\n",
        "print(\"\\nMean Absolute Error (MAE):\")\n",
        "for model_name, mae in zip([model_name for _, model_name in models], mae_scores):\n",
        "    print(f\"{model_name}: {mae:.3f}\")\n",
        "\n",
        "print(\"\\nR-squared (R^2):\")\n",
        "for model_name, r2 in zip([model_name for _, model_name in models], r2_scores):\n",
        "    print(f\"{model_name}: {r2:.3f}\")"
      ],
      "metadata": {
        "colab": {
          "base_uri": "https://localhost:8080/"
        },
        "id": "KFVorafGKa67",
        "outputId": "30b550a0-7641-4eed-e8b4-fea9d532ae61"
      },
      "execution_count": 224,
      "outputs": [
        {
          "output_type": "stream",
          "name": "stdout",
          "text": [
            "Mean Squared Error (MSE):\n",
            "Linear Regression: 4.040\n",
            "Random Forest: 3.064\n",
            "XGBoost: 3.240\n",
            "AdaBoost: 3.833\n",
            "SVM: 3.732\n",
            "ElasticNet: 4.361\n",
            "Decision Tree: 6.035\n",
            "\n",
            "Mean Absolute Error (MAE):\n",
            "Linear Regression: 1.640\n",
            "Random Forest: 1.379\n",
            "XGBoost: 1.401\n",
            "AdaBoost: 1.598\n",
            "SVM: 1.537\n",
            "ElasticNet: 1.681\n",
            "Decision Tree: 1.849\n",
            "\n",
            "R-squared (R^2):\n",
            "Linear Regression: 0.073\n",
            "Random Forest: 0.297\n",
            "XGBoost: 0.256\n",
            "AdaBoost: 0.120\n",
            "SVM: 0.143\n",
            "ElasticNet: -0.001\n",
            "Decision Tree: -0.385\n"
          ]
        }
      ]
    },
    {
      "cell_type": "code",
      "source": [
        "# Plot the evaluation metrics\n",
        "r1 = np.arange(len(mse_scores))\n",
        "r2 = [x + bar_width for x in r1]\n",
        "r3 = [x + bar_width for x in r2]\n",
        "\n",
        "bar_width = 0.3\n",
        "plt.figure(figsize=(15, 6))\n",
        "plt.bar(r1, mse_scores, color='b', width=bar_width, edgecolor='black', label='MSE')\n",
        "plt.bar(r2, mae_scores, color='g', width=bar_width, edgecolor='black', label='MAE')\n",
        "plt.bar(r3, r2_scores, color='r', width=bar_width, edgecolor='black', label='R-squared')\n",
        "plt.xlabel('Models', fontsize=12)\n",
        "plt.ylabel('Scores', fontsize=12)\n",
        "plt.xticks([r + bar_width for r in range(len(mse_scores))], [model_name for _, model_name in models])\n",
        "plt.legend(loc='upper left')\n",
        "\n",
        "for i, mse, mae, r2 in zip(range(len(mse_scores)), mse_scores, mae_scores, r2_scores):\n",
        "    plt.text(i - 0.05, mse + 0.01, f'{mse:.3f}', color='black')\n",
        "    plt.text(i + bar_width - 0.05, mae + 0.01, f'{mae:.3f}', color='black')\n",
        "    plt.text(i + 2 * bar_width - 0.05, r2 + 0.01, f'{r2:.3f}', color='black')\n",
        "\n",
        "plt.show()"
      ],
      "metadata": {
        "colab": {
          "base_uri": "https://localhost:8080/",
          "height": 546
        },
        "id": "dFdEzGsAKa67",
        "outputId": "e71468f7-8655-4086-e513-a2e86b09db1b"
      },
      "execution_count": 225,
      "outputs": [
        {
          "output_type": "display_data",
          "data": {
            "text/plain": [
              "<Figure size 1500x600 with 1 Axes>"
            ],
            "image/png": "[encoded data removed]"
          },
          "metadata": {}
        }
      ]
    },
    {
      "cell_type": "markdown",
      "source": [
        "**Discussion for Iron Concentrate Prediction**"
      ],
      "metadata": {
        "id": "bKP7qoQbLz62"
      }
    },
    {
      "cell_type": "markdown",
      "source": [
        "- Random Forest model consistently outperforms the others in terms of Mean Squared Error (MSE), Mean Absolute Error (MAE), and R-squared (R^2).\n",
        "\n",
        "- The Random Forest model achieves the lowest MSE value of 3.064, indicating that its predictions have the smallest squared differences from the actual values on average. It also exhibits the lowest MAE value of 1.379, indicating the smallest average absolute differences between its predictions and the actual values. Furthermore, it obtains the highest R-squared value of 0.297, implying that it explains a larger portion of the variance in the data compared to the other models.\n",
        "\n",
        "- The other models, including Linear Regression, XGBoost, AdaBoost, SVM, ElasticNet, and Decision Tree, demonstrate relatively higher MSE and MAE values and lower R-squared values. This suggests that their predictions have larger errors, both in terms of squared differences and absolute differences, and they explain less variance in the data compared to the Random Forest model.\n",
        "\n",
        "- Random Forest model provides the most accurate and precise predictions, as well as a better understanding of the underlying patterns in the data. Therefore, the Random Forest model is the recommended choice for this particular dataset."
      ],
      "metadata": {
        "id": "Jb9SJr1BLz6-"
      }
    },
    {
      "cell_type": "markdown",
      "source": [
        "### **5.3. Overall Conclusion**"
      ],
      "metadata": {
        "id": "RdEbuoLzbVgn"
      }
    },
    {
      "cell_type": "markdown",
      "source": [
        "In this study, we compared the performance of various regression models, including Linear Regression, Random Forest Regression, XGBoost Regression, AdaBoost Regression, SVM Regression, ElasticNet Regression, and Decision Tree Regression, for predicting the concentrations of iron and silica in mineral processing. \n",
        "\n",
        "Our findings demonstrate that all the models provided reasonably accurate predictions, with comparable results observed. However, some variations were observed in their performance metrics.\n",
        "\n",
        "Linear Regression, being a simpler model, exhibited decent predictive capability but had limitations in capturing complex nonlinear relationships within the dataset. Random Forest Regression and XGBoost Regression, as ensemble models, showcased excellent predictive accuracy, owing to their ability to capture complex interactions among features. AdaBoost Regression also showed promising results, leveraging the concept of boosting to improve prediction accuracy.\n",
        "\n",
        "Support Vector Machine (SVM) Regression demonstrated decent performance but lagged slightly behind the ensemble models. ElasticNet Regression, with its combination of L1 and L2 regularization, exhibited moderate predictive capability, striking a balance between linear and non-linear relationships. Decision Tree Regression performed adequately but was prone to overfitting the training data.\n",
        "\n",
        "Based on these results, engineers in the mineral processing industry can select the most appropriate model considering the trade-offs between prediction accuracy, interpretability, and computational complexity. Ensemble models such as Random Forest and XGBoost are recommended for accurate predictions, particularly when dealing with complex datasets. Linear Regression and SVM Regression can be suitable choices for applications that prioritize interpretability and simplicity."
      ],
      "metadata": {
        "id": "TtT6GhqSeu_Z"
      }
    }
  ],
  "metadata": {
    "accelerator": "GPU",
    "colab": {
      "provenance": [],
      "authorship_tag": "ABX9TyNIBQjxnP0asyCQwOij3k+Y",
      "include_colab_link": true
    },
    "gpuClass": "standard",
    "kernelspec": {
      "display_name": "Python 3",
      "name": "python3"
    },
    "language_info": {
      "name": "python"
    }
  },
  "nbformat": 4,
  "nbformat_minor": 0
}