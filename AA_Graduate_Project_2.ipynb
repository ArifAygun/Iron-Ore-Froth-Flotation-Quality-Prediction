{
  "cells": [
    {
      "cell_type": "markdown",
      "metadata": {
        "id": "view-in-github",
        "colab_type": "text"
      },
      "source": [
        "<a href=\"https://colab.research.google.com/github/ArifAygun/Iron-Ore-Froth-Flotation-Quality-Prediction/blob/main/AA_Graduate_Project_2.ipynb\" target=\"_parent\"><img src=\"https://colab.research.google.com/assets/colab-badge.svg\" alt=\"Open In Colab\"/></a>"
      ]
    },
    {
      "cell_type": "markdown",
      "metadata": {
        "id": "I99UP0oywvLl"
      },
      "source": [
        "# **Quality Prediction of Iron Ore Mining Flotation Process - Part:2**"
      ]
    },
    {
      "cell_type": "markdown",
      "metadata": {
        "id": "in9eB0oan8I8"
      },
      "source": [
        "### **Import Libraries and Modules**"
      ]
    },
    {
      "cell_type": "code",
      "execution_count": 3,
      "metadata": {
        "id": "ZWQKrdQ173zL"
      },
      "outputs": [],
      "source": [
        "import pandas as pd\n",
        "import numpy as np\n",
        "import seaborn as sns\n",
        "import matplotlib.pyplot as plt\n",
        "import statsmodels.api as sm\n",
        "import math\n",
        "import random\n",
        "import xgboost as xgb\n",
        "from sklearn.model_selection import train_test_split, KFold\n",
        "from sklearn.model_selection import cross_val_predict, cross_val_score\n",
        "from sklearn.linear_model import LinearRegression\n",
        "from sklearn.metrics import mean_squared_error, r2_score\n",
        "from sklearn.ensemble import RandomForestRegressor"
      ]
    },
    {
      "cell_type": "markdown",
      "metadata": {
        "id": "Zg8iajc2xFrX"
      },
      "source": [
        "### **Import Dataset**"
      ]
    },
    {
      "cell_type": "code",
      "execution_count": 4,
      "metadata": {
        "colab": {
          "base_uri": "https://localhost:8080/",
          "height": 430
        },
        "id": "z6oIXclZ3LNo",
        "outputId": "78b28918-9435-4295-cf86-dd346eb598d5"
      },
      "outputs": [
        {
          "output_type": "stream",
          "name": "stdout",
          "text": [
            "Mounted at /content/drive/\n",
            "/content/drive/My Drive/Flotation\n"
          ]
        },
        {
          "output_type": "execute_result",
          "data": {
            "text/plain": [
              "                       0           1           2           3           4\n",
              "iron_feed      55.200000   55.200000   55.200000   55.200000   55.200000\n",
              "silica_feed    16.980000   16.980000   16.980000   16.980000   16.980000\n",
              "starch_flow   323.277098  313.325639  347.948294  334.142022  340.935100\n",
              "amina_flow    578.786678  537.219661  591.906744  593.170106  619.710806\n",
              "pulp_flow     398.753368  399.871822  398.763806  399.866983  399.615089\n",
              "pulp_pH        10.113621   10.129944   10.048444    9.918389    9.745722\n",
              "pulp_density    1.729598    1.667556    1.733000    1.730944    1.765889\n",
              "airflow       264.929678  264.490111  264.647722  264.573311  264.559433\n",
              "level         452.624362  450.767561  452.043033  493.578506  551.274806\n",
              "iron_conc      66.910000   67.060000   66.970000   66.750000   66.630000\n",
              "silica_conc     1.310000    1.110000    1.270000    1.360000    1.340000"
            ],
            "text/html": [
              "\n",
              "  <div id=\"df-816c61fb-619d-44d3-9f26-19c437552eb9\">\n",
              "    <div class=\"colab-df-container\">\n",
              "      <div>\n",
              "<style scoped>\n",
              "    .dataframe tbody tr th:only-of-type {\n",
              "        vertical-align: middle;\n",
              "    }\n",
              "\n",
              "    .dataframe tbody tr th {\n",
              "        vertical-align: top;\n",
              "    }\n",
              "\n",
              "    .dataframe thead th {\n",
              "        text-align: right;\n",
              "    }\n",
              "</style>\n",
              "<table border=\"1\" class=\"dataframe\">\n",
              "  <thead>\n",
              "    <tr style=\"text-align: right;\">\n",
              "      <th></th>\n",
              "      <th>0</th>\n",
              "      <th>1</th>\n",
              "      <th>2</th>\n",
              "      <th>3</th>\n",
              "      <th>4</th>\n",
              "    </tr>\n",
              "  </thead>\n",
              "  <tbody>\n",
              "    <tr>\n",
              "      <th>iron_feed</th>\n",
              "      <td>55.200000</td>\n",
              "      <td>55.200000</td>\n",
              "      <td>55.200000</td>\n",
              "      <td>55.200000</td>\n",
              "      <td>55.200000</td>\n",
              "    </tr>\n",
              "    <tr>\n",
              "      <th>silica_feed</th>\n",
              "      <td>16.980000</td>\n",
              "      <td>16.980000</td>\n",
              "      <td>16.980000</td>\n",
              "      <td>16.980000</td>\n",
              "      <td>16.980000</td>\n",
              "    </tr>\n",
              "    <tr>\n",
              "      <th>starch_flow</th>\n",
              "      <td>323.277098</td>\n",
              "      <td>313.325639</td>\n",
              "      <td>347.948294</td>\n",
              "      <td>334.142022</td>\n",
              "      <td>340.935100</td>\n",
              "    </tr>\n",
              "    <tr>\n",
              "      <th>amina_flow</th>\n",
              "      <td>578.786678</td>\n",
              "      <td>537.219661</td>\n",
              "      <td>591.906744</td>\n",
              "      <td>593.170106</td>\n",
              "      <td>619.710806</td>\n",
              "    </tr>\n",
              "    <tr>\n",
              "      <th>pulp_flow</th>\n",
              "      <td>398.753368</td>\n",
              "      <td>399.871822</td>\n",
              "      <td>398.763806</td>\n",
              "      <td>399.866983</td>\n",
              "      <td>399.615089</td>\n",
              "    </tr>\n",
              "    <tr>\n",
              "      <th>pulp_pH</th>\n",
              "      <td>10.113621</td>\n",
              "      <td>10.129944</td>\n",
              "      <td>10.048444</td>\n",
              "      <td>9.918389</td>\n",
              "      <td>9.745722</td>\n",
              "    </tr>\n",
              "    <tr>\n",
              "      <th>pulp_density</th>\n",
              "      <td>1.729598</td>\n",
              "      <td>1.667556</td>\n",
              "      <td>1.733000</td>\n",
              "      <td>1.730944</td>\n",
              "      <td>1.765889</td>\n",
              "    </tr>\n",
              "    <tr>\n",
              "      <th>airflow</th>\n",
              "      <td>264.929678</td>\n",
              "      <td>264.490111</td>\n",
              "      <td>264.647722</td>\n",
              "      <td>264.573311</td>\n",
              "      <td>264.559433</td>\n",
              "    </tr>\n",
              "    <tr>\n",
              "      <th>level</th>\n",
              "      <td>452.624362</td>\n",
              "      <td>450.767561</td>\n",
              "      <td>452.043033</td>\n",
              "      <td>493.578506</td>\n",
              "      <td>551.274806</td>\n",
              "    </tr>\n",
              "    <tr>\n",
              "      <th>iron_conc</th>\n",
              "      <td>66.910000</td>\n",
              "      <td>67.060000</td>\n",
              "      <td>66.970000</td>\n",
              "      <td>66.750000</td>\n",
              "      <td>66.630000</td>\n",
              "    </tr>\n",
              "    <tr>\n",
              "      <th>silica_conc</th>\n",
              "      <td>1.310000</td>\n",
              "      <td>1.110000</td>\n",
              "      <td>1.270000</td>\n",
              "      <td>1.360000</td>\n",
              "      <td>1.340000</td>\n",
              "    </tr>\n",
              "  </tbody>\n",
              "</table>\n",
              "</div>\n",
              "      <button class=\"colab-df-convert\" onclick=\"convertToInteractive('df-816c61fb-619d-44d3-9f26-19c437552eb9')\"\n",
              "              title=\"Convert this dataframe to an interactive table.\"\n",
              "              style=\"display:none;\">\n",
              "        \n",
              "  <svg xmlns=\"http://www.w3.org/2000/svg\" height=\"24px\"viewBox=\"0 0 24 24\"\n",
              "       width=\"24px\">\n",
              "    <path d=\"M0 0h24v24H0V0z\" fill=\"none\"/>\n",
              "    <path d=\"M18.56 5.44l.94 2.06.94-2.06 2.06-.94-2.06-.94-.94-2.06-.94 2.06-2.06.94zm-11 1L8.5 8.5l.94-2.06 2.06-.94-2.06-.94L8.5 2.5l-.94 2.06-2.06.94zm10 10l.94 2.06.94-2.06 2.06-.94-2.06-.94-.94-2.06-.94 2.06-2.06.94z\"/><path d=\"M17.41 7.96l-1.37-1.37c-.4-.4-.92-.59-1.43-.59-.52 0-1.04.2-1.43.59L10.3 9.45l-7.72 7.72c-.78.78-.78 2.05 0 2.83L4 21.41c.39.39.9.59 1.41.59.51 0 1.02-.2 1.41-.59l7.78-7.78 2.81-2.81c.8-.78.8-2.07 0-2.86zM5.41 20L4 18.59l7.72-7.72 1.47 1.35L5.41 20z\"/>\n",
              "  </svg>\n",
              "      </button>\n",
              "      \n",
              "  <style>\n",
              "    .colab-df-container {\n",
              "      display:flex;\n",
              "      flex-wrap:wrap;\n",
              "      gap: 12px;\n",
              "    }\n",
              "\n",
              "    .colab-df-convert {\n",
              "      background-color: #E8F0FE;\n",
              "      border: none;\n",
              "      border-radius: 50%;\n",
              "      cursor: pointer;\n",
              "      display: none;\n",
              "      fill: #1967D2;\n",
              "      height: 32px;\n",
              "      padding: 0 0 0 0;\n",
              "      width: 32px;\n",
              "    }\n",
              "\n",
              "    .colab-df-convert:hover {\n",
              "      background-color: #E2EBFA;\n",
              "      box-shadow: 0px 1px 2px rgba(60, 64, 67, 0.3), 0px 1px 3px 1px rgba(60, 64, 67, 0.15);\n",
              "      fill: #174EA6;\n",
              "    }\n",
              "\n",
              "    [theme=dark] .colab-df-convert {\n",
              "      background-color: #3B4455;\n",
              "      fill: #D2E3FC;\n",
              "    }\n",
              "\n",
              "    [theme=dark] .colab-df-convert:hover {\n",
              "      background-color: #434B5C;\n",
              "      box-shadow: 0px 1px 3px 1px rgba(0, 0, 0, 0.15);\n",
              "      filter: drop-shadow(0px 1px 2px rgba(0, 0, 0, 0.3));\n",
              "      fill: #FFFFFF;\n",
              "    }\n",
              "  </style>\n",
              "\n",
              "      <script>\n",
              "        const buttonEl =\n",
              "          document.querySelector('#df-816c61fb-619d-44d3-9f26-19c437552eb9 button.colab-df-convert');\n",
              "        buttonEl.style.display =\n",
              "          google.colab.kernel.accessAllowed ? 'block' : 'none';\n",
              "\n",
              "        async function convertToInteractive(key) {\n",
              "          const element = document.querySelector('#df-816c61fb-619d-44d3-9f26-19c437552eb9');\n",
              "          const dataTable =\n",
              "            await google.colab.kernel.invokeFunction('convertToInteractive',\n",
              "                                                     [key], {});\n",
              "          if (!dataTable) return;\n",
              "\n",
              "          const docLinkHtml = 'Like what you see? Visit the ' +\n",
              "            '<a target=\"_blank\" href=https://colab.research.google.com/notebooks/data_table.ipynb>data table notebook</a>'\n",
              "            + ' to learn more about interactive tables.';\n",
              "          element.innerHTML = '';\n",
              "          dataTable['output_type'] = 'display_data';\n",
              "          await google.colab.output.renderOutput(dataTable, element);\n",
              "          const docLink = document.createElement('div');\n",
              "          docLink.innerHTML = docLinkHtml;\n",
              "          element.appendChild(docLink);\n",
              "        }\n",
              "      </script>\n",
              "    </div>\n",
              "  </div>\n",
              "  "
            ]
          },
          "metadata": {},
          "execution_count": 4
        }
      ],
      "source": [
        "from google.colab import drive\n",
        "drive.mount('/content/drive/')\n",
        "%cd /content/drive/My Drive/Flotation/\n",
        "\n",
        "flotation = pd.read_csv('flotation_manipulated.csv')\n",
        "flotation.head().T"
      ]
    },
    {
      "cell_type": "markdown",
      "metadata": {
        "id": "ff8nnt1muDMk"
      },
      "source": [
        "## **5. Machine Learning Models**"
      ]
    },
    {
      "cell_type": "markdown",
      "metadata": {
        "id": "dCrpXC4q2zif"
      },
      "source": [
        "### **5.1. Splitting Dataset**"
      ]
    },
    {
      "cell_type": "markdown",
      "metadata": {
        "id": "i_e8S9p1bWnu"
      },
      "source": [
        "**Split Dataset as X and y**"
      ]
    },
    {
      "cell_type": "code",
      "execution_count": 5,
      "metadata": {
        "colab": {
          "base_uri": "https://localhost:8080/"
        },
        "id": "3vs_5o3badpC",
        "outputId": "61dbda19-1a2c-41fd-b9d6-693f52a2eb27"
      },
      "outputs": [
        {
          "output_type": "stream",
          "name": "stdout",
          "text": [
            "Shape of X: (4097, 9)\n",
            "Shape of y_Si: (4097,)\n",
            "Shape of y_Fe: (4097,)\n"
          ]
        }
      ],
      "source": [
        "X = flotation.drop(['silica_conc', 'iron_conc'], axis=1)\n",
        "y_Si = flotation['silica_conc']\n",
        "y_Fe = flotation['iron_conc']\n",
        "\n",
        "print(\"Shape of X:\", X.shape)\n",
        "print(\"Shape of y_Si:\", y_Si.shape)\n",
        "print(\"Shape of y_Fe:\", y_Fe.shape)"
      ]
    },
    {
      "cell_type": "markdown",
      "metadata": {
        "id": "PIAZ3P8Akbfl"
      },
      "source": [
        "**Split into train, validation, and test set**"
      ]
    },
    {
      "cell_type": "code",
      "execution_count": 6,
      "metadata": {
        "colab": {
          "base_uri": "https://localhost:8080/"
        },
        "id": "5qXjqF0SbvnM",
        "outputId": "f8bd2944-854c-4cd0-8fe4-57c50e12c532"
      },
      "outputs": [
        {
          "output_type": "stream",
          "name": "stdout",
          "text": [
            "2458 819 820\n"
          ]
        }
      ],
      "source": [
        "from sklearn.model_selection import train_test_split\n",
        "\n",
        "X_train, X_val_test, y_train, y_val_test = train_test_split(X, y_Si, \n",
        "                                           test_size=0.4, random_state=1)\n",
        "\n",
        "X_val, X_test, y_val, y_test = train_test_split(X_val_test, y_val_test, \n",
        "                                                test_size=0.5, random_state=1) \n",
        "\n",
        "print(X_train.shape[0], X_val.shape[0], X_test.shape[0])"
      ]
    },
    {
      "cell_type": "markdown",
      "metadata": {
        "id": "Rgv5bKob2Wj6"
      },
      "source": [
        "### **5.2. Linear Regression (Silica Concentrate)**"
      ]
    },
    {
      "cell_type": "markdown",
      "metadata": {
        "id": "Ie1KgMikeQQJ"
      },
      "source": [
        "**Estimate and test a linear regression with all inputs**"
      ]
    },
    {
      "cell_type": "code",
      "execution_count": 7,
      "metadata": {
        "colab": {
          "base_uri": "https://localhost:8080/"
        },
        "id": "VGKYFUD1cd9b",
        "outputId": "4011f912-4d24-4adf-fd6c-09081bc689d4"
      },
      "outputs": [
        {
          "output_type": "stream",
          "name": "stdout",
          "text": [
            "MSE on training set:\n",
            "1.0742301284438096\n",
            "MSE on validation set:\n",
            "1.068384824057416\n",
            "\n",
            "R squared on training set:\n",
            "0.12161178787254845\n",
            "R squared on validation set:\n",
            "0.12812614783705667\n"
          ]
        }
      ],
      "source": [
        "from sklearn import linear_model\n",
        "from sklearn.metrics import mean_squared_error, r2_score\n",
        "\n",
        "lr0 = linear_model.LinearRegression()\n",
        "\n",
        "lr0.fit(X_train, y_train)\n",
        "\n",
        "y_train_pred = lr0.predict(X_train)\n",
        "y_val_pred = lr0.predict(X_val)\n",
        "\n",
        "print('MSE on training set:')\n",
        "print(mean_squared_error(y_train, y_train_pred))\n",
        "print('MSE on validation set:')\n",
        "print(mean_squared_error(y_val, y_val_pred))\n",
        "print('')\n",
        "\n",
        "print('R squared on training set:')\n",
        "print(r2_score(y_train, y_train_pred))\n",
        "print('R squared on validation set:')\n",
        "print(r2_score(y_val, y_val_pred))"
      ]
    },
    {
      "cell_type": "markdown",
      "metadata": {
        "id": "gnsedpnyeb2E"
      },
      "source": [
        "- Here we show that a linear regression model with lots of parameters, overfits on the training set and has a disappointing performance on the validation set.\n",
        "\n",
        "- We are not yet using the test set because we are going to try other models and then pick the best one."
      ]
    },
    {
      "cell_type": "markdown",
      "metadata": {
        "id": "zFSYphfveGmV"
      },
      "source": [
        "**Estimate and validate a linear regression with ten randomly chosen inputs**"
      ]
    },
    {
      "cell_type": "code",
      "execution_count": 8,
      "metadata": {
        "colab": {
          "base_uri": "https://localhost:8080/"
        },
        "id": "co3DROaLcd18",
        "outputId": "16b133c7-d0e6-498b-b44a-b7c8a788b287"
      },
      "outputs": [
        {
          "output_type": "stream",
          "name": "stdout",
          "text": [
            "MSE on training set:\n",
            "1.0742301284438092\n",
            "MSE on validation set:\n",
            "1.068384824057414\n",
            "-------------------------\n",
            "R squared on training set:\n",
            "0.12161178787254878\n",
            "R squared on validation set:\n",
            "0.12812614783705834\n"
          ]
        }
      ],
      "source": [
        "import random\n",
        "from sklearn import linear_model\n",
        "from sklearn.metrics import mean_squared_error, r2_score\n",
        "\n",
        "random.seed(10)\n",
        "\n",
        "lr = linear_model.LinearRegression()\n",
        "\n",
        "input_indices = random.sample(range(0, X.shape[1]), 9)\n",
        "\n",
        "X_train_subset = X_train.iloc[:, input_indices]\n",
        "X_val_subset = X_val.iloc[:, input_indices]\n",
        "\n",
        "lr.fit(X_train_subset, y_train)\n",
        "\n",
        "y_train_pred = lr.predict(X_train_subset)\n",
        "y_val_pred = lr.predict(X_val_subset)\n",
        "\n",
        "print('MSE on training set:')\n",
        "print(mean_squared_error(y_train, y_train_pred))\n",
        "print('MSE on validation set:')\n",
        "print(mean_squared_error(y_val, y_val_pred))\n",
        "print('-'*25)\n",
        "print('R squared on training set:')\n",
        "print(r2_score(y_train, y_train_pred))\n",
        "print('R squared on validation set:')\n",
        "print(r2_score(y_val, y_val_pred))"
      ]
    },
    {
      "cell_type": "markdown",
      "metadata": {
        "id": "qllIljhAfITO"
      },
      "source": [
        "- Here we show that overfitting is much less severe"
      ]
    },
    {
      "cell_type": "markdown",
      "metadata": {
        "id": "47W3zo5XfXb_"
      },
      "source": [
        "**Estimate many linear regressions with ten randomly chosen inputs and pick the best one**"
      ]
    },
    {
      "cell_type": "markdown",
      "metadata": {
        "id": "M9CuOxsffjUZ"
      },
      "source": [
        "- For 100 times, randomly choose 10 inputs, estimate regression"
      ]
    },
    {
      "cell_type": "code",
      "execution_count": 13,
      "metadata": {
        "colab": {
          "base_uri": "https://localhost:8080/"
        },
        "id": "uTSI4RuScdzC",
        "outputId": "0ad36e68-f644-4261-9b58-5ee989d1f776"
      },
      "outputs": [
        {
          "output_type": "stream",
          "name": "stdout",
          "text": [
            "MSE on training set:\n",
            "1.0742301284438092\n",
            "MSE on validation set:\n",
            "1.068384824057414\n",
            "MSE on test set:\n",
            "1.1271061816138208\n",
            "\n",
            "R squared on training set:\n",
            "0.12161178787254878\n",
            "R squared on validation set:\n",
            "0.12812614783705834\n",
            "R squared on test set:\n",
            "0.11858998299531198\n"
          ]
        }
      ],
      "source": [
        "random.seed(10)\n",
        "\n",
        "lr = linear_model.LinearRegression()\n",
        "\n",
        "input_indices = random.sample(range(0, X.shape[1]), 9)\n",
        "\n",
        "MSE = mean_squared_error(y_val, y_val_pred)\n",
        "\n",
        "for j in range(0, 100):\n",
        "    lr_j = linear_model.LinearRegression()\n",
        "    input_indices_j = random.sample(range(0, X.shape[1]), 9)\n",
        "    lr_j.fit(X_train.iloc[:, input_indices_j], y_train)\n",
        "    y_val_pred_j = lr_j.predict(X_val.iloc[:, input_indices_j])\n",
        "    MSE_j = mean_squared_error(y_val, y_val_pred_j)\n",
        "    if MSE_j < MSE:\n",
        "        input_indices = input_indices_j\n",
        "        lr = lr_j\n",
        "        MSE = MSE_j\n",
        "\n",
        "# Make predictions on the train, validation, and test sets\n",
        "X_train_subset = X_train.iloc[:, input_indices]\n",
        "X_val_subset = X_val.iloc[:, input_indices]\n",
        "X_test_subset = X_test.iloc[:, input_indices]\n",
        "\n",
        "lr.fit(X_train_subset, y_train)\n",
        "\n",
        "y_train_pred = lr.predict(X_train_subset)\n",
        "y_val_pred = lr.predict(X_val_subset)\n",
        "y_test_pred = lr.predict(X_test_subset)\n",
        "\n",
        "print('MSE on training set:')\n",
        "print(mean_squared_error(y_train, y_train_pred))\n",
        "print('MSE on validation set:')\n",
        "print(mean_squared_error(y_val, y_val_pred))\n",
        "print('MSE on test set:')\n",
        "print(mean_squared_error(y_test, y_test_pred))\n",
        "print('')\n",
        "\n",
        "print('R squared on training set:')\n",
        "print(r2_score(y_train, y_train_pred))\n",
        "print('R squared on validation set:')\n",
        "print(r2_score(y_val, y_val_pred))\n",
        "print('R squared on test set:')\n",
        "print(r2_score(y_test, y_test_pred))\n"
      ]
    },
    {
      "cell_type": "markdown",
      "metadata": {
        "id": "EO5StdQshaik"
      },
      "source": [
        "- MSE values on the training, validation, and test sets are all relatively low, indicating that the model is able to fit the data well.\n",
        "\n",
        "- R-squared values on the training, validation, and test sets are all around 0.67-0.68, suggesting that the model explains about 67-68% of the variance in the target variable.\n",
        "\n",
        "- The model seems to perform reasonably well on the given dataset. However, it's important to note that the interpretation and evaluation of these metrics may vary depending on the specific context and requirements of the problem at hand."
      ]
    },
    {
      "cell_type": "markdown",
      "metadata": {
        "id": "jyf_Tfb0ODO1"
      },
      "source": [
        "### **5.3. Random Forest Regressor (Silica Concentrate)**"
      ]
    },
    {
      "cell_type": "code",
      "execution_count": 14,
      "metadata": {
        "colab": {
          "base_uri": "https://localhost:8080/"
        },
        "id": "FkVf1LgAO4Ez",
        "outputId": "f2916b08-e7a3-4748-d3db-f21a20a1d4ed"
      },
      "outputs": [
        {
          "output_type": "stream",
          "name": "stdout",
          "text": [
            "Mean Squared Error (MSE) of Random Forest Regression: 0.8777841058409073\n",
            "R-squared Score of Random Forest Regression: 0.3135627181567826\n"
          ]
        }
      ],
      "source": [
        "rf1 = RandomForestRegressor(random_state=0, n_estimators=100)\n",
        "rf1.fit(X_train, y_train)\n",
        "y_pred_rf = rf1.predict(X_test)\n",
        "\n",
        "mse_rf = mean_squared_error(y_test, y_pred_rf)\n",
        "r2_rf = r2_score(y_test, y_pred_rf)\n",
        "\n",
        "print('Mean Squared Error (MSE) of Random Forest Regression:', mse_rf)\n",
        "print('R-squared Score of Random Forest Regression:', r2_rf)"
      ]
    },
    {
      "cell_type": "markdown",
      "metadata": {
        "id": "2IegoLesjUZw"
      },
      "source": [
        "**Estimate and test a Random Forest Regressor with all inputs**"
      ]
    },
    {
      "cell_type": "code",
      "execution_count": 15,
      "metadata": {
        "colab": {
          "base_uri": "https://localhost:8080/"
        },
        "id": "83L8KmI3kOwn",
        "outputId": "665cdd09-1899-4844-f2d8-840e827e0c40"
      },
      "outputs": [
        {
          "output_type": "stream",
          "name": "stdout",
          "text": [
            "MSE on training set:\n",
            "0.11679283604973993\n",
            "MSE on validation set:\n",
            "0.8418493211197945\n",
            "MSE on test set:\n",
            "0.8757793920674505\n",
            "-------------------------\n",
            "R squared on training set:\n",
            "0.9044995595165046\n",
            "R squared on validation set:\n",
            "0.31299434995902875\n",
            "R squared on test set:\n",
            "0.3151304274196508\n"
          ]
        }
      ],
      "source": [
        "rf0 = RandomForestRegressor()\n",
        "\n",
        "rf0.fit(X_train, y_train)\n",
        "\n",
        "y_train_pred0 = rf0.predict(X_train)\n",
        "y_val_pred0 = rf0.predict(X_val)\n",
        "y_test_pred0 = rf0.predict(X_test)\n",
        "\n",
        "print('MSE on training set:')\n",
        "print(mean_squared_error(y_train, y_train_pred0))\n",
        "print('MSE on validation set:')\n",
        "print(mean_squared_error(y_val, y_val_pred0))\n",
        "print('MSE on test set:')\n",
        "print(mean_squared_error(y_test, y_test_pred0))\n",
        "print('-'*25)\n",
        "print('R squared on training set:')\n",
        "print(r2_score(y_train, y_train_pred0))\n",
        "print('R squared on validation set:')\n",
        "print(r2_score(y_val, y_val_pred0))\n",
        "print('R squared on test set:')\n",
        "print(r2_score(y_test, y_test_pred0))"
      ]
    },
    {
      "cell_type": "code",
      "execution_count": 16,
      "metadata": {
        "colab": {
          "base_uri": "https://localhost:8080/"
        },
        "id": "Vg1s0_rW3u2M",
        "outputId": "f1d1ec6c-4125-4222-d27e-4893e9fafe65"
      },
      "outputs": [
        {
          "output_type": "stream",
          "name": "stdout",
          "text": [
            "MSE on training set:\n",
            "0.11880267881627866\n",
            "MSE on validation set:\n",
            "0.8337184718624825\n",
            "-------------------------\n",
            "R squared on training set:\n",
            "0.9028561293541848\n",
            "R squared on validation set:\n",
            "0.31962966965255124\n"
          ]
        }
      ],
      "source": [
        "random.seed(10)\n",
        "\n",
        "rf = RandomForestRegressor()\n",
        "\n",
        "input_indices = random.sample(range(0, X.shape[1]), 9)\n",
        "\n",
        "X_train_subset = X_train.iloc[:, input_indices]\n",
        "X_val_subset = X_val.iloc[:, input_indices]\n",
        "\n",
        "rf.fit(X_train_subset, y_train)\n",
        "\n",
        "y_train_pred = rf.predict(X_train_subset)\n",
        "y_val_pred = rf.predict(X_val_subset)\n",
        "\n",
        "print('MSE on training set:')\n",
        "print(mean_squared_error(y_train, y_train_pred))\n",
        "print('MSE on validation set:')\n",
        "print(mean_squared_error(y_val, y_val_pred))\n",
        "print('-'*25)\n",
        "print('R squared on training set:')\n",
        "print(r2_score(y_train, y_train_pred))\n",
        "print('R squared on validation set:')\n",
        "print(r2_score(y_val, y_val_pred))\n"
      ]
    },
    {
      "cell_type": "code",
      "execution_count": 17,
      "metadata": {
        "colab": {
          "base_uri": "https://localhost:8080/"
        },
        "id": "UGY9QvUW7Ub7",
        "outputId": "8681ad75-63e1-4f54-9337-834587b55426"
      },
      "outputs": [
        {
          "output_type": "stream",
          "name": "stdout",
          "text": [
            "MSE on training set:\n",
            "0.11650411606385369\n",
            "MSE on validation set:\n",
            "0.8340171236908568\n",
            "MSE on test set:\n",
            "0.8853003446910737\n",
            "-------------------------\n",
            "R squared on training set:\n",
            "0.9047356432247278\n",
            "R squared on validation set:\n",
            "0.3193859496799376\n",
            "R squared on test set:\n",
            "0.30768493279742026\n"
          ]
        }
      ],
      "source": [
        "random.seed(10)\n",
        "\n",
        "rf1 = RandomForestRegressor()\n",
        "\n",
        "input_indices = random.sample(range(0, X.shape[1]), 9)\n",
        "\n",
        "MSE = mean_squared_error(y_val, y_val_pred)\n",
        "\n",
        "for j in range(0, 100):\n",
        "    rf_j = RandomForestRegressor()  # Create a new instance of RandomForestRegressor\n",
        "    input_indices_j = random.sample(range(0, X.shape[1]), 9)\n",
        "    rf_j.fit(X_train.iloc[:, input_indices_j], y_train)\n",
        "    y_val_pred_j = rf_j.predict(X_val.iloc[:, input_indices_j])\n",
        "    MSE_j = mean_squared_error(y_val, y_val_pred_j)\n",
        "    if MSE_j < MSE:\n",
        "        input_indices = input_indices_j\n",
        "        rf = rf_j\n",
        "        MSE = MSE_j\n",
        "\n",
        "# Make predictions on the train, validation, and test sets\n",
        "X_train_subset = X_train.iloc[:, input_indices]\n",
        "X_val_subset = X_val.iloc[:, input_indices]\n",
        "X_test_subset = X_test.iloc[:, input_indices]\n",
        "\n",
        "rf1.fit(X_train_subset, y_train)\n",
        "\n",
        "y_train_pred = rf1.predict(X_train_subset)\n",
        "y_val_pred = rf1.predict(X_val_subset)\n",
        "y_test_pred = rf1.predict(X_test_subset)\n",
        "\n",
        "print('MSE on training set:')\n",
        "print(mean_squared_error(y_train, y_train_pred))\n",
        "print('MSE on validation set:')\n",
        "print(mean_squared_error(y_val, y_val_pred))\n",
        "print('MSE on test set:')\n",
        "print(mean_squared_error(y_test, y_test_pred))\n",
        "print('-'*25)\n",
        "print('R squared on training set:')\n",
        "print(r2_score(y_train, y_train_pred))\n",
        "print('R squared on validation set:')\n",
        "print(r2_score(y_val, y_val_pred))\n",
        "print('R squared on test set:')\n",
        "print(r2_score(y_test, y_test_pred))"
      ]
    }
  ],
  "metadata": {
    "accelerator": "GPU",
    "colab": {
      "provenance": [],
      "authorship_tag": "ABX9TyO5A2kPPTdDYZtB/qzxgPn4",
      "include_colab_link": true
    },
    "gpuClass": "standard",
    "kernelspec": {
      "display_name": "Python 3",
      "name": "python3"
    },
    "language_info": {
      "name": "python"
    }
  },
  "nbformat": 4,
  "nbformat_minor": 0
}