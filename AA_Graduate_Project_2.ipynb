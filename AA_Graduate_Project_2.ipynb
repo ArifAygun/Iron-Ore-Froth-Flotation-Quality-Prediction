{
  "cells": [
    {
      "cell_type": "markdown",
      "metadata": {
        "id": "view-in-github",
        "colab_type": "text"
      },
      "source": [
        "<a href=\"https://colab.research.google.com/github/ArifAygun/Iron-Ore-Froth-Flotation-Quality-Prediction/blob/main/AA_Graduate_Project_2.ipynb\" target=\"_parent\"><img src=\"https://colab.research.google.com/assets/colab-badge.svg\" alt=\"Open In Colab\"/></a>"
      ]
    },
    {
      "cell_type": "markdown",
      "metadata": {
        "id": "I99UP0oywvLl"
      },
      "source": [
        "# **Quality Prediction of Iron Ore Mining Flotation Process - Part:2**"
      ]
    },
    {
      "cell_type": "markdown",
      "metadata": {
        "id": "in9eB0oan8I8"
      },
      "source": [
        "### **Import Libraries and Modules**"
      ]
    },
    {
      "cell_type": "code",
      "execution_count": 72,
      "metadata": {
        "id": "ZWQKrdQ173zL"
      },
      "outputs": [],
      "source": [
        "import pandas as pd\n",
        "import numpy as np\n",
        "import seaborn as sns\n",
        "import matplotlib.pyplot as plt\n",
        "import statsmodels.api as sm\n",
        "import math\n",
        "import random\n",
        "import xgboost as xgb\n",
        "from sklearn.model_selection import train_test_split, KFold\n",
        "from sklearn.model_selection import cross_val_predict, cross_val_score\n",
        "from sklearn.linear_model import LinearRegression, ElasticNet\n",
        "from sklearn.metrics import mean_squared_error, mean_absolute_error, r2_score\n",
        "from sklearn.ensemble import RandomForestRegressor, AdaBoostRegressor\n",
        "from sklearn.preprocessing import StandardScaler, MinMaxScaler\n",
        "from sklearn.svm import SVR\n",
        "from sklearn.tree import DecisionTreeRegressor\n",
        "from sklearn.pipeline import Pipeline"
      ]
    },
    {
      "cell_type": "markdown",
      "metadata": {
        "id": "Zg8iajc2xFrX"
      },
      "source": [
        "### **Import Dataset**"
      ]
    },
    {
      "cell_type": "code",
      "execution_count": 73,
      "metadata": {
        "id": "z6oIXclZ3LNo",
        "colab": {
          "base_uri": "https://localhost:8080/",
          "height": 429
        },
        "outputId": "e9177972-e6c3-4dae-db22-1c5bb75ecaca"
      },
      "outputs": [
        {
          "output_type": "stream",
          "name": "stdout",
          "text": [
            "Drive already mounted at /content/drive/; to attempt to forcibly remount, call drive.mount(\"/content/drive/\", force_remount=True).\n",
            "/content/drive/My Drive/Flotation\n"
          ]
        },
        {
          "output_type": "execute_result",
          "data": {
            "text/plain": [
              "                       0           1           2           3           4\n",
              "iron_feed      55.200000   55.200000   55.200000   55.200000   55.200000\n",
              "silica_feed    16.980000   16.980000   16.980000   16.980000   16.980000\n",
              "starch_flow   323.277098  313.325639  347.948294  334.142022  340.935100\n",
              "amina_flow    578.786678  537.219661  591.906744  593.170106  619.710806\n",
              "pulp_flow     398.753368  399.871822  398.763806  399.866983  399.615089\n",
              "pulp_pH        10.113621   10.129944   10.048444    9.918389    9.745722\n",
              "pulp_density    1.729598    1.667556    1.733000    1.730944    1.765889\n",
              "airflow       264.929678  264.490111  264.647722  264.573311  264.559433\n",
              "level         452.624362  450.767561  452.043033  493.578506  551.274806\n",
              "iron_conc      66.910000   67.060000   66.970000   66.750000   66.630000\n",
              "silica_conc     1.310000    1.110000    1.270000    1.360000    1.340000"
            ],
            "text/html": [
              "\n",
              "  <div id=\"df-8c1c5a71-c042-4a0c-98b5-388e0b62f4dc\">\n",
              "    <div class=\"colab-df-container\">\n",
              "      <div>\n",
              "<style scoped>\n",
              "    .dataframe tbody tr th:only-of-type {\n",
              "        vertical-align: middle;\n",
              "    }\n",
              "\n",
              "    .dataframe tbody tr th {\n",
              "        vertical-align: top;\n",
              "    }\n",
              "\n",
              "    .dataframe thead th {\n",
              "        text-align: right;\n",
              "    }\n",
              "</style>\n",
              "<table border=\"1\" class=\"dataframe\">\n",
              "  <thead>\n",
              "    <tr style=\"text-align: right;\">\n",
              "      <th></th>\n",
              "      <th>0</th>\n",
              "      <th>1</th>\n",
              "      <th>2</th>\n",
              "      <th>3</th>\n",
              "      <th>4</th>\n",
              "    </tr>\n",
              "  </thead>\n",
              "  <tbody>\n",
              "    <tr>\n",
              "      <th>iron_feed</th>\n",
              "      <td>55.200000</td>\n",
              "      <td>55.200000</td>\n",
              "      <td>55.200000</td>\n",
              "      <td>55.200000</td>\n",
              "      <td>55.200000</td>\n",
              "    </tr>\n",
              "    <tr>\n",
              "      <th>silica_feed</th>\n",
              "      <td>16.980000</td>\n",
              "      <td>16.980000</td>\n",
              "      <td>16.980000</td>\n",
              "      <td>16.980000</td>\n",
              "      <td>16.980000</td>\n",
              "    </tr>\n",
              "    <tr>\n",
              "      <th>starch_flow</th>\n",
              "      <td>323.277098</td>\n",
              "      <td>313.325639</td>\n",
              "      <td>347.948294</td>\n",
              "      <td>334.142022</td>\n",
              "      <td>340.935100</td>\n",
              "    </tr>\n",
              "    <tr>\n",
              "      <th>amina_flow</th>\n",
              "      <td>578.786678</td>\n",
              "      <td>537.219661</td>\n",
              "      <td>591.906744</td>\n",
              "      <td>593.170106</td>\n",
              "      <td>619.710806</td>\n",
              "    </tr>\n",
              "    <tr>\n",
              "      <th>pulp_flow</th>\n",
              "      <td>398.753368</td>\n",
              "      <td>399.871822</td>\n",
              "      <td>398.763806</td>\n",
              "      <td>399.866983</td>\n",
              "      <td>399.615089</td>\n",
              "    </tr>\n",
              "    <tr>\n",
              "      <th>pulp_pH</th>\n",
              "      <td>10.113621</td>\n",
              "      <td>10.129944</td>\n",
              "      <td>10.048444</td>\n",
              "      <td>9.918389</td>\n",
              "      <td>9.745722</td>\n",
              "    </tr>\n",
              "    <tr>\n",
              "      <th>pulp_density</th>\n",
              "      <td>1.729598</td>\n",
              "      <td>1.667556</td>\n",
              "      <td>1.733000</td>\n",
              "      <td>1.730944</td>\n",
              "      <td>1.765889</td>\n",
              "    </tr>\n",
              "    <tr>\n",
              "      <th>airflow</th>\n",
              "      <td>264.929678</td>\n",
              "      <td>264.490111</td>\n",
              "      <td>264.647722</td>\n",
              "      <td>264.573311</td>\n",
              "      <td>264.559433</td>\n",
              "    </tr>\n",
              "    <tr>\n",
              "      <th>level</th>\n",
              "      <td>452.624362</td>\n",
              "      <td>450.767561</td>\n",
              "      <td>452.043033</td>\n",
              "      <td>493.578506</td>\n",
              "      <td>551.274806</td>\n",
              "    </tr>\n",
              "    <tr>\n",
              "      <th>iron_conc</th>\n",
              "      <td>66.910000</td>\n",
              "      <td>67.060000</td>\n",
              "      <td>66.970000</td>\n",
              "      <td>66.750000</td>\n",
              "      <td>66.630000</td>\n",
              "    </tr>\n",
              "    <tr>\n",
              "      <th>silica_conc</th>\n",
              "      <td>1.310000</td>\n",
              "      <td>1.110000</td>\n",
              "      <td>1.270000</td>\n",
              "      <td>1.360000</td>\n",
              "      <td>1.340000</td>\n",
              "    </tr>\n",
              "  </tbody>\n",
              "</table>\n",
              "</div>\n",
              "      <button class=\"colab-df-convert\" onclick=\"convertToInteractive('df-8c1c5a71-c042-4a0c-98b5-388e0b62f4dc')\"\n",
              "              title=\"Convert this dataframe to an interactive table.\"\n",
              "              style=\"display:none;\">\n",
              "        \n",
              "  <svg xmlns=\"http://www.w3.org/2000/svg\" height=\"24px\"viewBox=\"0 0 24 24\"\n",
              "       width=\"24px\">\n",
              "    <path d=\"M0 0h24v24H0V0z\" fill=\"none\"/>\n",
              "    <path d=\"M18.56 5.44l.94 2.06.94-2.06 2.06-.94-2.06-.94-.94-2.06-.94 2.06-2.06.94zm-11 1L8.5 8.5l.94-2.06 2.06-.94-2.06-.94L8.5 2.5l-.94 2.06-2.06.94zm10 10l.94 2.06.94-2.06 2.06-.94-2.06-.94-.94-2.06-.94 2.06-2.06.94z\"/><path d=\"M17.41 7.96l-1.37-1.37c-.4-.4-.92-.59-1.43-.59-.52 0-1.04.2-1.43.59L10.3 9.45l-7.72 7.72c-.78.78-.78 2.05 0 2.83L4 21.41c.39.39.9.59 1.41.59.51 0 1.02-.2 1.41-.59l7.78-7.78 2.81-2.81c.8-.78.8-2.07 0-2.86zM5.41 20L4 18.59l7.72-7.72 1.47 1.35L5.41 20z\"/>\n",
              "  </svg>\n",
              "      </button>\n",
              "      \n",
              "  <style>\n",
              "    .colab-df-container {\n",
              "      display:flex;\n",
              "      flex-wrap:wrap;\n",
              "      gap: 12px;\n",
              "    }\n",
              "\n",
              "    .colab-df-convert {\n",
              "      background-color: #E8F0FE;\n",
              "      border: none;\n",
              "      border-radius: 50%;\n",
              "      cursor: pointer;\n",
              "      display: none;\n",
              "      fill: #1967D2;\n",
              "      height: 32px;\n",
              "      padding: 0 0 0 0;\n",
              "      width: 32px;\n",
              "    }\n",
              "\n",
              "    .colab-df-convert:hover {\n",
              "      background-color: #E2EBFA;\n",
              "      box-shadow: 0px 1px 2px rgba(60, 64, 67, 0.3), 0px 1px 3px 1px rgba(60, 64, 67, 0.15);\n",
              "      fill: #174EA6;\n",
              "    }\n",
              "\n",
              "    [theme=dark] .colab-df-convert {\n",
              "      background-color: #3B4455;\n",
              "      fill: #D2E3FC;\n",
              "    }\n",
              "\n",
              "    [theme=dark] .colab-df-convert:hover {\n",
              "      background-color: #434B5C;\n",
              "      box-shadow: 0px 1px 3px 1px rgba(0, 0, 0, 0.15);\n",
              "      filter: drop-shadow(0px 1px 2px rgba(0, 0, 0, 0.3));\n",
              "      fill: #FFFFFF;\n",
              "    }\n",
              "  </style>\n",
              "\n",
              "      <script>\n",
              "        const buttonEl =\n",
              "          document.querySelector('#df-8c1c5a71-c042-4a0c-98b5-388e0b62f4dc button.colab-df-convert');\n",
              "        buttonEl.style.display =\n",
              "          google.colab.kernel.accessAllowed ? 'block' : 'none';\n",
              "\n",
              "        async function convertToInteractive(key) {\n",
              "          const element = document.querySelector('#df-8c1c5a71-c042-4a0c-98b5-388e0b62f4dc');\n",
              "          const dataTable =\n",
              "            await google.colab.kernel.invokeFunction('convertToInteractive',\n",
              "                                                     [key], {});\n",
              "          if (!dataTable) return;\n",
              "\n",
              "          const docLinkHtml = 'Like what you see? Visit the ' +\n",
              "            '<a target=\"_blank\" href=https://colab.research.google.com/notebooks/data_table.ipynb>data table notebook</a>'\n",
              "            + ' to learn more about interactive tables.';\n",
              "          element.innerHTML = '';\n",
              "          dataTable['output_type'] = 'display_data';\n",
              "          await google.colab.output.renderOutput(dataTable, element);\n",
              "          const docLink = document.createElement('div');\n",
              "          docLink.innerHTML = docLinkHtml;\n",
              "          element.appendChild(docLink);\n",
              "        }\n",
              "      </script>\n",
              "    </div>\n",
              "  </div>\n",
              "  "
            ]
          },
          "metadata": {},
          "execution_count": 73
        }
      ],
      "source": [
        "from google.colab import drive\n",
        "drive.mount('/content/drive/')\n",
        "%cd /content/drive/My Drive/Flotation/\n",
        "\n",
        "flotation = pd.read_csv('flotation_corrected.csv')\n",
        "flotation.head().T"
      ]
    },
    {
      "cell_type": "markdown",
      "metadata": {
        "id": "ff8nnt1muDMk"
      },
      "source": [
        "## **5. Machine Learning Models**"
      ]
    },
    {
      "cell_type": "markdown",
      "metadata": {
        "id": "dCrpXC4q2zif"
      },
      "source": [
        "### **5.1. Splitting Dataset**"
      ]
    },
    {
      "cell_type": "markdown",
      "metadata": {
        "id": "i_e8S9p1bWnu"
      },
      "source": [
        "**Split Dataset as X and y**"
      ]
    },
    {
      "cell_type": "code",
      "execution_count": 74,
      "metadata": {
        "colab": {
          "base_uri": "https://localhost:8080/"
        },
        "id": "3vs_5o3badpC",
        "outputId": "0eb9f0e9-6bf6-43d1-ba02-826dfed27ea5"
      },
      "outputs": [
        {
          "output_type": "stream",
          "name": "stdout",
          "text": [
            "Shape of X: (4097, 9)\n",
            "Shape of y_Si: (4097,)\n",
            "Shape of y_Fe: (4097,)\n"
          ]
        }
      ],
      "source": [
        "X = flotation.drop(['silica_conc', 'iron_conc'], axis=1)\n",
        "y_Si = flotation['silica_conc']\n",
        "y_Fe = flotation['iron_conc']\n",
        "\n",
        "print(\"Shape of X:\", X.shape)\n",
        "print(\"Shape of y_Si:\", y_Si.shape)\n",
        "print(\"Shape of y_Fe:\", y_Fe.shape)\n"
      ]
    },
    {
      "cell_type": "markdown",
      "metadata": {
        "id": "Rgv5bKob2Wj6"
      },
      "source": [
        "### **5.2. Models For Silica Concentrate**"
      ]
    },
    {
      "cell_type": "markdown",
      "metadata": {
        "id": "PIAZ3P8Akbfl"
      },
      "source": [
        "**Split into train, validation, and test set**"
      ]
    },
    {
      "cell_type": "code",
      "execution_count": 75,
      "metadata": {
        "colab": {
          "base_uri": "https://localhost:8080/"
        },
        "id": "5qXjqF0SbvnM",
        "outputId": "439b805e-fa12-4c70-e76e-91c94fb4e6ae"
      },
      "outputs": [
        {
          "output_type": "stream",
          "name": "stdout",
          "text": [
            "(3277, 9) (410, 9) (410, 9)\n"
          ]
        }
      ],
      "source": [
        "X_train, X_val, y_train, y_val = train_test_split(X, y_Si, test_size=0.2, random_state=42)\n",
        "X_val, X_test, y_val, y_test = train_test_split(X_val, y_val, test_size=0.5, random_state=42)\n",
        "\n",
        "print(X_train.shape, X_val.shape, X_test.shape)"
      ]
    },
    {
      "cell_type": "markdown",
      "source": [
        "**Pipelines for models**"
      ],
      "metadata": {
        "id": "YW4fRLttJ7R1"
      }
    },
    {
      "cell_type": "code",
      "source": [
        "# Define the models and their corresponding names\n",
        "models = [(LinearRegression(), 'Linear Regression'),\n",
        "          (RandomForestRegressor(), 'Random Forest'),\n",
        "          (xgb.XGBRegressor(), 'XGBoost'),\n",
        "          (AdaBoostRegressor(), 'AdaBoost'),\n",
        "          (SVR(), 'SVM'), (ElasticNet(), 'ElasticNet'),\n",
        "          (DecisionTreeRegressor(), 'Decision Tree')]\n",
        "    \n",
        "# Create an empty list to store the evaluation scores\n",
        "mse_scores = []\n",
        "mae_scores = []\n",
        "r2_scores = []\n",
        "\n",
        "# Iterate over the models\n",
        "for model, model_name in models:\n",
        "    pipeline = Pipeline([\n",
        "        ('scaler', MinMaxScaler()),\n",
        "        ('regressor', model)])\n",
        "    \n",
        "    # Fit the pipeline to the training data\n",
        "    pipeline.fit(X_train, y_train)\n",
        "    \n",
        "    # Predict on the validation data\n",
        "    val_pred = pipeline.predict(X_val)\n",
        "    \n",
        "    # Calculate evaluation metrics\n",
        "    mse = mean_squared_error(y_val, val_pred)\n",
        "    mae = mean_absolute_error(y_val, val_pred)\n",
        "    r2 = r2_score(y_val, val_pred)\n",
        "    \n",
        "    # Append the scores to the lists\n",
        "    mse_scores.append(mse)\n",
        "    mae_scores.append(mae)\n",
        "    r2_scores.append(r2)\n",
        "\n",
        "# Display the evaluation metric scores\n",
        "print(\"Mean Squared Error (MSE):\")\n",
        "for model_name, mse in zip([model_name for _, model_name in models], mse_scores):\n",
        "    print(f\"{model_name}: {mse:.3f}\")\n",
        "\n",
        "print(\"\\nMean Absolute Error (MAE):\")\n",
        "for model_name, mae in zip([model_name for _, model_name in models], mae_scores):\n",
        "    print(f\"{model_name}: {mae:.3f}\")\n",
        "\n",
        "print(\"\\nR-squared (R^2):\")\n",
        "for model_name, r2 in zip([model_name for _, model_name in models], r2_scores):\n",
        "    print(f\"{model_name}: {r2:.3f}\")"
      ],
      "metadata": {
        "colab": {
          "base_uri": "https://localhost:8080/"
        },
        "id": "v40su5GAGp8V",
        "outputId": "8ac48111-e4ba-4215-ef8c-1c2f819b466d"
      },
      "execution_count": 76,
      "outputs": [
        {
          "output_type": "stream",
          "name": "stdout",
          "text": [
            "Mean Squared Error (MSE):\n",
            "Linear Regression: 1.159\n",
            "Random Forest: 0.836\n",
            "XGBoost: 0.894\n",
            "AdaBoost: 1.141\n",
            "SVM: 1.054\n",
            "ElasticNet: 1.264\n",
            "Decision Tree: 1.776\n",
            "\n",
            "Mean Absolute Error (MAE):\n",
            "Linear Regression: 0.862\n",
            "Random Forest: 0.727\n",
            "XGBoost: 0.721\n",
            "AdaBoost: 0.924\n",
            "SVM: 0.781\n",
            "ElasticNet: 0.900\n",
            "Decision Tree: 0.967\n",
            "\n",
            "R-squared (R^2):\n",
            "Linear Regression: 0.076\n",
            "Random Forest: 0.334\n",
            "XGBoost: 0.288\n",
            "AdaBoost: 0.091\n",
            "SVM: 0.161\n",
            "ElasticNet: -0.007\n",
            "Decision Tree: -0.415\n"
          ]
        }
      ]
    },
    {
      "cell_type": "code",
      "source": [
        "# Plot the evaluation metrics\n",
        "r1 = np.arange(len(mse_scores))\n",
        "r2 = [x + bar_width for x in r1]\n",
        "r3 = [x + bar_width for x in r2]\n",
        "\n",
        "bar_width = 0.3\n",
        "plt.figure(figsize=(15, 6))\n",
        "plt.bar(r1, mse_scores, color='b', width=bar_width, edgecolor='black', label='MSE')\n",
        "plt.bar(r2, mae_scores, color='g', width=bar_width, edgecolor='black', label='MAE')\n",
        "plt.bar(r3, r2_scores, color='r', width=bar_width, edgecolor='black', label='R-squared')\n",
        "plt.xlabel('Models', fontsize=12)\n",
        "plt.ylabel('Scores', fontsize=12)\n",
        "plt.xticks([r + bar_width for r in range(len(mse_scores))], [model_name for _, model_name in models])\n",
        "plt.legend(loc='upper center')\n",
        "\n",
        "for i, mse, mae, r2 in zip(range(len(mse_scores)), mse_scores, mae_scores, r2_scores):\n",
        "    plt.text(i - 0.05, mse + 0.01, f'{mse:.3f}', color='black')\n",
        "    plt.text(i + bar_width - 0.05, mae + 0.01, f'{mae:.3f}', color='black')\n",
        "    plt.text(i + 2 * bar_width - 0.05, r2 + 0.01, f'{r2:.3f}', color='black')\n",
        "\n",
        "plt.show()"
      ],
      "metadata": {
        "colab": {
          "base_uri": "https://localhost:8080/",
          "height": 546
        },
        "id": "kgA2vAOfGp8f",
        "outputId": "8880c88c-7410-4cf7-ce58-77c3a73d9c0b"
      },
      "execution_count": 77,
      "outputs": [
        {
          "output_type": "display_data",
          "data": {
            "text/plain": [
              "<Figure size 1500x600 with 1 Axes>"
            ],
            "image/png": "[encoded data removed]"
          },
          "metadata": {}
        }
      ]
    },
    {
      "cell_type": "markdown",
      "source": [
        "**Conclusion for Silica Concentrate Prediction**"
      ],
      "metadata": {
        "id": "gOc6ESdaLkOn"
      }
    },
    {
      "cell_type": "markdown",
      "source": [
        "- Among the models, Random Forest has the lowest mean squared error (MSE) and mean absolute error (MAE), indicating that it performs better in terms of minimizing the prediction errors compared to other models.\n",
        "- XGBoost and SVM also have relatively lower MSE and MAE scores, suggesting good performance in terms of accuracy.\n",
        "- Linear Regression, AdaBoost, and ElasticNet have higher MSE and MAE scores compared to the other models, indicating higher prediction errors.\n",
        "- When it comes to R-squared (R^2), Random Forest shows the highest value, followed by XGBoost and SVM. These models explain a larger portion of the variance in the target variable compared to other models.\n",
        "- Linear Regression, AdaBoost, ElasticNet, and Decision Tree have lower R-squared values, indicating that they have less explanatory power in capturing the relationships in the data.\n",
        "\n",
        "- Considering these results, **Random Forest and XGBoost appear to be the top-performing models in terms of overall accuracy and predictive power**."
      ],
      "metadata": {
        "id": "mBsQp6MvLTy0"
      }
    },
    {
      "cell_type": "markdown",
      "source": [
        "### **5.2. Models For Iron Concentrate**"
      ],
      "metadata": {
        "id": "UWdj_aIYAovd"
      }
    },
    {
      "cell_type": "markdown",
      "metadata": {
        "id": "DNHOlmWdBUc9"
      },
      "source": [
        "**Split into train, validation, and test set**"
      ]
    },
    {
      "cell_type": "code",
      "execution_count": 78,
      "metadata": {
        "colab": {
          "base_uri": "https://localhost:8080/"
        },
        "outputId": "8b78aa15-8a05-45d1-8b7c-329469662e5d",
        "id": "kL6-mAdfBUc9"
      },
      "outputs": [
        {
          "output_type": "stream",
          "name": "stdout",
          "text": [
            "(3277, 9) (410, 9) (410, 9)\n"
          ]
        }
      ],
      "source": [
        "X_train, X_val, y_train, y_val = train_test_split(X, y_Fe, test_size=0.2, random_state=42)\n",
        "X_val, X_test, y_val, y_test = train_test_split(X_val, y_val, test_size=0.5, random_state=42)\n",
        "\n",
        "print(X_train.shape, X_val.shape, X_test.shape)"
      ]
    },
    {
      "cell_type": "markdown",
      "source": [
        "**Pipelines for models**"
      ],
      "metadata": {
        "id": "g0TT4YtgKa6x"
      }
    },
    {
      "cell_type": "code",
      "source": [
        "# Define the models and their corresponding names\n",
        "models = [(LinearRegression(), 'Linear Regression'),\n",
        "          (RandomForestRegressor(), 'Random Forest'),\n",
        "          (xgb.XGBRegressor(), 'XGBoost'),\n",
        "          (AdaBoostRegressor(), 'AdaBoost'),\n",
        "          (SVR(), 'SVM'), (ElasticNet(), 'ElasticNet'),\n",
        "          (DecisionTreeRegressor(), 'Decision Tree')]\n",
        "    \n",
        "# Create an empty list to store the evaluation scores\n",
        "mse_scores = []\n",
        "mae_scores = []\n",
        "r2_scores = []\n",
        "\n",
        "# Iterate over the models\n",
        "for model, model_name in models:\n",
        "    pipeline = Pipeline([\n",
        "        ('scaler', MinMaxScaler()),\n",
        "        ('regressor', model)])\n",
        "    \n",
        "    # Fit the pipeline to the training data\n",
        "    pipeline.fit(X_train, y_train)\n",
        "    \n",
        "    # Predict on the validation data\n",
        "    val_pred = pipeline.predict(X_val)\n",
        "    \n",
        "    # Calculate evaluation metrics\n",
        "    mse = mean_squared_error(y_val, val_pred)\n",
        "    mae = mean_absolute_error(y_val, val_pred)\n",
        "    r2 = r2_score(y_val, val_pred)\n",
        "    \n",
        "    # Append the scores to the lists\n",
        "    mse_scores.append(mse)\n",
        "    mae_scores.append(mae)\n",
        "    r2_scores.append(r2)\n",
        "\n",
        "# Display the evaluation metric scores\n",
        "print(\"Mean Squared Error (MSE):\")\n",
        "for model_name, mse in zip([model_name for _, model_name in models], mse_scores):\n",
        "    print(f\"{model_name}: {mse:.3f}\")\n",
        "\n",
        "print(\"\\nMean Absolute Error (MAE):\")\n",
        "for model_name, mae in zip([model_name for _, model_name in models], mae_scores):\n",
        "    print(f\"{model_name}: {mae:.3f}\")\n",
        "\n",
        "print(\"\\nR-squared (R^2):\")\n",
        "for model_name, r2 in zip([model_name for _, model_name in models], r2_scores):\n",
        "    print(f\"{model_name}: {r2:.3f}\")"
      ],
      "metadata": {
        "colab": {
          "base_uri": "https://localhost:8080/"
        },
        "id": "KFVorafGKa67",
        "outputId": "f3c4e3d4-c991-4099-eca8-1c229fa12cc8"
      },
      "execution_count": 79,
      "outputs": [
        {
          "output_type": "stream",
          "name": "stdout",
          "text": [
            "Mean Squared Error (MSE):\n",
            "Linear Regression: 1.063\n",
            "Random Forest: 0.823\n",
            "XGBoost: 0.793\n",
            "AdaBoost: 1.020\n",
            "SVM: 0.965\n",
            "ElasticNet: 1.148\n",
            "Decision Tree: 1.752\n",
            "\n",
            "Mean Absolute Error (MAE):\n",
            "Linear Regression: 0.833\n",
            "Random Forest: 0.713\n",
            "XGBoost: 0.684\n",
            "AdaBoost: 0.825\n",
            "SVM: 0.764\n",
            "ElasticNet: 0.850\n",
            "Decision Tree: 0.986\n",
            "\n",
            "R-squared (R^2):\n",
            "Linear Regression: 0.074\n",
            "Random Forest: 0.283\n",
            "XGBoost: 0.309\n",
            "AdaBoost: 0.111\n",
            "SVM: 0.159\n",
            "ElasticNet: -0.001\n",
            "Decision Tree: -0.527\n"
          ]
        }
      ]
    },
    {
      "cell_type": "code",
      "source": [
        "# Plot the evaluation metrics\n",
        "r1 = np.arange(len(mse_scores))\n",
        "r2 = [x + bar_width for x in r1]\n",
        "r3 = [x + bar_width for x in r2]\n",
        "\n",
        "bar_width = 0.3\n",
        "plt.figure(figsize=(15, 6))\n",
        "plt.bar(r1, mse_scores, color='b', width=bar_width, edgecolor='black', label='MSE')\n",
        "plt.bar(r2, mae_scores, color='g', width=bar_width, edgecolor='black', label='MAE')\n",
        "plt.bar(r3, r2_scores, color='r', width=bar_width, edgecolor='black', label='R-squared')\n",
        "plt.xlabel('Models', fontsize=12)\n",
        "plt.ylabel('Scores', fontsize=12)\n",
        "plt.xticks([r + bar_width for r in range(len(mse_scores))], [model_name for _, model_name in models])\n",
        "plt.legend(loc='upper center')\n",
        "\n",
        "for i, mse, mae, r2 in zip(range(len(mse_scores)), mse_scores, mae_scores, r2_scores):\n",
        "    plt.text(i - 0.05, mse + 0.01, f'{mse:.3f}', color='black')\n",
        "    plt.text(i + bar_width - 0.05, mae + 0.01, f'{mae:.3f}', color='black')\n",
        "    plt.text(i + 2 * bar_width - 0.05, r2 + 0.01, f'{r2:.3f}', color='black')\n",
        "\n",
        "plt.show()"
      ],
      "metadata": {
        "colab": {
          "base_uri": "https://localhost:8080/",
          "height": 546
        },
        "id": "dFdEzGsAKa67",
        "outputId": "b0963495-c43a-4e75-f803-c8c05945575f"
      },
      "execution_count": 80,
      "outputs": [
        {
          "output_type": "display_data",
          "data": {
            "text/plain": [
              "<Figure size 1500x600 with 1 Axes>"
            ],
            "image/png": "[encoded data removed]"
          },
          "metadata": {}
        }
      ]
    },
    {
      "cell_type": "markdown",
      "source": [
        "**Conclusion for Iron Concentrate Prediction**"
      ],
      "metadata": {
        "id": "bKP7qoQbLz62"
      }
    },
    {
      "cell_type": "markdown",
      "source": [
        "- Random Forest continues to have the lowest mean squared error (MSE) and mean absolute error (MAE) among the models, indicating its superior performance in minimizing prediction errors.\n",
        "- XGBoost also shows low MSE and MAE scores, indicating good accuracy in its predictions.\n",
        "- Linear Regression, AdaBoost, SVM, ElasticNet, and Decision Tree models have higher MSE and MAE scores compared to Random Forest and XGBoost, suggesting higher prediction errors in these models.\n",
        "- In terms of R-squared (R^2), Random Forest still has the highest value, followed by XGBoost and SVM. These models explain a larger portion of the variance in the target variable compared to other models.\n",
        "- Linear Regression, AdaBoost, ElasticNet, and Decision Tree have lower R-squared values, indicating less ability to capture the relationships in the data and explain the variance.\n",
        "- Considering these results, **Random Forest and XGBoost remain as the top-performing models**, exhibiting good accuracy and predictive power. It's worth noting that the Decision Tree model performs relatively poorly compared to the other models in terms of all evaluation metrics."
      ],
      "metadata": {
        "id": "Jb9SJr1BLz6-"
      }
    }
  ],
  "metadata": {
    "accelerator": "GPU",
    "colab": {
      "provenance": [],
      "authorship_tag": "ABX9TyO4xStN8dvmR4HpWuaAXYtx",
      "include_colab_link": true
    },
    "gpuClass": "standard",
    "kernelspec": {
      "display_name": "Python 3",
      "name": "python3"
    },
    "language_info": {
      "name": "python"
    }
  },
  "nbformat": 4,
  "nbformat_minor": 0
}