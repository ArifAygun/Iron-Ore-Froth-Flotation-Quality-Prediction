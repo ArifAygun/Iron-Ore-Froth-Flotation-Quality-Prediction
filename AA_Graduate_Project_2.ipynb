{
  "cells": [
    {
      "cell_type": "markdown",
      "metadata": {
        "id": "view-in-github",
        "colab_type": "text"
      },
      "source": [
        "<a href=\"https://colab.research.google.com/github/ArifAygun/Iron-Ore-Froth-Flotation-Quality-Prediction/blob/main/AA_Graduate_Project_2.ipynb\" target=\"_parent\"><img src=\"https://colab.research.google.com/assets/colab-badge.svg\" alt=\"Open In Colab\"/></a>"
      ]
    },
    {
      "cell_type": "markdown",
      "metadata": {
        "id": "I99UP0oywvLl"
      },
      "source": [
        "# **Quality Prediction of Iron Ore Mining Flotation Process - Part:2**"
      ]
    },
    {
      "cell_type": "markdown",
      "metadata": {
        "id": "in9eB0oan8I8"
      },
      "source": [
        "### **Import Libraries and Modules**"
      ]
    },
    {
      "cell_type": "code",
      "execution_count": 141,
      "metadata": {
        "id": "ZWQKrdQ173zL"
      },
      "outputs": [],
      "source": [
        "import pandas as pd\n",
        "import numpy as np\n",
        "import seaborn as sns\n",
        "import matplotlib.pyplot as plt\n",
        "import statsmodels.api as sm\n",
        "import math\n",
        "import random\n",
        "import xgboost as xgb\n",
        "from sklearn.model_selection import train_test_split, KFold\n",
        "from sklearn.model_selection import cross_val_predict, cross_val_score\n",
        "from sklearn.linear_model import LinearRegression, ElasticNet\n",
        "from sklearn.metrics import mean_squared_error, mean_absolute_error, r2_score\n",
        "from sklearn.ensemble import RandomForestRegressor, AdaBoostRegressor\n",
        "from sklearn.preprocessing import StandardScaler, MinMaxScaler\n",
        "from sklearn.svm import SVR\n",
        "from sklearn.tree import DecisionTreeRegressor\n",
        "from sklearn.pipeline import Pipeline\n",
        "sns.set_theme(color_codes=True)"
      ]
    },
    {
      "cell_type": "markdown",
      "metadata": {
        "id": "Zg8iajc2xFrX"
      },
      "source": [
        "### **Import Dataset**"
      ]
    },
    {
      "cell_type": "code",
      "execution_count": 142,
      "metadata": {
        "id": "z6oIXclZ3LNo",
        "colab": {
          "base_uri": "https://localhost:8080/",
          "height": 241
        },
        "outputId": "b167065d-3e52-4897-ecd7-5f9c862a519b"
      },
      "outputs": [
        {
          "output_type": "stream",
          "name": "stdout",
          "text": [
            "Drive already mounted at /content/drive/; to attempt to forcibly remount, call drive.mount(\"/content/drive/\", force_remount=True).\n",
            "/content/drive/My Drive/Flotation\n"
          ]
        },
        {
          "output_type": "execute_result",
          "data": {
            "text/plain": [
              "      iron_feed  silica_feed  starch_flow  amina_flow  pulp_flow   pulp_pH  \\\n",
              "104       60.24     3.261112   354.443872  300.677748   4.492558  0.244900   \n",
              "658       56.95     4.177352   354.013050  310.255349   4.174049  0.840656   \n",
              "3198      57.46     3.723781   336.391894   68.589054   0.000000  1.359036   \n",
              "1760      64.03     2.514573   301.315078  161.046556   3.164795  1.373574   \n",
              "2501      50.70     5.795001   383.903122  156.233400   6.137420  1.698926   \n",
              "\n",
              "      pulp_density    airflow      level  iron_conc  silica_conc  \n",
              "104       0.283957   8.601848  14.946837   5.705554     0.263538  \n",
              "658       0.236110   8.244590  16.025316   0.961472     1.021776  \n",
              "3198      0.079567  75.257659   9.312297   5.182192     0.646836  \n",
              "1760      0.092899  45.712191  19.495115   6.612035     0.352574  \n",
              "2501      0.000000  55.854285  13.077541   4.468061     0.403825  "
            ],
            "text/html": [
              "\n",
              "  <div id=\"df-202d3c05-0fb3-44c9-8679-9c69ac292dde\">\n",
              "    <div class=\"colab-df-container\">\n",
              "      <div>\n",
              "<style scoped>\n",
              "    .dataframe tbody tr th:only-of-type {\n",
              "        vertical-align: middle;\n",
              "    }\n",
              "\n",
              "    .dataframe tbody tr th {\n",
              "        vertical-align: top;\n",
              "    }\n",
              "\n",
              "    .dataframe thead th {\n",
              "        text-align: right;\n",
              "    }\n",
              "</style>\n",
              "<table border=\"1\" class=\"dataframe\">\n",
              "  <thead>\n",
              "    <tr style=\"text-align: right;\">\n",
              "      <th></th>\n",
              "      <th>iron_feed</th>\n",
              "      <th>silica_feed</th>\n",
              "      <th>starch_flow</th>\n",
              "      <th>amina_flow</th>\n",
              "      <th>pulp_flow</th>\n",
              "      <th>pulp_pH</th>\n",
              "      <th>pulp_density</th>\n",
              "      <th>airflow</th>\n",
              "      <th>level</th>\n",
              "      <th>iron_conc</th>\n",
              "      <th>silica_conc</th>\n",
              "    </tr>\n",
              "  </thead>\n",
              "  <tbody>\n",
              "    <tr>\n",
              "      <th>104</th>\n",
              "      <td>60.24</td>\n",
              "      <td>3.261112</td>\n",
              "      <td>354.443872</td>\n",
              "      <td>300.677748</td>\n",
              "      <td>4.492558</td>\n",
              "      <td>0.244900</td>\n",
              "      <td>0.283957</td>\n",
              "      <td>8.601848</td>\n",
              "      <td>14.946837</td>\n",
              "      <td>5.705554</td>\n",
              "      <td>0.263538</td>\n",
              "    </tr>\n",
              "    <tr>\n",
              "      <th>658</th>\n",
              "      <td>56.95</td>\n",
              "      <td>4.177352</td>\n",
              "      <td>354.013050</td>\n",
              "      <td>310.255349</td>\n",
              "      <td>4.174049</td>\n",
              "      <td>0.840656</td>\n",
              "      <td>0.236110</td>\n",
              "      <td>8.244590</td>\n",
              "      <td>16.025316</td>\n",
              "      <td>0.961472</td>\n",
              "      <td>1.021776</td>\n",
              "    </tr>\n",
              "    <tr>\n",
              "      <th>3198</th>\n",
              "      <td>57.46</td>\n",
              "      <td>3.723781</td>\n",
              "      <td>336.391894</td>\n",
              "      <td>68.589054</td>\n",
              "      <td>0.000000</td>\n",
              "      <td>1.359036</td>\n",
              "      <td>0.079567</td>\n",
              "      <td>75.257659</td>\n",
              "      <td>9.312297</td>\n",
              "      <td>5.182192</td>\n",
              "      <td>0.646836</td>\n",
              "    </tr>\n",
              "    <tr>\n",
              "      <th>1760</th>\n",
              "      <td>64.03</td>\n",
              "      <td>2.514573</td>\n",
              "      <td>301.315078</td>\n",
              "      <td>161.046556</td>\n",
              "      <td>3.164795</td>\n",
              "      <td>1.373574</td>\n",
              "      <td>0.092899</td>\n",
              "      <td>45.712191</td>\n",
              "      <td>19.495115</td>\n",
              "      <td>6.612035</td>\n",
              "      <td>0.352574</td>\n",
              "    </tr>\n",
              "    <tr>\n",
              "      <th>2501</th>\n",
              "      <td>50.70</td>\n",
              "      <td>5.795001</td>\n",
              "      <td>383.903122</td>\n",
              "      <td>156.233400</td>\n",
              "      <td>6.137420</td>\n",
              "      <td>1.698926</td>\n",
              "      <td>0.000000</td>\n",
              "      <td>55.854285</td>\n",
              "      <td>13.077541</td>\n",
              "      <td>4.468061</td>\n",
              "      <td>0.403825</td>\n",
              "    </tr>\n",
              "  </tbody>\n",
              "</table>\n",
              "</div>\n",
              "      <button class=\"colab-df-convert\" onclick=\"convertToInteractive('df-202d3c05-0fb3-44c9-8679-9c69ac292dde')\"\n",
              "              title=\"Convert this dataframe to an interactive table.\"\n",
              "              style=\"display:none;\">\n",
              "        \n",
              "  <svg xmlns=\"http://www.w3.org/2000/svg\" height=\"24px\"viewBox=\"0 0 24 24\"\n",
              "       width=\"24px\">\n",
              "    <path d=\"M0 0h24v24H0V0z\" fill=\"none\"/>\n",
              "    <path d=\"M18.56 5.44l.94 2.06.94-2.06 2.06-.94-2.06-.94-.94-2.06-.94 2.06-2.06.94zm-11 1L8.5 8.5l.94-2.06 2.06-.94-2.06-.94L8.5 2.5l-.94 2.06-2.06.94zm10 10l.94 2.06.94-2.06 2.06-.94-2.06-.94-.94-2.06-.94 2.06-2.06.94z\"/><path d=\"M17.41 7.96l-1.37-1.37c-.4-.4-.92-.59-1.43-.59-.52 0-1.04.2-1.43.59L10.3 9.45l-7.72 7.72c-.78.78-.78 2.05 0 2.83L4 21.41c.39.39.9.59 1.41.59.51 0 1.02-.2 1.41-.59l7.78-7.78 2.81-2.81c.8-.78.8-2.07 0-2.86zM5.41 20L4 18.59l7.72-7.72 1.47 1.35L5.41 20z\"/>\n",
              "  </svg>\n",
              "      </button>\n",
              "      \n",
              "  <style>\n",
              "    .colab-df-container {\n",
              "      display:flex;\n",
              "      flex-wrap:wrap;\n",
              "      gap: 12px;\n",
              "    }\n",
              "\n",
              "    .colab-df-convert {\n",
              "      background-color: #E8F0FE;\n",
              "      border: none;\n",
              "      border-radius: 50%;\n",
              "      cursor: pointer;\n",
              "      display: none;\n",
              "      fill: #1967D2;\n",
              "      height: 32px;\n",
              "      padding: 0 0 0 0;\n",
              "      width: 32px;\n",
              "    }\n",
              "\n",
              "    .colab-df-convert:hover {\n",
              "      background-color: #E2EBFA;\n",
              "      box-shadow: 0px 1px 2px rgba(60, 64, 67, 0.3), 0px 1px 3px 1px rgba(60, 64, 67, 0.15);\n",
              "      fill: #174EA6;\n",
              "    }\n",
              "\n",
              "    [theme=dark] .colab-df-convert {\n",
              "      background-color: #3B4455;\n",
              "      fill: #D2E3FC;\n",
              "    }\n",
              "\n",
              "    [theme=dark] .colab-df-convert:hover {\n",
              "      background-color: #434B5C;\n",
              "      box-shadow: 0px 1px 3px 1px rgba(0, 0, 0, 0.15);\n",
              "      filter: drop-shadow(0px 1px 2px rgba(0, 0, 0, 0.3));\n",
              "      fill: #FFFFFF;\n",
              "    }\n",
              "  </style>\n",
              "\n",
              "      <script>\n",
              "        const buttonEl =\n",
              "          document.querySelector('#df-202d3c05-0fb3-44c9-8679-9c69ac292dde button.colab-df-convert');\n",
              "        buttonEl.style.display =\n",
              "          google.colab.kernel.accessAllowed ? 'block' : 'none';\n",
              "\n",
              "        async function convertToInteractive(key) {\n",
              "          const element = document.querySelector('#df-202d3c05-0fb3-44c9-8679-9c69ac292dde');\n",
              "          const dataTable =\n",
              "            await google.colab.kernel.invokeFunction('convertToInteractive',\n",
              "                                                     [key], {});\n",
              "          if (!dataTable) return;\n",
              "\n",
              "          const docLinkHtml = 'Like what you see? Visit the ' +\n",
              "            '<a target=\"_blank\" href=https://colab.research.google.com/notebooks/data_table.ipynb>data table notebook</a>'\n",
              "            + ' to learn more about interactive tables.';\n",
              "          element.innerHTML = '';\n",
              "          dataTable['output_type'] = 'display_data';\n",
              "          await google.colab.output.renderOutput(dataTable, element);\n",
              "          const docLink = document.createElement('div');\n",
              "          docLink.innerHTML = docLinkHtml;\n",
              "          element.appendChild(docLink);\n",
              "        }\n",
              "      </script>\n",
              "    </div>\n",
              "  </div>\n",
              "  "
            ]
          },
          "metadata": {},
          "execution_count": 142
        }
      ],
      "source": [
        "from google.colab import drive\n",
        "drive.mount('/content/drive/')\n",
        "%cd /content/drive/My Drive/Flotation/\n",
        "\n",
        "flotation = pd.read_csv('flotation_corrected.csv')\n",
        "flotation.sample(5)"
      ]
    },
    {
      "cell_type": "markdown",
      "metadata": {
        "id": "ff8nnt1muDMk"
      },
      "source": [
        "## **5. Machine Learning Models**"
      ]
    },
    {
      "cell_type": "markdown",
      "metadata": {
        "id": "dCrpXC4q2zif"
      },
      "source": [
        "### **5.1. Splitting Dataset**"
      ]
    },
    {
      "cell_type": "markdown",
      "metadata": {
        "id": "i_e8S9p1bWnu"
      },
      "source": [
        "**Split Dataset as X and y**"
      ]
    },
    {
      "cell_type": "code",
      "execution_count": 143,
      "metadata": {
        "colab": {
          "base_uri": "https://localhost:8080/"
        },
        "id": "3vs_5o3badpC",
        "outputId": "1452a2e4-0fdb-468f-a59a-263acf205fa7"
      },
      "outputs": [
        {
          "output_type": "stream",
          "name": "stdout",
          "text": [
            "Shape of X: (4097, 9)\n",
            "Shape of y_Si: (4097,)\n",
            "Shape of y_Fe: (4097,)\n"
          ]
        }
      ],
      "source": [
        "X = flotation.drop(['silica_conc', 'iron_conc'], axis=1)\n",
        "y_Si = flotation['silica_conc']\n",
        "y_Fe = flotation['iron_conc']\n",
        "\n",
        "print(\"Shape of X:\", X.shape)\n",
        "print(\"Shape of y_Si:\", y_Si.shape)\n",
        "print(\"Shape of y_Fe:\", y_Fe.shape)\n"
      ]
    },
    {
      "cell_type": "markdown",
      "metadata": {
        "id": "Rgv5bKob2Wj6"
      },
      "source": [
        "### **5.2. Models For Silica Concentrate**"
      ]
    },
    {
      "cell_type": "markdown",
      "metadata": {
        "id": "PIAZ3P8Akbfl"
      },
      "source": [
        "**Split into train, validation, and test set**"
      ]
    },
    {
      "cell_type": "code",
      "execution_count": 144,
      "metadata": {
        "colab": {
          "base_uri": "https://localhost:8080/"
        },
        "id": "5qXjqF0SbvnM",
        "outputId": "86bdda46-4eff-4509-8bd8-6fbb71287669"
      },
      "outputs": [
        {
          "output_type": "stream",
          "name": "stdout",
          "text": [
            "(3277, 9) (410, 9) (410, 9)\n"
          ]
        }
      ],
      "source": [
        "X_train, X_val, y_train, y_val = train_test_split(X, y_Si, test_size=0.2, random_state=42)\n",
        "X_val, X_test, y_val, y_test = train_test_split(X_val, y_val, test_size=0.5, random_state=42)\n",
        "\n",
        "print(X_train.shape, X_val.shape, X_test.shape)"
      ]
    },
    {
      "cell_type": "markdown",
      "source": [
        "**Pipelines for models**"
      ],
      "metadata": {
        "id": "YW4fRLttJ7R1"
      }
    },
    {
      "cell_type": "code",
      "source": [
        "# Define the models and their corresponding names\n",
        "models = [(LinearRegression(), 'Linear Regression'),\n",
        "          (RandomForestRegressor(), 'Random Forest'),\n",
        "          (xgb.XGBRegressor(), 'XGBoost'),\n",
        "          (AdaBoostRegressor(), 'AdaBoost'),\n",
        "          (SVR(), 'SVM'), (ElasticNet(), 'ElasticNet'),\n",
        "          (DecisionTreeRegressor(), 'Decision Tree')]\n",
        "    \n",
        "# Create an empty list to store the evaluation scores\n",
        "mse_scores = []\n",
        "mae_scores = []\n",
        "r2_scores = []\n",
        "\n",
        "# Iterate over the models\n",
        "for model, model_name in models:\n",
        "    pipeline = Pipeline([\n",
        "        ('scaler', StandardScaler()),\n",
        "        ('regressor', model)])\n",
        "    \n",
        "    # Fit the pipeline to the training data\n",
        "    pipeline.fit(X_train, y_train)\n",
        "    \n",
        "    # Predict on the validation data\n",
        "    val_pred = pipeline.predict(X_val)\n",
        "    \n",
        "    # Calculate evaluation metrics\n",
        "    mse = mean_squared_error(y_val, val_pred)\n",
        "    mae = mean_absolute_error(y_val, val_pred)\n",
        "    r2 = r2_score(y_val, val_pred)\n",
        "    \n",
        "    # Append the scores to the lists\n",
        "    mse_scores.append(mse)\n",
        "    mae_scores.append(mae)\n",
        "    r2_scores.append(r2)\n",
        "\n",
        "# Write the evaluation metric scores\n",
        "metrics = [(\"Mean Squared Error (MSE)\", mse_scores), \n",
        "           (\"Mean Absolute Error (MAE)\", mae_scores), \n",
        "            (\"R-squared (R^2)\", r2_scores)]\n",
        "\n",
        "for metric_name, scores in metrics:\n",
        "    print(metric_name)\n",
        "    for model_name, score in zip([model_name for _, \n",
        "                                  model_name in models], \n",
        "                                  scores):\n",
        "        print(f\"{model_name}: {score:.3f}\")\n",
        "    print()"
      ],
      "metadata": {
        "colab": {
          "base_uri": "https://localhost:8080/"
        },
        "id": "v40su5GAGp8V",
        "outputId": "2e663f49-4cdf-4c0a-89f4-92dc5b8bf12b"
      },
      "execution_count": 145,
      "outputs": [
        {
          "output_type": "stream",
          "name": "stdout",
          "text": [
            "Mean Squared Error (MSE)\n",
            "Linear Regression: 0.102\n",
            "Random Forest: 0.074\n",
            "XGBoost: 0.077\n",
            "AdaBoost: 0.095\n",
            "SVM: 0.084\n",
            "ElasticNet: 0.110\n",
            "Decision Tree: 0.147\n",
            "\n",
            "Mean Absolute Error (MAE)\n",
            "Linear Regression: 0.266\n",
            "Random Forest: 0.225\n",
            "XGBoost: 0.224\n",
            "AdaBoost: 0.260\n",
            "SVM: 0.234\n",
            "ElasticNet: 0.275\n",
            "Decision Tree: 0.300\n",
            "\n",
            "R-squared (R^2)\n",
            "Linear Regression: 0.064\n",
            "Random Forest: 0.315\n",
            "XGBoost: 0.287\n",
            "AdaBoost: 0.124\n",
            "SVM: 0.224\n",
            "ElasticNet: -0.010\n",
            "Decision Tree: -0.355\n",
            "\n"
          ]
        }
      ]
    },
    {
      "cell_type": "code",
      "source": [
        "# Plot the evaluation metrics\n",
        "bar_width = 0.3\n",
        "r1 = np.arange(len(mse_scores))\n",
        "r2 = [x + bar_width for x in r1]\n",
        "r3 = [x + bar_width for x in r2]\n",
        "\n",
        "plt.figure(figsize=(15, 6))\n",
        "plt.bar(r1, mse_scores, color='b', width=bar_width, edgecolor='black', label='MSE')\n",
        "plt.bar(r2, mae_scores, color='g', width=bar_width, edgecolor='black', label='MAE')\n",
        "plt.bar(r3, r2_scores, color='r', width=bar_width, edgecolor='black', label='R-squared')\n",
        "plt.xlabel('Models', fontsize=12)\n",
        "plt.ylabel('Scores', fontsize=12)\n",
        "plt.xticks([r + bar_width for r in range(len(mse_scores))], [model_name for _, model_name in models])\n",
        "plt.legend(loc='lower left')\n",
        "\n",
        "for i, mse, mae, r2 in zip(range(len(mse_scores)), mse_scores, mae_scores, r2_scores):\n",
        "    plt.text(i - 0.05, mse + 0.01, f'{mse:.3f}', color='black')\n",
        "    plt.text(i + bar_width - 0.05, mae + 0.01, f'{mae:.3f}', color='black')\n",
        "    plt.text(i + 2 * bar_width - 0.05, r2 + 0.01, f'{r2:.3f}', color='black')\n",
        "\n",
        "plt.show()"
      ],
      "metadata": {
        "colab": {
          "base_uri": "https://localhost:8080/",
          "height": 550
        },
        "id": "kgA2vAOfGp8f",
        "outputId": "037b6986-7b13-4f37-c32c-d86425752bce"
      },
      "execution_count": 146,
      "outputs": [
        {
          "output_type": "display_data",
          "data": {
            "text/plain": [
              "<Figure size 1500x600 with 1 Axes>"
            ],
            "image/png": "[encoded data removed]"
          },
          "metadata": {}
        }
      ]
    },
    {
      "cell_type": "markdown",
      "source": [
        "**Discussion for Silica Concentrate Prediction**"
      ],
      "metadata": {
        "id": "gOc6ESdaLkOn"
      }
    },
    {
      "cell_type": "markdown",
      "source": [
        "The Random Forest model achieves the lowest Mean Squared Error (MSE) of 0.074, indicating that its predictions have the smallest squared differences from the actual values on average. It also obtains the lowest Mean Absolute Error (MAE) of 0.225, indicating the smallest average absolute differences between its predictions and the actual values. Moreover, it exhibits the highest R-squared (R^2) value of 0.315, indicating that it explains a larger portion of the variance in the data compared to the other models.\n",
        "\n",
        "XGBoost model performs exceptionally well with a low MSE of 0.077, a low MAE of 0.224, and a high R^2 of 0.287. These metrics demonstrate its accuracy, precision, and ability to capture the underlying patterns in the data.\n",
        "\n",
        "Linear Regression, AdaBoost, SVM, ElasticNet, and Decision Tree models also achieve relatively lower MSE and MAE values compared to the other models, they exhibit lower R^2 values. This suggests that they explain less of the variance in the data and may not capture the underlying relationships as effectively.\n",
        "\n",
        "Both the Random Forest and XGBoost models are strong choices for this dataset, as they consistently outperform the other models in terms of accuracy, precision, and variance explanation."
      ],
      "metadata": {
        "id": "mBsQp6MvLTy0"
      }
    },
    {
      "cell_type": "markdown",
      "source": [
        "### **5.2. Models For Iron Concentrate**"
      ],
      "metadata": {
        "id": "UWdj_aIYAovd"
      }
    },
    {
      "cell_type": "markdown",
      "metadata": {
        "id": "DNHOlmWdBUc9"
      },
      "source": [
        "**Split into train, validation, and test set**"
      ]
    },
    {
      "cell_type": "code",
      "execution_count": 147,
      "metadata": {
        "id": "kL6-mAdfBUc9",
        "colab": {
          "base_uri": "https://localhost:8080/"
        },
        "outputId": "4317b768-1911-47d8-84ae-eedf6ae12061"
      },
      "outputs": [
        {
          "output_type": "stream",
          "name": "stdout",
          "text": [
            "(3277, 9) (410, 9) (410, 9)\n"
          ]
        }
      ],
      "source": [
        "X_train, X_val, y_train, y_val = train_test_split(X, y_Fe, test_size=0.2, random_state=42)\n",
        "X_val, X_test, y_val, y_test = train_test_split(X_val, y_val, test_size=0.5, random_state=42)\n",
        "\n",
        "print(X_train.shape, X_val.shape, X_test.shape)"
      ]
    },
    {
      "cell_type": "markdown",
      "source": [
        "**Pipelines for models**"
      ],
      "metadata": {
        "id": "g0TT4YtgKa6x"
      }
    },
    {
      "cell_type": "code",
      "source": [
        "# Define the models and their corresponding names\n",
        "models = [(LinearRegression(), 'Linear Regression'),\n",
        "          (RandomForestRegressor(), 'Random Forest'),\n",
        "          (xgb.XGBRegressor(), 'XGBoost'),\n",
        "          (AdaBoostRegressor(), 'AdaBoost'),\n",
        "          (SVR(), 'SVM'), (ElasticNet(), 'ElasticNet'),\n",
        "          (DecisionTreeRegressor(), 'Decision Tree')]\n",
        "    \n",
        "# Create an empty list to store the evaluation scores\n",
        "mse_scores = []\n",
        "mae_scores = []\n",
        "r2_scores = []\n",
        "\n",
        "# Iterate over the models\n",
        "for model, model_name in models:\n",
        "    pipeline = Pipeline([\n",
        "        ('scaler', StandardScaler()),\n",
        "        ('regressor', model)])\n",
        "    \n",
        "    # Fit the pipeline to the training data\n",
        "    pipeline.fit(X_train, y_train)\n",
        "    \n",
        "    # Predict on the validation data\n",
        "    val_pred = pipeline.predict(X_val)\n",
        "    \n",
        "    # Calculate evaluation metrics\n",
        "    mse = mean_squared_error(y_val, val_pred)\n",
        "    mae = mean_absolute_error(y_val, val_pred)\n",
        "    r2 = r2_score(y_val, val_pred)\n",
        "    \n",
        "    # Append the scores to the lists\n",
        "    mse_scores.append(mse)\n",
        "    mae_scores.append(mae)\n",
        "    r2_scores.append(r2)\n",
        "\n",
        "# Write the evaluation metric scores\n",
        "metrics = [(\"Mean Squared Error (MSE)\", mse_scores), \n",
        "           (\"Mean Absolute Error (MAE)\", mae_scores), \n",
        "            (\"R-squared (R^2)\", r2_scores)]\n",
        "\n",
        "for metric_name, scores in metrics:\n",
        "    print(metric_name)\n",
        "    for model_name, score in zip([model_name for _, \n",
        "                                  model_name in models], \n",
        "                                  scores):\n",
        "        print(f\"{model_name}: {score:.3f}\")\n",
        "    print()"
      ],
      "metadata": {
        "id": "KFVorafGKa67",
        "colab": {
          "base_uri": "https://localhost:8080/"
        },
        "outputId": "ba6416e8-1caf-46b0-b75a-75727b5e5542"
      },
      "execution_count": 148,
      "outputs": [
        {
          "output_type": "stream",
          "name": "stdout",
          "text": [
            "Mean Squared Error (MSE)\n",
            "Linear Regression: 4.031\n",
            "Random Forest: 3.066\n",
            "XGBoost: 3.113\n",
            "AdaBoost: 3.900\n",
            "SVM: 3.651\n",
            "ElasticNet: 4.361\n",
            "Decision Tree: 6.348\n",
            "\n",
            "Mean Absolute Error (MAE)\n",
            "Linear Regression: 1.640\n",
            "Random Forest: 1.376\n",
            "XGBoost: 1.409\n",
            "AdaBoost: 1.609\n",
            "SVM: 1.516\n",
            "ElasticNet: 1.681\n",
            "Decision Tree: 1.917\n",
            "\n",
            "R-squared (R^2)\n",
            "Linear Regression: 0.075\n",
            "Random Forest: 0.296\n",
            "XGBoost: 0.285\n",
            "AdaBoost: 0.105\n",
            "SVM: 0.162\n",
            "ElasticNet: -0.001\n",
            "Decision Tree: -0.457\n",
            "\n"
          ]
        }
      ]
    },
    {
      "cell_type": "code",
      "source": [
        "# Plot the evaluation metrics\n",
        "bar_width = 0.3\n",
        "r1 = np.arange(len(mse_scores))\n",
        "r2 = [x + bar_width for x in r1]\n",
        "r3 = [x + bar_width for x in r2]\n",
        "\n",
        "plt.figure(figsize=(15, 6))\n",
        "plt.bar(r1, mse_scores, color='b', width=bar_width, edgecolor='black', label='MSE')\n",
        "plt.bar(r2, mae_scores, color='g', width=bar_width, edgecolor='black', label='MAE')\n",
        "plt.bar(r3, r2_scores, color='r', width=bar_width, edgecolor='black', label='R-squared')\n",
        "plt.xlabel('Models', fontsize=12)\n",
        "plt.ylabel('Scores', fontsize=12)\n",
        "plt.xticks([r + bar_width for r in range(len(mse_scores))], [model_name for _, model_name in models])\n",
        "plt.legend(loc='upper left')\n",
        "\n",
        "for i, mse, mae, r2 in zip(range(len(mse_scores)), mse_scores, mae_scores, r2_scores):\n",
        "    plt.text(i - 0.05, mse + 0.01, f'{mse:.3f}', color='black')\n",
        "    plt.text(i + bar_width - 0.05, mae + 0.01, f'{mae:.3f}', color='black')\n",
        "    plt.text(i + 2 * bar_width - 0.05, r2 + 0.01, f'{r2:.3f}', color='black')\n",
        "\n",
        "plt.show()"
      ],
      "metadata": {
        "id": "dFdEzGsAKa67",
        "colab": {
          "base_uri": "https://localhost:8080/",
          "height": 550
        },
        "outputId": "7df151ad-8f9a-4abd-82eb-1b00faa1aba9"
      },
      "execution_count": 149,
      "outputs": [
        {
          "output_type": "display_data",
          "data": {
            "text/plain": [
              "<Figure size 1500x600 with 1 Axes>"
            ],
            "image/png": "[encoded data removed]"
          },
          "metadata": {}
        }
      ]
    },
    {
      "cell_type": "markdown",
      "source": [
        "**Discussion for Iron Concentrate Prediction**"
      ],
      "metadata": {
        "id": "bKP7qoQbLz62"
      }
    },
    {
      "cell_type": "markdown",
      "source": [
        "- Random Forest model consistently outperforms the others in terms of Mean Squared Error (MSE), Mean Absolute Error (MAE), and R-squared (R^2).\n",
        "\n",
        "- The Random Forest model achieves the lowest MSE value of 3.066, indicating that its predictions have the smallest squared differences from the actual values on average. It also exhibits the lowest MAE value of 1.376, indicating the smallest average absolute differences between its predictions and the actual values. Furthermore, it obtains the highest R-squared value of 0.296, implying that it explains a larger portion of the variance in the data compared to the other models.\n",
        "\n",
        "- The other models, including Linear Regression, XGBoost, AdaBoost, SVM, ElasticNet, and Decision Tree, demonstrate relatively higher MSE and MAE values and lower R-squared values. This suggests that their predictions have larger errors, both in terms of squared differences and absolute differences, and they explain less variance in the data compared to the Random Forest model.\n",
        "\n",
        "- Random Forest model provides the most accurate and precise predictions, as well as a better understanding of the underlying patterns in the data. Therefore, the Random Forest model is the recommended choice for this particular dataset."
      ],
      "metadata": {
        "id": "Jb9SJr1BLz6-"
      }
    },
    {
      "cell_type": "markdown",
      "source": [
        "### **5.3. Overall Conclusion**"
      ],
      "metadata": {
        "id": "RdEbuoLzbVgn"
      }
    },
    {
      "cell_type": "markdown",
      "source": [
        "In this study, we compared the performance of various regression models, including Linear Regression, Random Forest Regression, XGBoost Regression, AdaBoost Regression, SVM Regression, ElasticNet Regression, and Decision Tree Regression, for predicting the concentrations of iron and silica in reverse froth foltation mineral processing output.\n",
        "\n",
        "Linear Regression, being a simpler model, exhibited decent predictive capability but had limitations in capturing complex nonlinear relationships within the dataset. Random Forest Regression and XGBoost Regression, as ensemble models, showcased better predictive accuracy, owing to their ability to capture complex interactions among features. AdaBoost Regression also showed promising results, leveraging the concept of boosting to improve prediction accuracy.\n",
        "\n",
        "Support Vector Machine (SVM) Regression demonstrated decent performance but lagged slightly behind the ensemble models. ElasticNet Regression, with its combination of L1 and L2 regularization, exhibited moderate predictive capability, striking a balance between linear and non-linear relationships. Decision Tree Regression performed adequately but was prone to overfitting the training data.\n",
        "\n",
        "Based on these results, engineers in the mineral processing industry can select the most appropriate model considering the trade-offs between prediction accuracy, interpretability, and computational complexity. Ensemble models such as Random Forest and XGBoost are recommended for accurate predictions, particularly when dealing with complex datasets. Linear Regression and SVM Regression can be suitable choices for applications that prioritize interpretability and simplicity."
      ],
      "metadata": {
        "id": "TtT6GhqSeu_Z"
      }
    }
  ],
  "metadata": {
    "accelerator": "GPU",
    "colab": {
      "provenance": [],
      "authorship_tag": "ABX9TyM5h153C6EF9dJMfceGjpw8",
      "include_colab_link": true
    },
    "gpuClass": "standard",
    "kernelspec": {
      "display_name": "Python 3",
      "name": "python3"
    },
    "language_info": {
      "name": "python"
    }
  },
  "nbformat": 4,
  "nbformat_minor": 0
}