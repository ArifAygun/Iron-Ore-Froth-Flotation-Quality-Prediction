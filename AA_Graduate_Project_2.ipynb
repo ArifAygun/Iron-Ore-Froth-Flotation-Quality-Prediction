{
  "cells": [
    {
      "cell_type": "markdown",
      "metadata": {
        "id": "view-in-github",
        "colab_type": "text"
      },
      "source": [
        "<a href=\"https://colab.research.google.com/github/ArifAygun/Iron-Ore-Froth-Flotation-Quality-Prediction/blob/main/AA_Graduate_Project_2.ipynb\" target=\"_parent\"><img src=\"https://colab.research.google.com/assets/colab-badge.svg\" alt=\"Open In Colab\"/></a>"
      ]
    },
    {
      "cell_type": "markdown",
      "metadata": {
        "id": "I99UP0oywvLl"
      },
      "source": [
        "# **Quality Prediction of Iron Ore Mining Flotation Process - Part:2**"
      ]
    },
    {
      "cell_type": "markdown",
      "metadata": {
        "id": "in9eB0oan8I8"
      },
      "source": [
        "### **Import Libraries and Modules**"
      ]
    },
    {
      "cell_type": "code",
      "execution_count": 67,
      "metadata": {
        "id": "ZWQKrdQ173zL"
      },
      "outputs": [],
      "source": [
        "import pandas as pd\n",
        "import numpy as np\n",
        "import seaborn as sns\n",
        "import matplotlib.pyplot as plt\n",
        "import statsmodels.api as sm\n",
        "import math\n",
        "import random\n",
        "import xgboost as xgb\n",
        "from sklearn.model_selection import train_test_split, KFold\n",
        "from sklearn.model_selection import cross_val_predict, cross_val_score\n",
        "from sklearn.linear_model import LinearRegression, ElasticNet\n",
        "from sklearn.metrics import mean_squared_error, mean_absolute_error, r2_score\n",
        "from sklearn.ensemble import RandomForestRegressor, AdaBoostRegressor\n",
        "from sklearn.preprocessing import StandardScaler, MinMaxScaler\n",
        "from sklearn.svm import SVR\n",
        "from sklearn.tree import DecisionTreeRegressor\n",
        "from sklearn.pipeline import Pipeline\n",
        "sns.set_theme(color_codes=True)"
      ]
    },
    {
      "cell_type": "markdown",
      "metadata": {
        "id": "Zg8iajc2xFrX"
      },
      "source": [
        "### **Import Dataset**"
      ]
    },
    {
      "cell_type": "code",
      "execution_count": 68,
      "metadata": {
        "id": "z6oIXclZ3LNo",
        "colab": {
          "base_uri": "https://localhost:8080/",
          "height": 241
        },
        "outputId": "43155ed8-632b-449a-ac61-15c82bc6519b"
      },
      "outputs": [
        {
          "output_type": "stream",
          "name": "stdout",
          "text": [
            "Drive already mounted at /content/drive/; to attempt to forcibly remount, call drive.mount(\"/content/drive/\", force_remount=True).\n",
            "/content/drive/My Drive/Flotation\n"
          ]
        },
        {
          "output_type": "execute_result",
          "data": {
            "text/plain": [
              "      iron_feed  silica_feed  starch_flow  amina_flow  pulp_flow   pulp_pH  \\\n",
              "996       51.94     5.535403   237.735278  271.463309   4.126561  0.797597   \n",
              "181       61.38     3.138593   256.524139  307.387324   3.618832  0.514297   \n",
              "2841      46.40     6.585586   509.796067  155.711699   5.113683  1.579420   \n",
              "1149      52.61     5.431691   395.701706  273.977840   3.994442  0.900256   \n",
              "1706      64.03     2.514573   422.225028  168.003010   3.310832  0.840807   \n",
              "\n",
              "      pulp_density    airflow      level  iron_conc  silica_conc  \n",
              "996       0.161265  55.774941   7.128749   4.123350     0.531405  \n",
              "181       0.234771   0.000000  25.146969   1.580029     1.152352  \n",
              "2841      0.129840  55.881791   1.670892   6.130879     0.954700  \n",
              "1149      0.222659  26.536947   4.810206   0.940940     1.181656  \n",
              "1706      0.000000  46.117046  19.312592   6.728282     0.057631  "
            ],
            "text/html": [
              "\n",
              "  <div id=\"df-15a53a4c-a9aa-4961-b3c6-2aa0490aed43\">\n",
              "    <div class=\"colab-df-container\">\n",
              "      <div>\n",
              "<style scoped>\n",
              "    .dataframe tbody tr th:only-of-type {\n",
              "        vertical-align: middle;\n",
              "    }\n",
              "\n",
              "    .dataframe tbody tr th {\n",
              "        vertical-align: top;\n",
              "    }\n",
              "\n",
              "    .dataframe thead th {\n",
              "        text-align: right;\n",
              "    }\n",
              "</style>\n",
              "<table border=\"1\" class=\"dataframe\">\n",
              "  <thead>\n",
              "    <tr style=\"text-align: right;\">\n",
              "      <th></th>\n",
              "      <th>iron_feed</th>\n",
              "      <th>silica_feed</th>\n",
              "      <th>starch_flow</th>\n",
              "      <th>amina_flow</th>\n",
              "      <th>pulp_flow</th>\n",
              "      <th>pulp_pH</th>\n",
              "      <th>pulp_density</th>\n",
              "      <th>airflow</th>\n",
              "      <th>level</th>\n",
              "      <th>iron_conc</th>\n",
              "      <th>silica_conc</th>\n",
              "    </tr>\n",
              "  </thead>\n",
              "  <tbody>\n",
              "    <tr>\n",
              "      <th>996</th>\n",
              "      <td>51.94</td>\n",
              "      <td>5.535403</td>\n",
              "      <td>237.735278</td>\n",
              "      <td>271.463309</td>\n",
              "      <td>4.126561</td>\n",
              "      <td>0.797597</td>\n",
              "      <td>0.161265</td>\n",
              "      <td>55.774941</td>\n",
              "      <td>7.128749</td>\n",
              "      <td>4.123350</td>\n",
              "      <td>0.531405</td>\n",
              "    </tr>\n",
              "    <tr>\n",
              "      <th>181</th>\n",
              "      <td>61.38</td>\n",
              "      <td>3.138593</td>\n",
              "      <td>256.524139</td>\n",
              "      <td>307.387324</td>\n",
              "      <td>3.618832</td>\n",
              "      <td>0.514297</td>\n",
              "      <td>0.234771</td>\n",
              "      <td>0.000000</td>\n",
              "      <td>25.146969</td>\n",
              "      <td>1.580029</td>\n",
              "      <td>1.152352</td>\n",
              "    </tr>\n",
              "    <tr>\n",
              "      <th>2841</th>\n",
              "      <td>46.40</td>\n",
              "      <td>6.585586</td>\n",
              "      <td>509.796067</td>\n",
              "      <td>155.711699</td>\n",
              "      <td>5.113683</td>\n",
              "      <td>1.579420</td>\n",
              "      <td>0.129840</td>\n",
              "      <td>55.881791</td>\n",
              "      <td>1.670892</td>\n",
              "      <td>6.130879</td>\n",
              "      <td>0.954700</td>\n",
              "    </tr>\n",
              "    <tr>\n",
              "      <th>1149</th>\n",
              "      <td>52.61</td>\n",
              "      <td>5.431691</td>\n",
              "      <td>395.701706</td>\n",
              "      <td>273.977840</td>\n",
              "      <td>3.994442</td>\n",
              "      <td>0.900256</td>\n",
              "      <td>0.222659</td>\n",
              "      <td>26.536947</td>\n",
              "      <td>4.810206</td>\n",
              "      <td>0.940940</td>\n",
              "      <td>1.181656</td>\n",
              "    </tr>\n",
              "    <tr>\n",
              "      <th>1706</th>\n",
              "      <td>64.03</td>\n",
              "      <td>2.514573</td>\n",
              "      <td>422.225028</td>\n",
              "      <td>168.003010</td>\n",
              "      <td>3.310832</td>\n",
              "      <td>0.840807</td>\n",
              "      <td>0.000000</td>\n",
              "      <td>46.117046</td>\n",
              "      <td>19.312592</td>\n",
              "      <td>6.728282</td>\n",
              "      <td>0.057631</td>\n",
              "    </tr>\n",
              "  </tbody>\n",
              "</table>\n",
              "</div>\n",
              "      <button class=\"colab-df-convert\" onclick=\"convertToInteractive('df-15a53a4c-a9aa-4961-b3c6-2aa0490aed43')\"\n",
              "              title=\"Convert this dataframe to an interactive table.\"\n",
              "              style=\"display:none;\">\n",
              "        \n",
              "  <svg xmlns=\"http://www.w3.org/2000/svg\" height=\"24px\"viewBox=\"0 0 24 24\"\n",
              "       width=\"24px\">\n",
              "    <path d=\"M0 0h24v24H0V0z\" fill=\"none\"/>\n",
              "    <path d=\"M18.56 5.44l.94 2.06.94-2.06 2.06-.94-2.06-.94-.94-2.06-.94 2.06-2.06.94zm-11 1L8.5 8.5l.94-2.06 2.06-.94-2.06-.94L8.5 2.5l-.94 2.06-2.06.94zm10 10l.94 2.06.94-2.06 2.06-.94-2.06-.94-.94-2.06-.94 2.06-2.06.94z\"/><path d=\"M17.41 7.96l-1.37-1.37c-.4-.4-.92-.59-1.43-.59-.52 0-1.04.2-1.43.59L10.3 9.45l-7.72 7.72c-.78.78-.78 2.05 0 2.83L4 21.41c.39.39.9.59 1.41.59.51 0 1.02-.2 1.41-.59l7.78-7.78 2.81-2.81c.8-.78.8-2.07 0-2.86zM5.41 20L4 18.59l7.72-7.72 1.47 1.35L5.41 20z\"/>\n",
              "  </svg>\n",
              "      </button>\n",
              "      \n",
              "  <style>\n",
              "    .colab-df-container {\n",
              "      display:flex;\n",
              "      flex-wrap:wrap;\n",
              "      gap: 12px;\n",
              "    }\n",
              "\n",
              "    .colab-df-convert {\n",
              "      background-color: #E8F0FE;\n",
              "      border: none;\n",
              "      border-radius: 50%;\n",
              "      cursor: pointer;\n",
              "      display: none;\n",
              "      fill: #1967D2;\n",
              "      height: 32px;\n",
              "      padding: 0 0 0 0;\n",
              "      width: 32px;\n",
              "    }\n",
              "\n",
              "    .colab-df-convert:hover {\n",
              "      background-color: #E2EBFA;\n",
              "      box-shadow: 0px 1px 2px rgba(60, 64, 67, 0.3), 0px 1px 3px 1px rgba(60, 64, 67, 0.15);\n",
              "      fill: #174EA6;\n",
              "    }\n",
              "\n",
              "    [theme=dark] .colab-df-convert {\n",
              "      background-color: #3B4455;\n",
              "      fill: #D2E3FC;\n",
              "    }\n",
              "\n",
              "    [theme=dark] .colab-df-convert:hover {\n",
              "      background-color: #434B5C;\n",
              "      box-shadow: 0px 1px 3px 1px rgba(0, 0, 0, 0.15);\n",
              "      filter: drop-shadow(0px 1px 2px rgba(0, 0, 0, 0.3));\n",
              "      fill: #FFFFFF;\n",
              "    }\n",
              "  </style>\n",
              "\n",
              "      <script>\n",
              "        const buttonEl =\n",
              "          document.querySelector('#df-15a53a4c-a9aa-4961-b3c6-2aa0490aed43 button.colab-df-convert');\n",
              "        buttonEl.style.display =\n",
              "          google.colab.kernel.accessAllowed ? 'block' : 'none';\n",
              "\n",
              "        async function convertToInteractive(key) {\n",
              "          const element = document.querySelector('#df-15a53a4c-a9aa-4961-b3c6-2aa0490aed43');\n",
              "          const dataTable =\n",
              "            await google.colab.kernel.invokeFunction('convertToInteractive',\n",
              "                                                     [key], {});\n",
              "          if (!dataTable) return;\n",
              "\n",
              "          const docLinkHtml = 'Like what you see? Visit the ' +\n",
              "            '<a target=\"_blank\" href=https://colab.research.google.com/notebooks/data_table.ipynb>data table notebook</a>'\n",
              "            + ' to learn more about interactive tables.';\n",
              "          element.innerHTML = '';\n",
              "          dataTable['output_type'] = 'display_data';\n",
              "          await google.colab.output.renderOutput(dataTable, element);\n",
              "          const docLink = document.createElement('div');\n",
              "          docLink.innerHTML = docLinkHtml;\n",
              "          element.appendChild(docLink);\n",
              "        }\n",
              "      </script>\n",
              "    </div>\n",
              "  </div>\n",
              "  "
            ]
          },
          "metadata": {},
          "execution_count": 68
        }
      ],
      "source": [
        "from google.colab import drive\n",
        "drive.mount('/content/drive/')\n",
        "%cd /content/drive/My Drive/Flotation/\n",
        "\n",
        "flotation = pd.read_csv('flotation_corrected.csv')\n",
        "flotation.sample(5)"
      ]
    },
    {
      "cell_type": "markdown",
      "metadata": {
        "id": "ff8nnt1muDMk"
      },
      "source": [
        "## **5. Machine Learning Models**"
      ]
    },
    {
      "cell_type": "markdown",
      "metadata": {
        "id": "dCrpXC4q2zif"
      },
      "source": [
        "### **5.1. Splitting Dataset**"
      ]
    },
    {
      "cell_type": "markdown",
      "metadata": {
        "id": "i_e8S9p1bWnu"
      },
      "source": [
        "**Split Dataset as X and y**"
      ]
    },
    {
      "cell_type": "code",
      "execution_count": 69,
      "metadata": {
        "colab": {
          "base_uri": "https://localhost:8080/"
        },
        "id": "3vs_5o3badpC",
        "outputId": "171dad56-d7e9-4200-cd38-a655e6031604"
      },
      "outputs": [
        {
          "output_type": "stream",
          "name": "stdout",
          "text": [
            "Shape of X: (4097, 9)\n",
            "Shape of y_Si: (4097,)\n",
            "Shape of y_Fe: (4097,)\n"
          ]
        }
      ],
      "source": [
        "X = flotation.drop(['silica_conc', 'iron_conc'], axis=1)\n",
        "y_Si = flotation['silica_conc']\n",
        "y_Fe = flotation['iron_conc']\n",
        "\n",
        "print(\"Shape of X:\", X.shape)\n",
        "print(\"Shape of y_Si:\", y_Si.shape)\n",
        "print(\"Shape of y_Fe:\", y_Fe.shape)\n"
      ]
    },
    {
      "cell_type": "markdown",
      "metadata": {
        "id": "Rgv5bKob2Wj6"
      },
      "source": [
        "### **5.2. Models For Silica Concentrate**"
      ]
    },
    {
      "cell_type": "markdown",
      "metadata": {
        "id": "PIAZ3P8Akbfl"
      },
      "source": [
        "**Split into train, validation, and test set**"
      ]
    },
    {
      "cell_type": "code",
      "execution_count": 70,
      "metadata": {
        "colab": {
          "base_uri": "https://localhost:8080/"
        },
        "id": "5qXjqF0SbvnM",
        "outputId": "41dc9449-8377-4031-9375-2c7e1e31d7ef"
      },
      "outputs": [
        {
          "output_type": "stream",
          "name": "stdout",
          "text": [
            "(3277, 9) (410, 9) (410, 9)\n"
          ]
        }
      ],
      "source": [
        "X_train, X_val, y_train, y_val = train_test_split(X, y_Si, test_size=0.2, random_state=42)\n",
        "X_val, X_test, y_val, y_test = train_test_split(X_val, y_val, test_size=0.5, random_state=42)\n",
        "\n",
        "print(X_train.shape, X_val.shape, X_test.shape)"
      ]
    },
    {
      "cell_type": "markdown",
      "source": [
        "**Pipelines for models**"
      ],
      "metadata": {
        "id": "YW4fRLttJ7R1"
      }
    },
    {
      "cell_type": "code",
      "source": [
        "# Define the models and their corresponding names\n",
        "models = [(LinearRegression(), 'Linear Regression'),\n",
        "          (RandomForestRegressor(), 'Random Forest'),\n",
        "          (xgb.XGBRegressor(), 'XGBoost'),\n",
        "          (AdaBoostRegressor(), 'AdaBoost'),\n",
        "          (SVR(), 'SVM'), (ElasticNet(), 'ElasticNet'),\n",
        "          (DecisionTreeRegressor(), 'Decision Tree')]\n",
        "    \n",
        "# Create an empty list to store the evaluation scores\n",
        "mse_scores = []\n",
        "mae_scores = []\n",
        "r2_scores = []\n",
        "\n",
        "# Iterate over the models\n",
        "for model, model_name in models:\n",
        "    pipeline = Pipeline([\n",
        "        ('scaler', MinMaxScaler()),\n",
        "        ('regressor', model)])\n",
        "    \n",
        "    # Fit the pipeline to the training data\n",
        "    pipeline.fit(X_train, y_train)\n",
        "    \n",
        "    # Predict on the validation data\n",
        "    val_pred = pipeline.predict(X_val)\n",
        "    \n",
        "    # Calculate evaluation metrics\n",
        "    mse = mean_squared_error(y_val, val_pred)\n",
        "    mae = mean_absolute_error(y_val, val_pred)\n",
        "    r2 = r2_score(y_val, val_pred)\n",
        "    \n",
        "    # Append the scores to the lists\n",
        "    mse_scores.append(mse)\n",
        "    mae_scores.append(mae)\n",
        "    r2_scores.append(r2)\n",
        "\n",
        "# Display the evaluation metric scores\n",
        "print(\"Mean Squared Error (MSE):\")\n",
        "for model_name, mse in zip([model_name for _, model_name in models], mse_scores):\n",
        "    print(f\"{model_name}: {mse:.3f}\")\n",
        "\n",
        "print(\"\\nMean Absolute Error (MAE):\")\n",
        "for model_name, mae in zip([model_name for _, model_name in models], mae_scores):\n",
        "    print(f\"{model_name}: {mae:.3f}\")\n",
        "\n",
        "print(\"\\nR-squared (R^2):\")\n",
        "for model_name, r2 in zip([model_name for _, model_name in models], r2_scores):\n",
        "    print(f\"{model_name}: {r2:.3f}\")"
      ],
      "metadata": {
        "colab": {
          "base_uri": "https://localhost:8080/"
        },
        "id": "v40su5GAGp8V",
        "outputId": "d6df71e3-84cf-455a-94c8-c1eaeb039cad"
      },
      "execution_count": 71,
      "outputs": [
        {
          "output_type": "stream",
          "name": "stdout",
          "text": [
            "Mean Squared Error (MSE):\n",
            "Linear Regression: 0.102\n",
            "Random Forest: 0.073\n",
            "XGBoost: 0.077\n",
            "AdaBoost: 0.098\n",
            "SVM: 0.085\n",
            "ElasticNet: 0.110\n",
            "Decision Tree: 0.145\n",
            "\n",
            "Mean Absolute Error (MAE):\n",
            "Linear Regression: 0.266\n",
            "Random Forest: 0.222\n",
            "XGBoost: 0.224\n",
            "AdaBoost: 0.263\n",
            "SVM: 0.236\n",
            "ElasticNet: 0.275\n",
            "Decision Tree: 0.297\n",
            "\n",
            "R-squared (R^2):\n",
            "Linear Regression: 0.064\n",
            "Random Forest: 0.329\n",
            "XGBoost: 0.287\n",
            "AdaBoost: 0.102\n",
            "SVM: 0.217\n",
            "ElasticNet: -0.010\n",
            "Decision Tree: -0.333\n"
          ]
        }
      ]
    },
    {
      "cell_type": "code",
      "source": [
        "# Plot the evaluation metrics\n",
        "bar_width = 0.3\n",
        "r1 = np.arange(len(mse_scores))\n",
        "r2 = [x + bar_width for x in r1]\n",
        "r3 = [x + bar_width for x in r2]\n",
        "\n",
        "plt.figure(figsize=(15, 6))\n",
        "plt.bar(r1, mse_scores, color='b', width=bar_width, edgecolor='black', label='MSE')\n",
        "plt.bar(r2, mae_scores, color='g', width=bar_width, edgecolor='black', label='MAE')\n",
        "plt.bar(r3, r2_scores, color='r', width=bar_width, edgecolor='black', label='R-squared')\n",
        "plt.xlabel('Models', fontsize=12)\n",
        "plt.ylabel('Scores', fontsize=12)\n",
        "plt.xticks([r + bar_width for r in range(len(mse_scores))], [model_name for _, model_name in models])\n",
        "plt.legend(loc='lower left')\n",
        "\n",
        "for i, mse, mae, r2 in zip(range(len(mse_scores)), mse_scores, mae_scores, r2_scores):\n",
        "    plt.text(i - 0.05, mse + 0.01, f'{mse:.3f}', color='black')\n",
        "    plt.text(i + bar_width - 0.05, mae + 0.01, f'{mae:.3f}', color='black')\n",
        "    plt.text(i + 2 * bar_width - 0.05, r2 + 0.01, f'{r2:.3f}', color='black')\n",
        "\n",
        "plt.show()"
      ],
      "metadata": {
        "colab": {
          "base_uri": "https://localhost:8080/",
          "height": 550
        },
        "id": "kgA2vAOfGp8f",
        "outputId": "2872620a-37a3-485c-87a7-e0972bac6039"
      },
      "execution_count": 72,
      "outputs": [
        {
          "output_type": "display_data",
          "data": {
            "text/plain": [
              "<Figure size 1500x600 with 1 Axes>"
            ],
            "image/png": "[encoded data removed]"
          },
          "metadata": {}
        }
      ]
    },
    {
      "cell_type": "markdown",
      "source": [
        "**Discussion for Silica Concentrate Prediction**"
      ],
      "metadata": {
        "id": "gOc6ESdaLkOn"
      }
    },
    {
      "cell_type": "markdown",
      "source": [
        "The Random Forest model achieves the lowest Mean Squared Error (MSE) of 0.073, indicating that its predictions have the smallest squared differences from the actual values on average. It also obtains the lowest Mean Absolute Error (MAE) of 0.222, indicating the smallest average absolute differences between its predictions and the actual values. Moreover, it exhibits the highest R-squared (R^2) value of 0.329, indicating that it explains a larger portion of the variance in the data compared to the other models.\n",
        "\n",
        "XGBoost model performs exceptionally well with a low MSE of 0.077, a low MAE of 0.224, and a high R^2 of 0.287. These metrics demonstrate its accuracy, precision, and ability to capture the underlying patterns in the data.\n",
        "\n",
        "Linear Regression, AdaBoost, SVM, ElasticNet, and Decision Tree models also achieve relatively lower MSE and MAE values compared to the other models, they exhibit lower R^2 values. This suggests that they explain less of the variance in the data and may not capture the underlying relationships as effectively.\n",
        "\n",
        "Both the Random Forest and XGBoost models are strong choices for this dataset, as they consistently outperform the other models in terms of accuracy, precision, and variance explanation."
      ],
      "metadata": {
        "id": "mBsQp6MvLTy0"
      }
    },
    {
      "cell_type": "markdown",
      "source": [
        "### **5.2. Models For Iron Concentrate**"
      ],
      "metadata": {
        "id": "UWdj_aIYAovd"
      }
    },
    {
      "cell_type": "markdown",
      "metadata": {
        "id": "DNHOlmWdBUc9"
      },
      "source": [
        "**Split into train, validation, and test set**"
      ]
    },
    {
      "cell_type": "code",
      "execution_count": 73,
      "metadata": {
        "id": "kL6-mAdfBUc9",
        "colab": {
          "base_uri": "https://localhost:8080/"
        },
        "outputId": "85f07288-f1f3-43bf-da08-31dfced37bb2"
      },
      "outputs": [
        {
          "output_type": "stream",
          "name": "stdout",
          "text": [
            "(3277, 9) (410, 9) (410, 9)\n"
          ]
        }
      ],
      "source": [
        "X_train, X_val, y_train, y_val = train_test_split(X, y_Fe, test_size=0.2, random_state=42)\n",
        "X_val, X_test, y_val, y_test = train_test_split(X_val, y_val, test_size=0.5, random_state=42)\n",
        "\n",
        "print(X_train.shape, X_val.shape, X_test.shape)"
      ]
    },
    {
      "cell_type": "markdown",
      "source": [
        "**Pipelines for models**"
      ],
      "metadata": {
        "id": "g0TT4YtgKa6x"
      }
    },
    {
      "cell_type": "code",
      "source": [
        "# Define the models and their corresponding names\n",
        "models = [(LinearRegression(), 'Linear Regression'),\n",
        "          (RandomForestRegressor(), 'Random Forest'),\n",
        "          (xgb.XGBRegressor(), 'XGBoost'),\n",
        "          (AdaBoostRegressor(), 'AdaBoost'),\n",
        "          (SVR(), 'SVM'), (ElasticNet(), 'ElasticNet'),\n",
        "          (DecisionTreeRegressor(), 'Decision Tree')]\n",
        "    \n",
        "# Create an empty list to store the evaluation scores\n",
        "mse_scores = []\n",
        "mae_scores = []\n",
        "r2_scores = []\n",
        "\n",
        "# Iterate over the models\n",
        "for model, model_name in models:\n",
        "    pipeline = Pipeline([\n",
        "        ('scaler', MinMaxScaler()),\n",
        "        ('regressor', model)])\n",
        "    \n",
        "    # Fit the pipeline to the training data\n",
        "    pipeline.fit(X_train, y_train)\n",
        "    \n",
        "    # Predict on the validation data\n",
        "    val_pred = pipeline.predict(X_val)\n",
        "    \n",
        "    # Calculate evaluation metrics\n",
        "    mse = mean_squared_error(y_val, val_pred)\n",
        "    mae = mean_absolute_error(y_val, val_pred)\n",
        "    r2 = r2_score(y_val, val_pred)\n",
        "    \n",
        "    # Append the scores to the lists\n",
        "    mse_scores.append(mse)\n",
        "    mae_scores.append(mae)\n",
        "    r2_scores.append(r2)\n",
        "\n",
        "# Display the evaluation metric scores\n",
        "print(\"Mean Squared Error (MSE):\")\n",
        "for model_name, mse in zip([model_name for _, model_name in models], mse_scores):\n",
        "    print(f\"{model_name}: {mse:.3f}\")\n",
        "\n",
        "print(\"\\nMean Absolute Error (MAE):\")\n",
        "for model_name, mae in zip([model_name for _, model_name in models], mae_scores):\n",
        "    print(f\"{model_name}: {mae:.3f}\")\n",
        "\n",
        "print(\"\\nR-squared (R^2):\")\n",
        "for model_name, r2 in zip([model_name for _, model_name in models], r2_scores):\n",
        "    print(f\"{model_name}: {r2:.3f}\")"
      ],
      "metadata": {
        "id": "KFVorafGKa67",
        "colab": {
          "base_uri": "https://localhost:8080/"
        },
        "outputId": "438a939a-8e90-48d1-e871-22b1fa3d1d67"
      },
      "execution_count": 74,
      "outputs": [
        {
          "output_type": "stream",
          "name": "stdout",
          "text": [
            "Mean Squared Error (MSE):\n",
            "Linear Regression: 4.031\n",
            "Random Forest: 3.069\n",
            "XGBoost: 3.115\n",
            "AdaBoost: 3.768\n",
            "SVM: 3.672\n",
            "ElasticNet: 4.361\n",
            "Decision Tree: 6.050\n",
            "\n",
            "Mean Absolute Error (MAE):\n",
            "Linear Regression: 1.640\n",
            "Random Forest: 1.392\n",
            "XGBoost: 1.409\n",
            "AdaBoost: 1.588\n",
            "SVM: 1.524\n",
            "ElasticNet: 1.681\n",
            "Decision Tree: 1.853\n",
            "\n",
            "R-squared (R^2):\n",
            "Linear Regression: 0.075\n",
            "Random Forest: 0.296\n",
            "XGBoost: 0.285\n",
            "AdaBoost: 0.135\n",
            "SVM: 0.157\n",
            "ElasticNet: -0.001\n",
            "Decision Tree: -0.388\n"
          ]
        }
      ]
    },
    {
      "cell_type": "code",
      "source": [
        "# Plot the evaluation metrics\n",
        "bar_width = 0.3\n",
        "r1 = np.arange(len(mse_scores))\n",
        "r2 = [x + bar_width for x in r1]\n",
        "r3 = [x + bar_width for x in r2]\n",
        "\n",
        "plt.figure(figsize=(15, 6))\n",
        "plt.bar(r1, mse_scores, color='b', width=bar_width, edgecolor='black', label='MSE')\n",
        "plt.bar(r2, mae_scores, color='g', width=bar_width, edgecolor='black', label='MAE')\n",
        "plt.bar(r3, r2_scores, color='r', width=bar_width, edgecolor='black', label='R-squared')\n",
        "plt.xlabel('Models', fontsize=12)\n",
        "plt.ylabel('Scores', fontsize=12)\n",
        "plt.xticks([r + bar_width for r in range(len(mse_scores))], [model_name for _, model_name in models])\n",
        "plt.legend(loc='upper left')\n",
        "\n",
        "for i, mse, mae, r2 in zip(range(len(mse_scores)), mse_scores, mae_scores, r2_scores):\n",
        "    plt.text(i - 0.05, mse + 0.01, f'{mse:.3f}', color='black')\n",
        "    plt.text(i + bar_width - 0.05, mae + 0.01, f'{mae:.3f}', color='black')\n",
        "    plt.text(i + 2 * bar_width - 0.05, r2 + 0.01, f'{r2:.3f}', color='black')\n",
        "\n",
        "plt.show()"
      ],
      "metadata": {
        "id": "dFdEzGsAKa67",
        "colab": {
          "base_uri": "https://localhost:8080/",
          "height": 550
        },
        "outputId": "5c34c0e9-c4ae-48cc-97fe-71279ed66b24"
      },
      "execution_count": 75,
      "outputs": [
        {
          "output_type": "display_data",
          "data": {
            "text/plain": [
              "<Figure size 1500x600 with 1 Axes>"
            ],
            "image/png": "[encoded data removed]"
          },
          "metadata": {}
        }
      ]
    },
    {
      "cell_type": "markdown",
      "source": [
        "**Discussion for Iron Concentrate Prediction**"
      ],
      "metadata": {
        "id": "bKP7qoQbLz62"
      }
    },
    {
      "cell_type": "markdown",
      "source": [
        "- Random Forest model consistently outperforms the others in terms of Mean Squared Error (MSE), Mean Absolute Error (MAE), and R-squared (R^2).\n",
        "\n",
        "- The Random Forest model achieves the lowest MSE value of 3.069, indicating that its predictions have the smallest squared differences from the actual values on average. It also exhibits the lowest MAE value of 1.392, indicating the smallest average absolute differences between its predictions and the actual values. Furthermore, it obtains the highest R-squared value of 0.296, implying that it explains a larger portion of the variance in the data compared to the other models.\n",
        "\n",
        "- The other models, including Linear Regression, XGBoost, AdaBoost, SVM, ElasticNet, and Decision Tree, demonstrate relatively higher MSE and MAE values and lower R-squared values. This suggests that their predictions have larger errors, both in terms of squared differences and absolute differences, and they explain less variance in the data compared to the Random Forest model.\n",
        "\n",
        "- Random Forest model provides the most accurate and precise predictions, as well as a better understanding of the underlying patterns in the data. Therefore, the Random Forest model is the recommended choice for this particular dataset."
      ],
      "metadata": {
        "id": "Jb9SJr1BLz6-"
      }
    },
    {
      "cell_type": "markdown",
      "source": [
        "### **5.3. Overall Conclusion**"
      ],
      "metadata": {
        "id": "RdEbuoLzbVgn"
      }
    },
    {
      "cell_type": "markdown",
      "source": [
        "In this study, we compared the performance of various regression models, including Linear Regression, Random Forest Regression, XGBoost Regression, AdaBoost Regression, SVM Regression, ElasticNet Regression, and Decision Tree Regression, for predicting the concentrations of iron and silica in reverse froth foltation mineral processing output.\n",
        "\n",
        "Linear Regression, being a simpler model, exhibited decent predictive capability but had limitations in capturing complex nonlinear relationships within the dataset. Random Forest Regression and XGBoost Regression, as ensemble models, showcased better predictive accuracy, owing to their ability to capture complex interactions among features. AdaBoost Regression also showed promising results, leveraging the concept of boosting to improve prediction accuracy.\n",
        "\n",
        "Support Vector Machine (SVM) Regression demonstrated decent performance but lagged slightly behind the ensemble models. ElasticNet Regression, with its combination of L1 and L2 regularization, exhibited moderate predictive capability, striking a balance between linear and non-linear relationships. Decision Tree Regression performed adequately but was prone to overfitting the training data.\n",
        "\n",
        "Based on these results, engineers in the mineral processing industry can select the most appropriate model considering the trade-offs between prediction accuracy, interpretability, and computational complexity. Ensemble models such as Random Forest and XGBoost are recommended for accurate predictions, particularly when dealing with complex datasets. Linear Regression and SVM Regression can be suitable choices for applications that prioritize interpretability and simplicity."
      ],
      "metadata": {
        "id": "TtT6GhqSeu_Z"
      }
    }
  ],
  "metadata": {
    "accelerator": "GPU",
    "colab": {
      "provenance": [],
      "authorship_tag": "ABX9TyNvnP4MWMCE6Nwz6885JTR0",
      "include_colab_link": true
    },
    "gpuClass": "standard",
    "kernelspec": {
      "display_name": "Python 3",
      "name": "python3"
    },
    "language_info": {
      "name": "python"
    }
  },
  "nbformat": 4,
  "nbformat_minor": 0
}