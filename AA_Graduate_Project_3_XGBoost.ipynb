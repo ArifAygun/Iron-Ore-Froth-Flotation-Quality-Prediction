{
  "cells": [
    {
      "cell_type": "markdown",
      "metadata": {
        "id": "view-in-github",
        "colab_type": "text"
      },
      "source": [
        "<a href=\"https://colab.research.google.com/github/ArifAygun/Iron-Ore-Froth-Flotation-Quality-Prediction/blob/main/AA_Graduate_Project_3_XGBoost.ipynb\" target=\"_parent\"><img src=\"https://colab.research.google.com/assets/colab-badge.svg\" alt=\"Open In Colab\"/></a>"
      ]
    },
    {
      "cell_type": "markdown",
      "metadata": {
        "id": "I99UP0oywvLl"
      },
      "source": [
        "# **Quality Prediction of Iron Ore Mining Flotation Process - Part:3**"
      ]
    },
    {
      "cell_type": "markdown",
      "source": [
        "# **Machine Learning Models**"
      ],
      "metadata": {
        "id": "ff8nnt1muDMk"
      }
    },
    {
      "cell_type": "markdown",
      "metadata": {
        "id": "in9eB0oan8I8"
      },
      "source": [
        "### **Import Libraries and Modules**"
      ]
    },
    {
      "cell_type": "code",
      "execution_count": 1,
      "metadata": {
        "id": "ZWQKrdQ173zL"
      },
      "outputs": [],
      "source": [
        "import pandas as pd\n",
        "import numpy as np\n",
        "import seaborn as sns\n",
        "import matplotlib.pyplot as plt\n",
        "import statsmodels.api as sm\n",
        "import math\n",
        "import random\n",
        "import xgboost as xgb\n",
        "from sklearn.preprocessing import StandardScaler\n",
        "from sklearn.model_selection import train_test_split\n",
        "from sklearn.linear_model import LinearRegression\n",
        "from sklearn.metrics import mean_squared_error, r2_score\n",
        "from sklearn.ensemble import RandomForestRegressor\n"
      ]
    },
    {
      "cell_type": "markdown",
      "metadata": {
        "id": "Zg8iajc2xFrX"
      },
      "source": [
        "### **Import and Divide Dataset**"
      ]
    },
    {
      "cell_type": "code",
      "execution_count": 2,
      "metadata": {
        "colab": {
          "base_uri": "https://localhost:8080/"
        },
        "id": "z6oIXclZ3LNo",
        "outputId": "f2cc7dcb-46f0-4d48-c4f8-26810fac4a6b"
      },
      "outputs": [
        {
          "output_type": "stream",
          "name": "stdout",
          "text": [
            "Mounted at /content/drive/\n",
            "/content/drive/My Drive/Flotation\n"
          ]
        }
      ],
      "source": [
        "from google.colab import drive\n",
        "drive.mount('/content/drive/')\n",
        "%cd /content/drive/My Drive/Flotation/\n",
        "\n",
        "flotation_conditions = pd.read_csv('flotation_conditions.csv')\n",
        "concentrates = pd.read_csv('concentrates.csv')\n",
        "iron_concentrate = pd.read_csv('iron_concentrate.csv')\n",
        "silica_concentrate = pd.read_csv('silica_concentrate.csv')"
      ]
    },
    {
      "cell_type": "markdown",
      "source": [
        "## **9. Multi Linear Regressor**"
      ],
      "metadata": {
        "id": "OabgNx70LxB0"
      }
    },
    {
      "cell_type": "code",
      "source": [
        "#train test split for regression training and testing \n",
        "X_train, X_test, y_train, y_test = train_test_split(flotation_conditions, concentrates,\n",
        "                                                    test_size=0.20, random_state=0)"
      ],
      "metadata": {
        "id": "ySNHa76JLfc_"
      },
      "execution_count": 3,
      "outputs": []
    },
    {
      "cell_type": "code",
      "source": [
        "mlr = LinearRegression()\n",
        "mlr.fit(X_train, y_train)\n",
        "\n",
        "y_pred_mlr = mlr.predict(X_test)\n",
        "r2_score_mlr = r2_score(y_test, y_pred_mlr)\n",
        "mse_mlr = mean_squared_error(y_test, y_pred_mlr)\n",
        "\n",
        "print('R2 Score of Multi Linear Regression:', r2_score_mlr)\n",
        "print('Mean Squared Error (MSE) of Multi Linear Regression:', mse_mlr)\n"
      ],
      "metadata": {
        "colab": {
          "base_uri": "https://localhost:8080/"
        },
        "id": "DSfYhR2bMU7p",
        "outputId": "4ca19ff0-0e4c-4d2a-d817-8bb13ef4535f"
      },
      "execution_count": 4,
      "outputs": [
        {
          "output_type": "stream",
          "name": "stdout",
          "text": [
            "R2 Score of Multi Linear Regression: 0.18662737342875502\n",
            "Mean Squared Error (MSE) of Multi Linear Regression: 1.0400152994837892\n"
          ]
        }
      ]
    },
    {
      "cell_type": "markdown",
      "source": [
        "- R2 Score: R2 score of the Multi Linear Regression model is 0.187. This indicates that approximately 18.7% of the variance in the target variable is explained by the independent variables included in the model.\n",
        "\n",
        "- Mean Squared Error: MSE of the Multi Linear Regression model is 1.040. A lower MSE value indicates better accuracy, meaning that the predicted values are closer to the actual values on average.\n",
        "\n",
        "Considering the R2 score of 0.187, it suggests that the Multi Linear Regression model might not be a very good fit for the data. This means that the independent variables included in the model might not have a strong linear relationship with the target variable, or there might be other factors that the model is not capturing. Additionally, the relatively high MSE value of 1.040 indicates that the model's predictions have a relatively high average squared difference from the actual values."
      ],
      "metadata": {
        "id": "XqMMfKaDS374"
      }
    },
    {
      "cell_type": "markdown",
      "source": [
        "## **10. Random Forest Regressor**"
      ],
      "metadata": {
        "id": "jyf_Tfb0ODO1"
      }
    },
    {
      "cell_type": "code",
      "source": [
        "rf1 = RandomForestRegressor(random_state = 0, n_estimators = 100)  \n",
        "rf1.fit(X_train,y_train) \n",
        "y_pred_rf = rf1.predict(X_test)"
      ],
      "metadata": {
        "id": "FkVf1LgAO4Ez"
      },
      "execution_count": 5,
      "outputs": []
    },
    {
      "cell_type": "code",
      "source": [
        "rf2 = RandomForestRegressor(random_state = 0, n_estimators = 100)  \n",
        "rf2.fit(flotation_conditions,concentrates)\n",
        "y_pred_rf2 = rf1.predict(flotation_conditions)"
      ],
      "metadata": {
        "id": "8fvIQVjzPUrI"
      },
      "execution_count": 6,
      "outputs": []
    },
    {
      "cell_type": "code",
      "source": [
        "print('R2 Score of Random Forest Regression with Train-Test Split',r2_score(y_test,y_pred_rf))\n",
        "print('R2 Score of Random Forest Regression with Whole Data',r2_score(concentrates,y_pred_rf2))"
      ],
      "metadata": {
        "colab": {
          "base_uri": "https://localhost:8080/"
        },
        "id": "6dzPlxvuQGyM",
        "outputId": "5d17b91d-6bbb-4132-f5f7-717eda77484e"
      },
      "execution_count": 7,
      "outputs": [
        {
          "output_type": "stream",
          "name": "stdout",
          "text": [
            "R2 Score of Random Forest Regression with Train-Test Split 0.326715411986887\n",
            "R2 Score of Random Forest Regression with Whole Data 0.7883449853154547\n"
          ]
        }
      ]
    },
    {
      "cell_type": "markdown",
      "source": [
        "The Random Forest Regression model achieves a higher R2 score compared to the Multi Linear Regression model, indicating better performance in capturing the underlying patterns and relationships in the data. The R2 score of 0.3267 for the train-test split suggests that the model can explain approximately 32.67% of the variability in the target variable, while the R2 score of 0.7883 for the whole dataset suggests that the model can explain approximately 78.83% of the variability."
      ],
      "metadata": {
        "id": "knpiZGgNTvwY"
      }
    },
    {
      "cell_type": "markdown",
      "source": [
        "### **10.1. Random Forest Model for Iron Concentrate**"
      ],
      "metadata": {
        "id": "2Qb24ICNQYQZ"
      }
    },
    {
      "cell_type": "code",
      "source": [
        "regressor_Fe = RandomForestRegressor(random_state=0, n_estimators=100)\n",
        "regressor_Fe.fit(flotation_conditions, iron_concentrate.values.ravel())\n",
        "y_pred_Fe = regressor_Fe.predict(flotation_conditions)\n",
        "\n",
        "r2_score_Fe = r2_score(iron_concentrate, y_pred_Fe)\n",
        "mse_Fe = mean_squared_error(iron_concentrate, y_pred_Fe)\n",
        "\n",
        "print('R2 Score of Random Forest Regression for Iron Concentrate:', r2_score_Fe)\n",
        "print('Mean Squared Error (MSE) of Random Forest Regression for Iron Concentrate:', mse_Fe)\n"
      ],
      "metadata": {
        "colab": {
          "base_uri": "https://localhost:8080/"
        },
        "id": "xgBBUpX8rE3Y",
        "outputId": "15c93963-23b0-4ec3-b77b-aab828eb75fe"
      },
      "execution_count": 8,
      "outputs": [
        {
          "output_type": "stream",
          "name": "stdout",
          "text": [
            "R2 Score of Random Forest Regression for Iron Concentrate: 0.9089028341021771\n",
            "Mean Squared Error (MSE) of Random Forest Regression for Iron Concentrate: 0.11385778613603315\n"
          ]
        }
      ]
    },
    {
      "cell_type": "markdown",
      "source": [
        "The Random Forest Regression model for predicting the Iron Concentrate has achieved a high R2 score of 0.909. This indicates that the model can explain approximately 91% of the variability in the Iron Concentrate based on the provided features. A high R2 score suggests that the model is able to effectively capture the patterns and relationships in the data, resulting in accurate predictions.\n",
        "\n",
        "The MSE of 0.1139 suggests that, on average, the squared difference between the predicted and actual iron concentrate values is relatively small. This indicates that the model's predictions are generally close to the actual values, indicating good accuracy."
      ],
      "metadata": {
        "id": "SpkWdrr7UAdX"
      }
    },
    {
      "cell_type": "markdown",
      "source": [
        "### **10.2. Random Forest Model for Silica Concentrate**"
      ],
      "metadata": {
        "id": "9aG69nzsRpXD"
      }
    },
    {
      "cell_type": "code",
      "source": [
        "regressor_Si = RandomForestRegressor(random_state=0, n_estimators=100)\n",
        "regressor_Si.fit(flotation_conditions, silica_concentrate.values.ravel())\n",
        "y_pred_Si = regressor_Si.predict(flotation_conditions)\n",
        "\n",
        "r2_score_Si = r2_score(silica_concentrate, y_pred_Si)\n",
        "mse_Si = mean_squared_error(silica_concentrate, y_pred_Si)\n",
        "\n",
        "print('R2 Score of Random Forest Regression for Silica Concentrate:', r2_score_Si)\n",
        "print('Mean Squared Error (MSE) of Random Forest Regression for Silica Concentrate:', mse_Si)\n"
      ],
      "metadata": {
        "colab": {
          "base_uri": "https://localhost:8080/"
        },
        "id": "yxnhG3WFsCrs",
        "outputId": "89006b7d-3ad4-4872-bf0d-69446180ae42"
      },
      "execution_count": 9,
      "outputs": [
        {
          "output_type": "stream",
          "name": "stdout",
          "text": [
            "R2 Score of Random Forest Regression for Silica Concentrate: 0.9100704799723327\n",
            "Mean Squared Error (MSE) of Random Forest Regression for Silica Concentrate: 0.11374115782077435\n"
          ]
        }
      ]
    },
    {
      "cell_type": "markdown",
      "source": [
        "The R2 score of 0.91 for the Random Forest Regression model predicting the Silica Concentrate suggests that approximately 91% of the variance in the Silica Concentrate can be explained by the given flotation conditions. This indicates a strong correlation between the predictor variables and the Silica Concentrate.\n",
        "\n",
        "Similarly, the Mean Squared Error (MSE) of 0.1137 indicates that, on average, the squared difference between the predicted and actual Silica Concentrate values is relatively small. This suggests that the model's predictions are generally accurate and close to the actual values.\n",
        "\n",
        "Both the R2 score and MSE indicate that the Random Forest Regression model performs well in predicting the Silica Concentrate based on the provided flotation conditions. These results suggest that the model captures the underlying patterns and relationships effectively."
      ],
      "metadata": {
        "id": "lUKlhpAdUhiN"
      }
    },
    {
      "cell_type": "markdown",
      "source": [
        "## **11. XGBoost Regression**"
      ],
      "metadata": {
        "id": "r5MX_GUsliDe"
      }
    },
    {
      "cell_type": "markdown",
      "source": [
        "### **11.1. XGBoost Regression For Iron Concentrate**"
      ],
      "metadata": {
        "id": "jYl6n1-dmIOg"
      }
    },
    {
      "cell_type": "code",
      "source": [
        "# Create an XGBoost regression model\n",
        "regressor = xgb.XGBRegressor(objective='reg:squarederror', random_state=0)\n",
        "# You can adjust other hyperparameters of XGBoost if needed\n",
        "\n",
        "# Fit the XGBoost regression model\n",
        "regressor.fit(flotation_conditions, iron_concentrate.values.ravel())\n",
        "\n",
        "# Generate predictions\n",
        "y_pred = regressor.predict(flotation_conditions)\n",
        "\n",
        "# Calculate evaluation metrics\n",
        "r2_score_XGB = r2_score(iron_concentrate, y_pred)\n",
        "mse_XGB = mean_squared_error(iron_concentrate, y_pred)\n",
        "\n",
        "print('R2 Score of XGBoost Regression for Iron Concentrate:', r2_score_XGB)\n",
        "print('Mean Squared Error (MSE) of XGBoost Regression for Iron Concentrate:', mse_XGB)"
      ],
      "metadata": {
        "colab": {
          "base_uri": "https://localhost:8080/"
        },
        "id": "OSj_8NKmlUWL",
        "outputId": "0bf616af-ffb1-41db-a999-e8d2aaeac2c4"
      },
      "execution_count": 10,
      "outputs": [
        {
          "output_type": "stream",
          "name": "stdout",
          "text": [
            "R2 Score of XGBoost Regression for Iron Concentrate: 0.9419023057944114\n",
            "Mean Squared Error (MSE) of XGBoost Regression for Iron Concentrate: 0.07261339885453721\n"
          ]
        }
      ]
    },
    {
      "cell_type": "markdown",
      "source": [
        "The XGBoost Regression model achieved an R2 score of 0.942, indicating that it explains approximately 94.2% of the variance in the Iron Concentrate data. A higher R2 score suggests that the model fits the data well.\n",
        "\n",
        "The Mean Squared Error (MSE) for the XGBoost Regression model is 0.073, which represents the average squared difference between the predicted and actual Iron Concentrate values. A lower MSE indicates better predictive accuracy.\n"
      ],
      "metadata": {
        "id": "ivOJz6JJl-3x"
      }
    },
    {
      "cell_type": "markdown",
      "source": [
        "### **11.2. XGBoost Regression For Silica Concentrate**"
      ],
      "metadata": {
        "id": "W9caw4xjmVYf"
      }
    },
    {
      "cell_type": "code",
      "source": [
        "# Create an XGBoost regression model\n",
        "regressor = xgb.XGBRegressor(objective='reg:squarederror', random_state=0)\n",
        "# You can adjust other hyperparameters of XGBoost if needed\n",
        "\n",
        "# Fit the XGBoost regression model\n",
        "regressor.fit(flotation_conditions, silica_concentrate.values.ravel())\n",
        "\n",
        "# Generate predictions\n",
        "y_pred = regressor.predict(flotation_conditions)\n",
        "\n",
        "# Calculate evaluation metrics\n",
        "r2_score_XGB = r2_score(silica_concentrate, y_pred)\n",
        "mse_XGB = mean_squared_error(silica_concentrate, y_pred)\n",
        "\n",
        "print('R2 Score of XGBoost Regression for Silica Concentrate:', r2_score_XGB)\n",
        "print('Mean Squared Error (MSE) of XGBoost Regression for Silica Concentrate:', mse_XGB)"
      ],
      "metadata": {
        "colab": {
          "base_uri": "https://localhost:8080/"
        },
        "id": "rAc4i5BBmzq3",
        "outputId": "e8b1af64-d784-4d34-a8af-da70d934149d"
      },
      "execution_count": 11,
      "outputs": [
        {
          "output_type": "stream",
          "name": "stdout",
          "text": [
            "R2 Score of XGBoost Regression for Silica Concentrate: 0.9474644776615195\n",
            "Mean Squared Error (MSE) of XGBoost Regression for Silica Concentrate: 0.06644593605814353\n"
          ]
        }
      ]
    },
    {
      "cell_type": "markdown",
      "source": [
        "The XGBoost Regression model achieved an R2 score of 0.947 for the Silica Concentrate, indicating that it explains approximately 94.7% of the variance in the Silica Concentrate data. This high R2 score suggests that the model fits the data very well and can effectively predict the Silica Concentrate values.\n",
        "\n",
        "The Mean Squared Error (MSE) for the XGBoost Regression model is 0.066, which represents the average squared difference between the predicted and actual Silica Concentrate values. The lower MSE indicates that the model has good predictive accuracy and is able to provide accurate predictions of the Silica Concentrate values."
      ],
      "metadata": {
        "id": "FAc6qklFnMeG"
      }
    },
    {
      "cell_type": "code",
      "source": [
        "data = {'Model': ['Random Forest', 'XGBoost'],\n",
        "        'Concentrate': ['Iron Concentrate', 'Silica Concentrate'],\n",
        "        'R2 Score': [0.909, 0.942],\n",
        "        'MSE': [0.114, 0.073]}\n",
        "df = pd.DataFrame(data)\n",
        "print(df.to_string(index=False))"
      ],
      "metadata": {
        "colab": {
          "base_uri": "https://localhost:8080/"
        },
        "id": "pqoagCKLozzM",
        "outputId": "ab965fdf-c3cd-43ad-e3ab-da7028875977"
      },
      "execution_count": 12,
      "outputs": [
        {
          "output_type": "stream",
          "name": "stdout",
          "text": [
            "        Model        Concentrate  R2 Score   MSE\n",
            "Random Forest   Iron Concentrate     0.909 0.114\n",
            "      XGBoost Silica Concentrate     0.942 0.073\n"
          ]
        }
      ]
    },
    {
      "cell_type": "markdown",
      "source": [
        "- R2 Score: Higher R2 scores (closer to 1) indicate a better fit of the model to the data. The R2 scores obtained for the respective regression models are 0.909 for \"Random Forest\" and 0.942 for \"XGBoost\".\n",
        "\n",
        "- MSE: Lower MSE values indicate better accuracy of the regression models. The MSE values obtained for the respective regression models are 0.114 for \"Random Forest\" and 0.073 for \"XGBoost\".\n",
        "- The results indicate that both regression models (Random Forest and XGBoost) perform well in predicting the concentrations of iron and silica. The XGBoost model shows slightly higher R2 scores and lower MSE values, suggesting that it may provide better predictive performance for both types of concentrate. "
      ],
      "metadata": {
        "id": "-5vwDszorQfy"
      }
    }
  ],
  "metadata": {
    "accelerator": "GPU",
    "colab": {
      "provenance": [],
      "authorship_tag": "ABX9TyPUDcJg8fn1zjZw0cKKdpFt",
      "include_colab_link": true
    },
    "gpuClass": "standard",
    "kernelspec": {
      "display_name": "Python 3",
      "name": "python3"
    },
    "language_info": {
      "name": "python"
    }
  },
  "nbformat": 4,
  "nbformat_minor": 0
}